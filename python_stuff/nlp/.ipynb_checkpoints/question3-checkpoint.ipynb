{
 "cells": [
  {
   "cell_type": "markdown",
   "id": "e396c547-2e3b-4ded-88b6-73b639365d36",
   "metadata": {},
   "source": [
    "#### 0. Imports\n",
    "##### Author: Michal Kubina"
   ]
  },
  {
   "cell_type": "markdown",
   "id": "96ec52c5-eba0-42e1-b264-343a8c379695",
   "metadata": {},
   "source": [
    "Question: What sets a pop song apart from other genres? Are there any features of pop songs?"
   ]
  },
  {
   "cell_type": "code",
   "execution_count": 221,
   "id": "dfb3addf-294c-42d9-9d51-6572c48a5a57",
   "metadata": {},
   "outputs": [],
   "source": [
    "import pandas as pd\n",
    "import spacy\n",
    "from sklearn.feature_extraction.text import TfidfVectorizer\n",
    "from tqdm.auto import tqdm\n",
    "from sklearn.model_selection import train_test_split\n",
    "from sklearn.feature_extraction.text import CountVectorizer\n",
    "from sklearn.linear_model import LogisticRegression\n",
    "from sklearn.metrics import classification_report\n",
    "from imblearn.over_sampling import SMOTE\n",
    "from imblearn.under_sampling import RandomUnderSampler \n",
    "import collections\n",
    "nlp = spacy.load(\"en_core_web_sm\")\n",
    "from warnings import simplefilter\n",
    "from sklearn.exceptions import ConvergenceWarning\n",
    "simplefilter(\"ignore\", category=ConvergenceWarning)\n",
    "from sklearn import metrics\n",
    "import matplotlib.pyplot as plt\n",
    "from IPython.display import display_html\n",
    "import plotly.express as px"
   ]
  },
  {
   "cell_type": "markdown",
   "id": "239206b0-06ea-4408-ae71-6b2060fc71b3",
   "metadata": {},
   "source": [
    "#### 1. Operationalization"
   ]
  },
  {
   "cell_type": "markdown",
   "id": "a9b5ae21-a555-4628-b383-c46d89cb0d38",
   "metadata": {},
   "source": [
    "First, let me start by describing the data set. We have data on genres and lyrics and this is the only information I am going to need. Looking at the question, if pop songs/genre can be distinguished from other genres/songs, I believe that this can be answered by training a logistic regression model and seeing the significant coefficients and corresponding words for pop genre. When considering the specific lyrics, we can try to classify them and see the probability of the new lyrics being in the pop category or not. Another approach could be to use an already pretrained model e.g. BERT. I assume the accuracy and evaluation metrics such as precision, recall or f1-score, will be better with BERT than with logistic regression. However, the interpretability of results is worse than with logistic regression. Thus, I will favour the logistic regression model.\n",
    "\n",
    "Moreover, I will start by preprocessing the data with five different ways to get vector representations of lyrics. I will use tfidf, bag words, a bag of words with stop words removed, and finally two ways are done with spacy.\n",
    "\n",
    "Consequently, I will create two data sets one with pop and notpop binary labels and the other with all the labels. The first model binary model is sufficient for my analysis but for explorative purposes, I will also look at the classifications with multiple labels, but I can already assume that it will not be efficient. I will also divide these data into test and train set with stratification which means keeping the label distribution the same in train and test sets. Moreover, I will not undersample (at the start!) my data in order not to lose any information even though the processing time might be too long. Also, I will look into the possibility to use synthetic generation of data or undersampling on train set because, in binary data set, the pop is underrepresented. I will leave the test set as it is in order to keep the original distribution of data https://en.wikipedia.org/wiki/Oversampling_and_undersampling_in_data_analysis. "
   ]
  },
  {
   "cell_type": "code",
   "execution_count": 2,
   "id": "983be73e-52b5-48f1-a078-97c4f865fe97",
   "metadata": {},
   "outputs": [
    {
     "data": {
      "text/html": [
       "<div>\n",
       "<style scoped>\n",
       "    .dataframe tbody tr th:only-of-type {\n",
       "        vertical-align: middle;\n",
       "    }\n",
       "\n",
       "    .dataframe tbody tr th {\n",
       "        vertical-align: top;\n",
       "    }\n",
       "\n",
       "    .dataframe thead th {\n",
       "        text-align: right;\n",
       "    }\n",
       "</style>\n",
       "<table border=\"1\" class=\"dataframe\">\n",
       "  <thead>\n",
       "    <tr style=\"text-align: right;\">\n",
       "      <th></th>\n",
       "      <th>Unnamed: 0</th>\n",
       "      <th>index</th>\n",
       "      <th>song</th>\n",
       "      <th>year</th>\n",
       "      <th>artist</th>\n",
       "      <th>genre</th>\n",
       "      <th>lyrics</th>\n",
       "    </tr>\n",
       "  </thead>\n",
       "  <tbody>\n",
       "    <tr>\n",
       "      <th>0</th>\n",
       "      <td>0</td>\n",
       "      <td>0</td>\n",
       "      <td>ego-remix</td>\n",
       "      <td>2009</td>\n",
       "      <td>beyonce-knowles</td>\n",
       "      <td>Pop</td>\n",
       "      <td>Oh baby how you doing You know I'm gonna cut r...</td>\n",
       "    </tr>\n",
       "    <tr>\n",
       "      <th>1</th>\n",
       "      <td>1</td>\n",
       "      <td>1</td>\n",
       "      <td>then-tell-me</td>\n",
       "      <td>2009</td>\n",
       "      <td>beyonce-knowles</td>\n",
       "      <td>Pop</td>\n",
       "      <td>playin everything so easy it's like you seem s...</td>\n",
       "    </tr>\n",
       "  </tbody>\n",
       "</table>\n",
       "</div>"
      ],
      "text/plain": [
       "   Unnamed: 0  index          song  year           artist genre  \\\n",
       "0           0      0     ego-remix  2009  beyonce-knowles   Pop   \n",
       "1           1      1  then-tell-me  2009  beyonce-knowles   Pop   \n",
       "\n",
       "                                              lyrics  \n",
       "0  Oh baby how you doing You know I'm gonna cut r...  \n",
       "1  playin everything so easy it's like you seem s...  "
      ]
     },
     "metadata": {},
     "output_type": "display_data"
    },
    {
     "name": "stdout",
     "output_type": "stream",
     "text": [
      "Rock          100053\n",
      "Pop            34137\n",
      "Hip-Hop        22654\n",
      "Metal          21210\n",
      "Country        14158\n",
      "Jazz            7310\n",
      "Electronic      6942\n",
      "Other           3786\n",
      "R&B             3336\n",
      "Indie           2935\n",
      "Folk            1689\n",
      "Name: genre, dtype: int64\n"
     ]
    },
    {
     "data": {
      "text/html": [
       "<div>\n",
       "<style scoped>\n",
       "    .dataframe tbody tr th:only-of-type {\n",
       "        vertical-align: middle;\n",
       "    }\n",
       "\n",
       "    .dataframe tbody tr th {\n",
       "        vertical-align: top;\n",
       "    }\n",
       "\n",
       "    .dataframe thead th {\n",
       "        text-align: right;\n",
       "    }\n",
       "</style>\n",
       "<table border=\"1\" class=\"dataframe\">\n",
       "  <thead>\n",
       "    <tr style=\"text-align: right;\">\n",
       "      <th></th>\n",
       "      <th>genre</th>\n",
       "      <th>lyrics</th>\n",
       "    </tr>\n",
       "  </thead>\n",
       "  <tbody>\n",
       "    <tr>\n",
       "      <th>0</th>\n",
       "      <td>Pop</td>\n",
       "      <td>Oh baby how you doing You know I'm gonna cut r...</td>\n",
       "    </tr>\n",
       "    <tr>\n",
       "      <th>1</th>\n",
       "      <td>Pop</td>\n",
       "      <td>playin everything so easy it's like you seem s...</td>\n",
       "    </tr>\n",
       "  </tbody>\n",
       "</table>\n",
       "</div>"
      ],
      "text/plain": [
       "  genre                                             lyrics\n",
       "0   Pop  Oh baby how you doing You know I'm gonna cut r...\n",
       "1   Pop  playin everything so easy it's like you seem s..."
      ]
     },
     "metadata": {},
     "output_type": "display_data"
    }
   ],
   "source": [
    "data = pd.read_csv(\"english_cleaned_lyrics.csv\") #load data without fix of years - we do not need it\n",
    "display(data.head(2)) #display the head of data frame\n",
    "print(data.genre.value_counts())\n",
    "data = data.iloc[:, 5:] #drop unused columns \n",
    "display(data.head(2))"
   ]
  },
  {
   "cell_type": "markdown",
   "id": "db86b370-d8f6-42d1-b28e-4d54d4330957",
   "metadata": {},
   "source": [
    "#### 2. Preprocessing"
   ]
  },
  {
   "cell_type": "markdown",
   "id": "1ae8bb99-91cc-4c5e-9fe6-5c69ad7bb937",
   "metadata": {},
   "source": [
    "##### a) multivariate logistic regression"
   ]
  },
  {
   "cell_type": "markdown",
   "id": "a13d04b3-8e17-4918-ad71-2563030d4438",
   "metadata": {},
   "source": [
    "divide data to train a test split:"
   ]
  },
  {
   "cell_type": "code",
   "execution_count": 3,
   "id": "789df082-eea6-4e07-ad05-ef8c12de1ce1",
   "metadata": {},
   "outputs": [],
   "source": [
    "x_train, x_test, y_train, y_test = train_test_split(data.lyrics.values, data.genre.values, test_size=0.2, stratify = data.genre.values)\n",
    "#above i am splitting the data set to 80 percent of train set and 20 percent of test"
   ]
  },
  {
   "cell_type": "markdown",
   "id": "4631f72e-0ad0-4bdc-a973-848c740c233f",
   "metadata": {},
   "source": [
    "Define functions to vectorize the texts:"
   ]
  },
  {
   "cell_type": "code",
   "execution_count": 4,
   "id": "900c537f-5a06-4e65-834c-8d054ddc9b32",
   "metadata": {},
   "outputs": [],
   "source": [
    "def get_tfidf(train, test):\n",
    "    \"\"\"\n",
    "    returns tfid of lyrics\n",
    "\n",
    "    Parameters\n",
    "    ----------\n",
    "    train : list\n",
    "        list of lyrics\n",
    "    \n",
    "    test : list\n",
    "        list of lyrics\n",
    "        \n",
    "    Returns\n",
    "    -------   \n",
    "    transformed trained set of vectors\n",
    "    transformed test set of vectors\n",
    "    \"\"\"\n",
    "    tfidf = TfidfVectorizer() #initialise instance of tfidf vectorizer class \n",
    "    tfidf.fit(train) # create the vocabulary\n",
    "    return tfidf.transform(train), tfidf.transform(test) #return transformed train and test set\n",
    "\n",
    "def get_bow_stops(train, test):\n",
    "    \"\"\"\n",
    "    returns vector bag of words representation of lyrics where stop words are removed\n",
    "\n",
    "    Parameters\n",
    "    ----------\n",
    "    train : list\n",
    "        list of lyrics\n",
    "    \n",
    "    test : list\n",
    "        list of lyrics\n",
    "        \n",
    "    Returns\n",
    "    -------   \n",
    "    transformed trained set of vectors\n",
    "    transformed test set of vectors\n",
    "    \"\"\"\n",
    "    stop_words = ['a', 'about', 'above', 'after', 'again', 'against', 'all', 'am', 'an', 'and', 'any', 'are', \"aren't\", 'as', 'at', 'be', 'because', 'been', 'before', 'being', 'below', 'between', 'both', 'but', 'by', \"can't\", 'cannot', 'could', \"couldn't\", 'did', \"didn't\", 'do', 'does', \"doesn't\", 'doing', \"don't\", 'down', 'during', 'each', 'few', 'for', 'from', 'further', 'had', \"hadn't\", 'has', \"hasn't\", 'have', \"haven't\", 'having', 'he', \"he'd\", \"he'll\", \"he's\", 'her', 'here', \"here's\", 'hers', 'herself', 'him', 'himself', 'his', 'how', \"how's\", 'i', \"i'd\", \"i'll\", \"i'm\", \"i've\", 'if', 'in', 'into', 'is', \"isn't\", 'it', \"it's\", 'its', 'itself', \"let's\", 'me', 'more', 'most', \"mustn't\", 'my', 'myself', 'no', 'nor', 'not', 'of', 'off', 'on', 'once', 'only', 'or', 'other', 'ought', 'our', 'ours', 'ourselves', 'out', 'over', 'own', 'same', \"shan't\", 'she', \"she'd\", \"she'll\", \"she's\", 'should', \"shouldn't\", 'so', 'some', 'such', 'than', 'that', \"that's\", 'the', 'their', 'theirs', 'them', 'themselves', 'then', 'there', \"there's\", 'these', 'they', \"they'd\", \"they'll\", \"they're\", \"they've\", 'this', 'those', 'through', 'to', 'too', 'under', 'until', 'up', 'very', 'was', \"wasn't\", 'we', \"we'd\", \"we'll\", \"we're\", \"we've\", 'were', \"weren't\", 'what', \"what's\", 'when', \"when's\", 'where', \"where's\", 'which', 'while', 'who', \"who's\", 'whom', 'why', \"why's\", 'with', \"won't\", 'would', \"wouldn't\", 'you', \"you'd\", \"you'll\", \"you're\", \"you've\", 'your', 'yours', 'yourself', 'yourselves']\n",
    "    MIN_DF = 5 # only keep words that occur more than five times\n",
    "    MAX_DF = 0.8 # only keep words that occur in less then 80% of the documents\n",
    "    cv = CountVectorizer(stop_words=stop_words,\n",
    "                      min_df=MIN_DF,\n",
    "                      max_df=MAX_DF) #init counter \n",
    "\n",
    "    cv.fit(train) #create vocabulary\n",
    "    return cv.transform(train), cv.transform(test) #return transformed train and test set\n",
    "\n",
    "def get_bow(train, test):\n",
    "    \"\"\"\n",
    "    returns vector bag of words representation of lyrics\n",
    "\n",
    "    Parameters\n",
    "    ----------\n",
    "    train : list\n",
    "        list of lyrics\n",
    "    \n",
    "    test : list\n",
    "        list of lyrics\n",
    "        \n",
    "    Returns\n",
    "    -------   \n",
    "    transformed trained set of vectors\n",
    "    transformed test set of vectors\n",
    "    \"\"\"\n",
    "    cv = CountVectorizer() # init counter\n",
    "    cv.fit(train) #create vocabulary\n",
    "    return cv.transform(train), cv.transform(test)  #return transformed train and test set\n",
    "\n",
    "\n",
    "def get_spacy(train, test):\n",
    "    \"\"\"\n",
    "    returns two types vector of words representation of lyrics where the tokenization is done via spacy\n",
    "\n",
    "    Parameters\n",
    "    ----------\n",
    "    train : list\n",
    "        list of lyrics\n",
    "    \n",
    "    test : list\n",
    "        list of lyrics\n",
    "        \n",
    "    Returns\n",
    "    -------   \n",
    "    transformed trained set of vectors\n",
    "    transformed test set of vectors\n",
    "    \"\"\"\n",
    "    processed_texts_train = [text for text in tqdm(nlp.pipe(train, disable=[\"ner\", \"parser\"]), total=len(train))] #process train set via spacy\n",
    "    tokenized_texts_train = [[word.text.lower() for word in text if not word.is_punct] \n",
    "                        for text in processed_texts_train] #tokenize the train set by removing punctuation and lowering the words\n",
    "    tokenized_texts_train1 = [[word.lemma for word in text if not word.is_stop] \n",
    "                        for text in processed_texts_train] #tokenize the train set by removing stopowords and keeping lemmas\n",
    "    processed_texts_test = [text for text in tqdm(nlp.pipe(test, disable=[\"ner\", \"parser\"]), total = len(test))] #process test set via spacy\n",
    "    tokenized_texts_test = [[word.text.lower() for word in text if not word.is_punct] \n",
    "                        for text in processed_texts_test] #tokenize the test set by removing punctuation and lowering the words\n",
    "    tokenized_texts_test1 = [[word.lemma for word in text if not word.is_stop] \n",
    "                        for text in processed_texts_test] #tokenize the test set by removing stopowords and keeping lemmas\n",
    "    \n",
    "    cv_spacy = CountVectorizer(tokenizer= lambda x:x, preprocessor=lambda x:x) \n",
    "    return cv_spacy.fit_transform(tokenized_texts_train), cv_spacy.transform(tokenized_texts_test), cv_spacy.fit_transform(tokenized_texts_train1), cv_spacy.transform(tokenized_texts_test1)  #return transformed train and test set\n"
   ]
  },
  {
   "cell_type": "code",
   "execution_count": 5,
   "id": "ff6a1b60-30d8-4a6f-a0dd-538e722a3b50",
   "metadata": {},
   "outputs": [
    {
     "name": "stderr",
     "output_type": "stream",
     "text": [
      "/Users/michalkubina/opt/anaconda3/lib/python3.8/site-packages/sklearn/feature_extraction/text.py:388: UserWarning: Your stop_words may be inconsistent with your preprocessing. Tokenizing the stop words generated tokens ['aren', 'can', 'couldn', 'didn', 'doesn', 'don', 'hadn', 'hasn', 'haven', 'isn', 'let', 'll', 'mustn', 're', 'shan', 'shouldn', 've', 'wasn', 'weren', 'won', 'wouldn'] not in stop_words.\n",
      "  warnings.warn('Your stop_words may be inconsistent with '\n"
     ]
    },
    {
     "data": {
      "application/vnd.jupyter.widget-view+json": {
       "model_id": "865966e97f9941cfb08b5c10ed2a19eb",
       "version_major": 2,
       "version_minor": 0
      },
      "text/plain": [
       "  0%|          | 0/174568 [00:00<?, ?it/s]"
      ]
     },
     "metadata": {},
     "output_type": "display_data"
    },
    {
     "data": {
      "application/vnd.jupyter.widget-view+json": {
       "model_id": "7e24592aa62a4c6082e3eb6a0f02ada9",
       "version_major": 2,
       "version_minor": 0
      },
      "text/plain": [
       "  0%|          | 0/43642 [00:00<?, ?it/s]"
      ]
     },
     "metadata": {},
     "output_type": "display_data"
    }
   ],
   "source": [
    "dic = {} #initialize dictionary\n",
    "dic['tf_train'], dic['tf_test'] = get_tfidf(x_train, x_test) #get vector representation of lyrics by tfidf document represantion\n",
    "dic['bow_train'], dic['bow_test'] = get_bow(x_train, x_test) #get vector representation of lyrics by bow document represantion\n",
    "dic['bow_train_stops'], dic['bow_test_stop'] = get_bow_stops(x_train, x_test) #get vector representation of lyrics by bow document represantion without stop words\n",
    "dic['sc_train_puns'], dic['sc_test_puns'], dic[\"sc_train_lems\"], dic[\"sc_test_lems\"]  = get_spacy(x_train, x_test) #get two different representations of lyrics by using spacy"
   ]
  },
  {
   "cell_type": "code",
   "execution_count": 174,
   "id": "c446be77-1a2b-48da-890d-069ec0c67d1a",
   "metadata": {},
   "outputs": [],
   "source": [
    "def fit_predict_lgr(x_train, y_train, x_test, y_test):\n",
    "    \"\"\"\n",
    "    Returns model and classified vector\n",
    "\n",
    "    Parameters\n",
    "    ----------\n",
    "    x_train : sparse matrix\n",
    "        vectors of lyrics train set\n",
    "    y_train : sparse matrix\n",
    "        labels of train set\n",
    "    x_test : sparse matrix\n",
    "        vectors of lyrics test set\n",
    "    y_test : sparse matrix\n",
    "        labels of test set\n",
    "    Returns\n",
    "    -------   \n",
    "    lr : logictis regression model\n",
    "    y_pred : list of classified labels\n",
    "    \"\"\"\n",
    "    lr = LogisticRegression(solver='lbfgs', max_iter=1000) #set max iterations up to be able to get the possibility of convergence\n",
    "    lr.fit(x_train, y_train) #fit the model\n",
    "\n",
    "    y_pred = lr.predict(x_test) #predict the labels on test set\n",
    "\n",
    "    print(classification_report(y_test, y_pred)) #print classification matrix\n",
    "    return lr, y_pred #return model and predicted labels"
   ]
  },
  {
   "cell_type": "code",
   "execution_count": 101,
   "id": "ccd42239-a6d0-429d-86ee-36ad3578a048",
   "metadata": {},
   "outputs": [
    {
     "name": "stdout",
     "output_type": "stream",
     "text": [
      "tfidf preprocessing: \n"
     ]
    },
    {
     "name": "stderr",
     "output_type": "stream",
     "text": [
      "/Users/michalkubina/opt/anaconda3/lib/python3.8/site-packages/sklearn/metrics/_classification.py:1245: UndefinedMetricWarning: Precision and F-score are ill-defined and being set to 0.0 in labels with no predicted samples. Use `zero_division` parameter to control this behavior.\n",
      "  _warn_prf(average, modifier, msg_start, len(result))\n",
      "/Users/michalkubina/opt/anaconda3/lib/python3.8/site-packages/sklearn/metrics/_classification.py:1245: UndefinedMetricWarning: Precision and F-score are ill-defined and being set to 0.0 in labels with no predicted samples. Use `zero_division` parameter to control this behavior.\n",
      "  _warn_prf(average, modifier, msg_start, len(result))\n",
      "/Users/michalkubina/opt/anaconda3/lib/python3.8/site-packages/sklearn/metrics/_classification.py:1245: UndefinedMetricWarning: Precision and F-score are ill-defined and being set to 0.0 in labels with no predicted samples. Use `zero_division` parameter to control this behavior.\n",
      "  _warn_prf(average, modifier, msg_start, len(result))\n"
     ]
    },
    {
     "name": "stdout",
     "output_type": "stream",
     "text": [
      "              precision    recall  f1-score   support\n",
      "\n",
      "     Country       0.50      0.28      0.36      2832\n",
      "  Electronic       0.40      0.03      0.06      1388\n",
      "        Folk       1.00      0.00      0.01       338\n",
      "     Hip-Hop       0.82      0.74      0.78      4531\n",
      "       Indie       0.00      0.00      0.00       587\n",
      "        Jazz       0.42      0.16      0.23      1462\n",
      "       Metal       0.71      0.55      0.62      4242\n",
      "       Other       0.06      0.00      0.01       757\n",
      "         Pop       0.44      0.30      0.36      6827\n",
      "         R&B       0.78      0.02      0.04       667\n",
      "        Rock       0.59      0.87      0.70     20011\n",
      "\n",
      "    accuracy                           0.60     43642\n",
      "   macro avg       0.52      0.27      0.29     43642\n",
      "weighted avg       0.57      0.60      0.55     43642\n",
      "\n",
      "bow preprocessing\n",
      "              precision    recall  f1-score   support\n",
      "\n",
      "     Country       0.44      0.21      0.28      2832\n",
      "  Electronic       0.32      0.04      0.06      1388\n",
      "        Folk       0.20      0.01      0.02       338\n",
      "     Hip-Hop       0.81      0.72      0.76      4531\n",
      "       Indie       0.09      0.00      0.00       587\n",
      "        Jazz       0.32      0.09      0.14      1462\n",
      "       Metal       0.68      0.50      0.57      4242\n",
      "       Other       0.21      0.02      0.03       757\n",
      "         Pop       0.47      0.29      0.36      6827\n",
      "         R&B       0.21      0.02      0.03       667\n",
      "        Rock       0.58      0.88      0.70     20011\n",
      "\n",
      "    accuracy                           0.59     43642\n",
      "   macro avg       0.39      0.25      0.27     43642\n",
      "weighted avg       0.55      0.59      0.54     43642\n",
      "\n",
      "bow without stopwrods preprocessing\n",
      "              precision    recall  f1-score   support\n",
      "\n",
      "     Country       0.46      0.27      0.34      2832\n",
      "  Electronic       0.28      0.06      0.10      1388\n",
      "        Folk       0.29      0.07      0.11       338\n",
      "     Hip-Hop       0.80      0.72      0.76      4531\n",
      "       Indie       0.07      0.01      0.02       587\n",
      "        Jazz       0.35      0.16      0.22      1462\n",
      "       Metal       0.66      0.51      0.58      4242\n",
      "       Other       0.13      0.03      0.05       757\n",
      "         Pop       0.45      0.29      0.35      6827\n",
      "         R&B       0.27      0.07      0.12       667\n",
      "        Rock       0.59      0.84      0.69     20011\n",
      "\n",
      "    accuracy                           0.58     43642\n",
      "   macro avg       0.40      0.28      0.30     43642\n",
      "weighted avg       0.55      0.58      0.54     43642\n",
      "\n",
      "spacy preprocessing no punctuations\n",
      "              precision    recall  f1-score   support\n",
      "\n",
      "     Country       0.44      0.15      0.22      2832\n",
      "  Electronic       0.40      0.03      0.05      1388\n",
      "        Folk       0.00      0.00      0.00       338\n",
      "     Hip-Hop       0.84      0.70      0.76      4531\n",
      "       Indie       0.00      0.00      0.00       587\n",
      "        Jazz       0.30      0.05      0.09      1462\n",
      "       Metal       0.70      0.44      0.54      4242\n",
      "       Other       0.17      0.00      0.01       757\n",
      "         Pop       0.48      0.27      0.34      6827\n",
      "         R&B       0.25      0.01      0.01       667\n",
      "        Rock       0.56      0.90      0.69     20011\n",
      "\n",
      "    accuracy                           0.58     43642\n",
      "   macro avg       0.38      0.23      0.25     43642\n",
      "weighted avg       0.55      0.58      0.52     43642\n",
      "\n",
      "spacy preprocessing with lemmatisation\n",
      "              precision    recall  f1-score   support\n",
      "\n",
      "     Country       0.46      0.25      0.33      2832\n",
      "  Electronic       0.32      0.06      0.11      1388\n",
      "        Folk       0.25      0.08      0.12       338\n",
      "     Hip-Hop       0.83      0.72      0.77      4531\n",
      "       Indie       0.17      0.02      0.04       587\n",
      "        Jazz       0.34      0.16      0.22      1462\n",
      "       Metal       0.67      0.50      0.58      4242\n",
      "       Other       0.13      0.03      0.05       757\n",
      "         Pop       0.44      0.30      0.36      6827\n",
      "         R&B       0.31      0.08      0.13       667\n",
      "        Rock       0.59      0.85      0.69     20011\n",
      "\n",
      "    accuracy                           0.58     43642\n",
      "   macro avg       0.41      0.28      0.31     43642\n",
      "weighted avg       0.55      0.58      0.54     43642\n",
      "\n"
     ]
    }
   ],
   "source": [
    "print(\"tfidf preprocessing: \")\n",
    "x,y = fit_predict_lgr(dic[\"tf_train\"], y_train, dic[\"tf_test\"], y_test)\n",
    "print(\"bow preprocessing\")\n",
    "x,y = fit_predict_lgr(dic[\"bow_train\"], y_train, dic[\"bow_test\"], y_test)\n",
    "print(\"bow without stopwrods preprocessing\")\n",
    "x,y = fit_predict_lgr(dic[\"bow_train_stops\"], y_train, dic[\"bow_test_stop\"], y_test)\n",
    "print(\"spacy preprocessing no punctuations\")\n",
    "x,y = fit_predict_lgr(dic[\"sc_train_puns\"], y_train, dic[\"sc_test_puns\"], y_test)\n",
    "print(\"spacy preprocessing with lemmatisation\")\n",
    "x,y = fit_predict_lgr(dic[\"sc_train_lems\"], y_train, dic[\"sc_test_lems\"], y_test)"
   ]
  },
  {
   "cell_type": "markdown",
   "id": "554cc084-4a74-4dac-8a97-f91b11f2f0b3",
   "metadata": {},
   "source": [
    "Above we see very bad results with logistic regression when comparing all the labels. Sometimes we did not even achieve convervenge even with more iterations. Thus, I will now explore the possibility to rename all other genres as non pop."
   ]
  },
  {
   "cell_type": "markdown",
   "id": "b8c2815b-2aac-43ec-acb7-a5fef5811154",
   "metadata": {},
   "source": [
    "##### b) Binary classification using logistic regression"
   ]
  },
  {
   "cell_type": "code",
   "execution_count": 54,
   "id": "f263a96e-4bc9-4609-ae21-6c910f2c92da",
   "metadata": {},
   "outputs": [
    {
     "name": "stdout",
     "output_type": "stream",
     "text": [
      "NotPop    184073\n",
      "Pop        34137\n",
      "Name: genre, dtype: int64\n"
     ]
    }
   ],
   "source": [
    "data_dif = data.copy() #copy data\n",
    "data_dif.loc[data.genre != \"Pop\", \"genre\"] = \"NotPop\" #change all non pop labels to \"NotPop\"\n",
    "print(data_dif.genre.value_counts())\n",
    "x_train_d, x_test_d, y_train_d, y_test_d = train_test_split(data_dif.lyrics.values, data_dif.genre.values, test_size=0.2, stratify = data_dif.genre.values)\n",
    "#above: get test and train set split with stratification on this new data set"
   ]
  },
  {
   "cell_type": "markdown",
   "id": "85011bea-39d0-44ab-bfa6-4b671ca81f54",
   "metadata": {},
   "source": [
    "Below I am creating different sparse vector represantion on this binary data set:"
   ]
  },
  {
   "cell_type": "code",
   "execution_count": 55,
   "id": "c918237d-060e-453f-b1d4-1ba5dafc7962",
   "metadata": {},
   "outputs": [
    {
     "name": "stderr",
     "output_type": "stream",
     "text": [
      "/Users/michalkubina/opt/anaconda3/lib/python3.8/site-packages/sklearn/feature_extraction/text.py:388: UserWarning: Your stop_words may be inconsistent with your preprocessing. Tokenizing the stop words generated tokens ['aren', 'can', 'couldn', 'didn', 'doesn', 'don', 'hadn', 'hasn', 'haven', 'isn', 'let', 'll', 'mustn', 're', 'shan', 'shouldn', 've', 'wasn', 'weren', 'won', 'wouldn'] not in stop_words.\n",
      "  warnings.warn('Your stop_words may be inconsistent with '\n"
     ]
    },
    {
     "data": {
      "application/vnd.jupyter.widget-view+json": {
       "model_id": "d0e6126468c542d5ab43532c3f9b88ed",
       "version_major": 2,
       "version_minor": 0
      },
      "text/plain": [
       "  0%|          | 0/174568 [00:00<?, ?it/s]"
      ]
     },
     "metadata": {},
     "output_type": "display_data"
    },
    {
     "data": {
      "application/vnd.jupyter.widget-view+json": {
       "model_id": "b588fd5e9af3499dbccbea854907413a",
       "version_major": 2,
       "version_minor": 0
      },
      "text/plain": [
       "  0%|          | 0/43642 [00:00<?, ?it/s]"
      ]
     },
     "metadata": {},
     "output_type": "display_data"
    }
   ],
   "source": [
    "dic_dif = {}\n",
    "dic_dif['tf_train'], dic_dif['tf_test'] = get_tfidf(x_train_d, x_test_d)\n",
    "dic_dif['bow_train'], dic_dif['bow_test'] = get_bow(x_train_d, x_test_d)\n",
    "dic_dif['bow_train_stops'], dic_dif['bow_test_stop'] = get_bow_stops(x_train_d, x_test_d)\n",
    "dic_dif['sc_train_puns'], dic_dif['sc_test_puns'], dic_dif[\"sc_train_lems\"], dic_dif[\"sc_test_lems\"]  = get_spacy(x_train, x_test)"
   ]
  },
  {
   "cell_type": "markdown",
   "id": "acb5c83e-d642-43c0-9c67-9d034fad21d8",
   "metadata": {},
   "source": [
    "Here I am training multiple logistic regression models on the new data set with different preprocessing based on key value:"
   ]
  },
  {
   "cell_type": "code",
   "execution_count": 115,
   "id": "7fd5d66c-5c76-40e7-bb54-e2d176a9c99a",
   "metadata": {},
   "outputs": [
    {
     "name": "stdout",
     "output_type": "stream",
     "text": [
      "tfidf preprocessing: \n",
      "              precision    recall  f1-score   support\n",
      "\n",
      "      NotPop       0.86      0.99      0.92     36815\n",
      "         Pop       0.58      0.10      0.17      6827\n",
      "\n",
      "    accuracy                           0.85     43642\n",
      "   macro avg       0.72      0.54      0.54     43642\n",
      "weighted avg       0.81      0.85      0.80     43642\n",
      "\n",
      "bow preprocessing: \n",
      "              precision    recall  f1-score   support\n",
      "\n",
      "      NotPop       0.86      0.97      0.92     36815\n",
      "         Pop       0.55      0.17      0.25      6827\n",
      "\n",
      "    accuracy                           0.85     43642\n",
      "   macro avg       0.70      0.57      0.59     43642\n",
      "weighted avg       0.81      0.85      0.81     43642\n",
      "\n",
      "bow no stop words preprocessing: \n",
      "              precision    recall  f1-score   support\n",
      "\n",
      "      NotPop       0.87      0.97      0.91     36815\n",
      "         Pop       0.51      0.19      0.28      6827\n",
      "\n",
      "    accuracy                           0.85     43642\n",
      "   macro avg       0.69      0.58      0.60     43642\n",
      "weighted avg       0.81      0.85      0.81     43642\n",
      "\n",
      "spacy1 preprocessing: \n",
      "              precision    recall  f1-score   support\n",
      "\n",
      "      NotPop       0.84      0.99      0.91     36815\n",
      "         Pop       0.18      0.01      0.01      6827\n",
      "\n",
      "    accuracy                           0.84     43642\n",
      "   macro avg       0.51      0.50      0.46     43642\n",
      "weighted avg       0.74      0.84      0.77     43642\n",
      "\n",
      "spacy2 preprocessing: \n",
      "              precision    recall  f1-score   support\n",
      "\n",
      "      NotPop       0.84      0.97      0.90     36815\n",
      "         Pop       0.15      0.03      0.05      6827\n",
      "\n",
      "    accuracy                           0.82     43642\n",
      "   macro avg       0.50      0.50      0.48     43642\n",
      "weighted avg       0.74      0.82      0.77     43642\n",
      "\n"
     ]
    }
   ],
   "source": [
    "print(\"tfidf preprocessing: \")\n",
    "l1,y1 = fit_predict_lgr(dic_dif[\"tf_train\"], y_train_d, dic_dif[\"tf_test\"], y_test_d) \n",
    "print(\"bow preprocessing: \")\n",
    "l2,y2 = fit_predict_lgr(dic_dif[\"bow_train\"], y_train_d, dic_dif[\"bow_test\"], y_test_d)\n",
    "print(\"bow no stop words preprocessing: \")\n",
    "l3,y3 = fit_predict_lgr(dic_dif[\"bow_train_stops\"], y_train_d, dic_dif[\"bow_test_stop\"], y_test_d)\n",
    "print(\"spacy1 preprocessing: \")\n",
    "l4,y4 = fit_predict_lgr(dic_dif[\"sc_train_puns\"], y_train_d, dic_dif[\"sc_test_puns\"], y_test_d)\n",
    "print(\"spacy2 preprocessing: \")\n",
    "l5,y5 = fit_predict_lgr(dic_dif[\"sc_train_lems\"], y_train_d, dic_dif[\"sc_test_lems\"], y_test_d)"
   ]
  },
  {
   "cell_type": "markdown",
   "id": "6aa41c5c-ff8d-44f6-9872-6933bfdb6fc1",
   "metadata": {},
   "source": [
    "##### Oversampling"
   ]
  },
  {
   "cell_type": "markdown",
   "id": "d54352fa-6c8d-4403-8826-a46a486a74b7",
   "metadata": {},
   "source": [
    "The problem with this data set is that the classes pop and notpop are imbalanced. Thus, firstly I will try random undersampling and random oversampling. It is essential to keep the test set original distribution. Thus, I will do these procedures just on train set."
   ]
  },
  {
   "cell_type": "code",
   "execution_count": 116,
   "id": "a026eb55-c3b0-460e-9495-4c0ff36b5996",
   "metadata": {},
   "outputs": [],
   "source": [
    "def smote_and_fit(x_train, y_train, x_test, y_test):\n",
    "    \"\"\"\n",
    "    Returns model and classified vector\n",
    "\n",
    "    Parameters\n",
    "    ----------\n",
    "    x_train : sparse matrix\n",
    "        vectors of lyrics train set\n",
    "    y_train : sparse matrix\n",
    "        labels of train set\n",
    "    x_test : sparse matrix\n",
    "        vectors of lyrics test set\n",
    "    y_test : sparse matrix\n",
    "        labels of test set\n",
    "    Returns\n",
    "    -------   \n",
    "    lr : logictis regression model\n",
    "    y_pred : list of classified labels\n",
    "    \"\"\"\n",
    "    sm = SMOTE(random_state=42) #init smote algorithm\n",
    "    X_res, y_res = sm.fit_resample(x_train, y_train) #resample\n",
    "    counter=collections.Counter(y_res)\n",
    "    print(counter)\n",
    "    return fit_predict_lgr(X_res, y_res, x_test, y_test)"
   ]
  },
  {
   "cell_type": "markdown",
   "id": "f403d9e4-1413-4c63-9397-3a9f0d5e3d73",
   "metadata": {},
   "source": [
    "Below I am training multiple models but I am using smote oversampling on data with different preprocessing"
   ]
  },
  {
   "cell_type": "code",
   "execution_count": 117,
   "id": "6550ccad-d011-4b36-832a-43d950b09c15",
   "metadata": {},
   "outputs": [
    {
     "name": "stdout",
     "output_type": "stream",
     "text": [
      "tfidf preprocessing: \n",
      "Counter({'NotPop': 147258, 'Pop': 147258})\n",
      "              precision    recall  f1-score   support\n",
      "\n",
      "      NotPop       0.91      0.74      0.82     36815\n",
      "         Pop       0.31      0.63      0.41      6827\n",
      "\n",
      "    accuracy                           0.72     43642\n",
      "   macro avg       0.61      0.68      0.61     43642\n",
      "weighted avg       0.82      0.72      0.75     43642\n",
      "\n",
      "bow preprocessing: \n",
      "Counter({'NotPop': 147258, 'Pop': 147258})\n",
      "              precision    recall  f1-score   support\n",
      "\n",
      "      NotPop       0.88      0.84      0.86     36815\n",
      "         Pop       0.30      0.37      0.33      6827\n",
      "\n",
      "    accuracy                           0.77     43642\n",
      "   macro avg       0.59      0.60      0.59     43642\n",
      "weighted avg       0.79      0.77      0.78     43642\n",
      "\n",
      "bow without stop words preprocessing: \n",
      "Counter({'NotPop': 147258, 'Pop': 147258})\n",
      "              precision    recall  f1-score   support\n",
      "\n",
      "      NotPop       0.88      0.78      0.83     36815\n",
      "         Pop       0.27      0.44      0.33      6827\n",
      "\n",
      "    accuracy                           0.73     43642\n",
      "   macro avg       0.58      0.61      0.58     43642\n",
      "weighted avg       0.79      0.73      0.75     43642\n",
      "\n",
      "spacy1 preprocessing: \n",
      "Counter({'NotPop': 147258, 'Pop': 147258})\n",
      "              precision    recall  f1-score   support\n",
      "\n",
      "      NotPop       0.84      0.85      0.85     36815\n",
      "         Pop       0.16      0.14      0.15      6827\n",
      "\n",
      "    accuracy                           0.74     43642\n",
      "   macro avg       0.50      0.50      0.50     43642\n",
      "weighted avg       0.74      0.74      0.74     43642\n",
      "\n",
      "spacy2 preprocessing: \n",
      "Counter({'NotPop': 147258, 'Pop': 147258})\n",
      "              precision    recall  f1-score   support\n",
      "\n",
      "      NotPop       0.84      0.76      0.80     36815\n",
      "         Pop       0.16      0.25      0.19      6827\n",
      "\n",
      "    accuracy                           0.68     43642\n",
      "   macro avg       0.50      0.50      0.50     43642\n",
      "weighted avg       0.74      0.68      0.71     43642\n",
      "\n"
     ]
    }
   ],
   "source": [
    "print(\"tfidf preprocessing: \")\n",
    "s1,s1r = smote_and_fit(dic_dif[\"tf_train\"], y_train_d, dic_dif[\"tf_test\"], y_test_d)\n",
    "print(\"bow preprocessing: \")\n",
    "s2,s2r = smote_and_fit(dic_dif[\"bow_train\"], y_train_d, dic_dif[\"bow_test\"], y_test_d)\n",
    "print(\"bow without stop words preprocessing: \")\n",
    "s3,s3r = smote_and_fit(dic_dif[\"bow_train_stops\"], y_train_d, dic_dif[\"bow_test_stop\"], y_test_d)\n",
    "print(\"spacy1 preprocessing: \")\n",
    "s4,s4r = smote_and_fit(dic_dif[\"sc_train_puns\"], y_train_d, dic_dif[\"sc_test_puns\"], y_test_d)\n",
    "print(\"spacy2 preprocessing: \")\n",
    "s5,s5r = smote_and_fit(dic_dif[\"sc_train_lems\"], y_train_d, dic_dif[\"sc_test_lems\"], y_test_d)"
   ]
  },
  {
   "cell_type": "markdown",
   "id": "8b5f0409-5a75-4906-9de2-ef8f7540047c",
   "metadata": {},
   "source": [
    "The best model was the first one when the preprocessing was done with tfidf corpus representation where the count word words needed to be at least 5 and proportion was set to eighty percents."
   ]
  },
  {
   "cell_type": "markdown",
   "id": "c514e8e1-ab65-4658-8508-df5c07c289ea",
   "metadata": {},
   "source": [
    "##### Undersampling on train set and keeping the test set with proper distribution"
   ]
  },
  {
   "cell_type": "code",
   "execution_count": 96,
   "id": "b18a2274-fddc-4216-9eac-fc5d545f954a",
   "metadata": {},
   "outputs": [],
   "source": [
    "def undersample_and_fit(x_train, y_train, x_test, y_test):\n",
    "    \"\"\"\n",
    "    Returns model and classified vector\n",
    "\n",
    "    Parameters\n",
    "    ----------\n",
    "    x_train : sparse matrix\n",
    "        vectors of lyrics train set\n",
    "    y_train : sparse matrix\n",
    "        labels of train set\n",
    "    x_test : sparse matrix\n",
    "        vectors of lyrics test set\n",
    "    y_test : sparse matrix\n",
    "        labels of test set\n",
    "    Returns\n",
    "    -------   \n",
    "    lr : logictis regression model\n",
    "    y_pred : list of classified labels\n",
    "    \"\"\"\n",
    "    undersample = RandomUnderSampler(sampling_strategy='all')\n",
    "    X_under, y_under = undersample.fit_resample(x_train, y_train) #init smote algorithm\n",
    "    counter=collections.Counter(y_under)\n",
    "    print(counter)\n",
    "    return fit_predict_lgr(X_under, y_under, x_test, y_test)"
   ]
  },
  {
   "cell_type": "code",
   "execution_count": 119,
   "id": "5a988205-b266-4120-8c2b-a765ebe2f673",
   "metadata": {},
   "outputs": [
    {
     "name": "stdout",
     "output_type": "stream",
     "text": [
      "tfidf preprocessing: \n",
      "Counter({'NotPop': 27310, 'Pop': 27310})\n",
      "              precision    recall  f1-score   support\n",
      "\n",
      "      NotPop       0.92      0.68      0.78     36815\n",
      "         Pop       0.29      0.70      0.41      6827\n",
      "\n",
      "    accuracy                           0.68     43642\n",
      "   macro avg       0.60      0.69      0.59     43642\n",
      "weighted avg       0.82      0.68      0.72     43642\n",
      "\n",
      "bow preprocessing: \n",
      "Counter({'NotPop': 27310, 'Pop': 27310})\n",
      "              precision    recall  f1-score   support\n",
      "\n",
      "      NotPop       0.92      0.69      0.79     36815\n",
      "         Pop       0.29      0.66      0.40      6827\n",
      "\n",
      "    accuracy                           0.69     43642\n",
      "   macro avg       0.60      0.68      0.59     43642\n",
      "weighted avg       0.82      0.69      0.73     43642\n",
      "\n",
      "bow without stop words preprocessing: \n",
      "Counter({'NotPop': 27310, 'Pop': 27310})\n",
      "              precision    recall  f1-score   support\n",
      "\n",
      "      NotPop       0.92      0.68      0.78     36815\n",
      "         Pop       0.28      0.68      0.40      6827\n",
      "\n",
      "    accuracy                           0.68     43642\n",
      "   macro avg       0.60      0.68      0.59     43642\n",
      "weighted avg       0.82      0.68      0.72     43642\n",
      "\n",
      "spacy1 preprocessing: \n",
      "Counter({'NotPop': 27310, 'Pop': 27310})\n",
      "              precision    recall  f1-score   support\n",
      "\n",
      "      NotPop       0.84      0.50      0.62     36815\n",
      "         Pop       0.16      0.50      0.24      6827\n",
      "\n",
      "    accuracy                           0.50     43642\n",
      "   macro avg       0.50      0.50      0.43     43642\n",
      "weighted avg       0.74      0.50      0.56     43642\n",
      "\n",
      "spacy2 preprocessing: \n",
      "Counter({'NotPop': 27310, 'Pop': 27310})\n",
      "              precision    recall  f1-score   support\n",
      "\n",
      "      NotPop       0.84      0.49      0.62     36815\n",
      "         Pop       0.15      0.51      0.24      6827\n",
      "\n",
      "    accuracy                           0.49     43642\n",
      "   macro avg       0.50      0.50      0.43     43642\n",
      "weighted avg       0.73      0.49      0.56     43642\n",
      "\n"
     ]
    }
   ],
   "source": [
    "print(\"tfidf preprocessing: \")\n",
    "u1,u1r = undersample_and_fit(dic_dif[\"tf_train\"], y_train_d, dic_dif[\"tf_test\"], y_test_d)\n",
    "print(\"bow preprocessing: \")\n",
    "u2,u2r = undersample_and_fit(dic_dif[\"bow_train\"], y_train_d, dic_dif[\"bow_test\"], y_test_d)\n",
    "print(\"bow without stop words preprocessing: \")\n",
    "u3,u3r = undersample_and_fit(dic_dif[\"bow_train_stops\"], y_train_d, dic_dif[\"bow_test_stop\"], y_test_d)\n",
    "print(\"spacy1 preprocessing: \")\n",
    "u4,u4r = undersample_and_fit(dic_dif[\"sc_train_puns\"], y_train_d, dic_dif[\"sc_test_puns\"], y_test_d)\n",
    "print(\"spacy2 preprocessing: \")\n",
    "u5,u5r = undersample_and_fit(dic_dif[\"sc_train_lems\"], y_train_d, dic_dif[\"sc_test_lems\"], y_test_d)"
   ]
  },
  {
   "cell_type": "markdown",
   "id": "5f5e213e-c708-4609-b901-d54a869332a2",
   "metadata": {},
   "source": [
    "By keeping the right distribution and then undersampling on train set above I did not get very good results. Oversampling worked better."
   ]
  },
  {
   "cell_type": "markdown",
   "id": "4f50877f-7020-4d29-8155-e132d845d76a",
   "metadata": {},
   "source": [
    "#### 3. Interpretation and conclusion"
   ]
  },
  {
   "cell_type": "code",
   "execution_count": 207,
   "id": "75f1582c-b610-4b8f-9d2d-c02638ee60e6",
   "metadata": {},
   "outputs": [],
   "source": [
    "def interpret_model(lr, cv):\n",
    "    \"\"\"\n",
    "    Returns coefficients with words in pandas dataframe\n",
    "\n",
    "    Parameters\n",
    "    ----------\n",
    "    lr : logistic regression model\n",
    "    cv : countvectorizer\n",
    "    \n",
    "    Returns\n",
    "    -------   \n",
    "    pandas dataframe\n",
    "    \"\"\"\n",
    "    vocabulary = cv.get_feature_names() #get vocabulary\n",
    "    regression_coefficients = lr.coef_[0] # get the LR weights\n",
    "    vocab_coef_combined = list(zip(regression_coefficients, vocabulary)) #ccombine lists \n",
    "    feature_importance = pd.DataFrame(vocab_coef_combined,\n",
    "                          columns=['coef', 'word']) #create pandas dataframe\n",
    "    return feature_importance.sort_values('coef', ascending=False)\n",
    "\n",
    "def get_roc_curve(model, dic_dif, y_test_d): \n",
    "    \"\"\"\n",
    "    Shows plot of roc curve\n",
    "\n",
    "    Parameters\n",
    "    ----------\n",
    "    model : logistic regression model\n",
    "    dic_dif : dictionary\n",
    "        train data\n",
    "    y_test_d : list\n",
    "        list of predicted probabilities\n",
    "    Returns\n",
    "    -------   \n",
    "    plot\n",
    "    \"\"\"\n",
    "    y_pred_proba = model.predict_proba(dic_dif['tf_test'])[::,1] #predict probabilities on our best model\n",
    "    new_list = [1 if x == \"Pop\" else 0 for x in y_test_d] #change labels to zero or one\n",
    "    fpr, tpr, _ = metrics.roc_curve(new_list,  y_pred_proba) #create roc curce\n",
    "    plt.plot(fpr,tpr)\n",
    "    plt.plot([0, 1], [0, 1], 'k--')\n",
    "    plt.ylabel('True Positive Rate')\n",
    "    plt.xlabel('False Positive Rate')\n",
    "    plt.show()\n",
    "\n",
    "def display_side_by_side(*args):\n",
    "    \"\"\"\n",
    "    Visualizes pandas dataframe next to each other - side by side.\n",
    "\n",
    "    Parameters\n",
    "    ----------\n",
    "    args : pandas dataframes\n",
    "    \n",
    "    \"\"\"\n",
    "    html_str=''\n",
    "    for df in args:\n",
    "        html_str+=df.to_html()\n",
    "    display_html(html_str.replace('table','table style=\"display:inline\"'),raw=True)"
   ]
  },
  {
   "cell_type": "markdown",
   "id": "6522fd5b-8bc6-4d99-9197-de39921fd032",
   "metadata": {},
   "source": [
    "Best model:"
   ]
  },
  {
   "cell_type": "markdown",
   "id": "be769455-99e6-4835-ac3a-918b9c82fc64",
   "metadata": {},
   "source": [
    "              precision    recall  f1-score   support\n",
    "\n",
    "      NotPop       0.91      0.74      0.82     36815\n",
    "         Pop       0.31      0.63      0.41      6827\n",
    "\n",
    "    accuracy                           0.72     43642\n",
    "    macro avg       0.61      0.68      0.61     43642\n",
    "    weighted avg       0.82      0.72      0.75     43642"
   ]
  },
  {
   "cell_type": "code",
   "execution_count": 203,
   "id": "2120a537-0096-4c00-8b34-e9cac7f1862b",
   "metadata": {},
   "outputs": [
    {
     "data": {
      "image/png": "[encoded data removed]",
      "text/plain": [
       "<Figure size 432x288 with 1 Axes>"
      ]
     },
     "metadata": {
      "needs_background": "light"
     },
     "output_type": "display_data"
    }
   ],
   "source": [
    "get_roc_curve(s1, dic_dif, y_test_d)"
   ]
  },
  {
   "cell_type": "markdown",
   "id": "d9fa6610-522b-4c4e-8fcc-f535424f5bd3",
   "metadata": {},
   "source": [
    "The model which could best distinguish pop song data on the test set with original distribution was logistic regression where preprocessing was done via tfidf table and the train set was oversampled by using smote method. Using lemmatization really did not help and it took valuable processing time. The accuracy of 0.72 can be considered as a good result. However, we should look at the f1-score because of the original data distribution on the test set. The recall says that sixty percent of all real pop songs are classified as pop songs. However, there is a very low precision which suggests that when the song is classified as pop we can be sure in 30 percent that it is a pop song. The macro average is sixty percent so it is better than random assignment (>0.5). Moreover, looking at the roc curve we can see that it is better than the baseline black curve. \n",
    "\n",
    "Getting back to the question, I believe that we can set pop songs and not pop songs apart even though the results are not great when looking at the f1-score of pop songs = 0.41. Or at least a get little sense. This sense we can get by looking at the coefficients and corresponding words of the logistic regression. Looking at the two tables below and graphs, We can see that if the lyrics include first names such as claude barbra, britney, or words such as marriage, heart there will be a higher probability that the song is a pop song. On the other hand, when looking at negative coefficients. We can see that the song will have a lower probability to be a pop song if the lyrics include words such as death, dick, kill, etc. On the other hand, there will be a lot of songs that cannot be very well classified when they do not contain meaningful words."
   ]
  },
  {
   "cell_type": "code",
   "execution_count": 214,
   "id": "c28ab0f5-3495-4ff0-a5be-f76e2f1d163c",
   "metadata": {},
   "outputs": [],
   "source": [
    "tfidf = TfidfVectorizer() #initialise instance of tfidf vectorizer class \n",
    "tfidf.fit(x_train_d) #fit the model\n",
    "res = interpret_model(s1,tfidf) #Get coefficients of our best model"
   ]
  },
  {
   "cell_type": "code",
   "execution_count": 212,
   "id": "cc33a161-a31f-4878-a876-c32269916785",
   "metadata": {},
   "outputs": [
    {
     "data": {
      "text/html": [
       "<table style=\"display:inline\" border=\"1\" class=\"dataframe\">\n",
       "  <thead>\n",
       "    <tr style=\"text-align: right;\">\n",
       "      <th></th>\n",
       "      <th>coef</th>\n",
       "      <th>word</th>\n",
       "    </tr>\n",
       "  </thead>\n",
       "  <tbody>\n",
       "    <tr>\n",
       "      <th>27636</th>\n",
       "      <td>6.323279</td>\n",
       "      <td>claude</td>\n",
       "    </tr>\n",
       "    <tr>\n",
       "      <th>4631</th>\n",
       "      <td>5.737557</td>\n",
       "      <td>akon</td>\n",
       "    </tr>\n",
       "    <tr>\n",
       "      <th>8760</th>\n",
       "      <td>4.534037</td>\n",
       "      <td>ashanti</td>\n",
       "    </tr>\n",
       "    <tr>\n",
       "      <th>17625</th>\n",
       "      <td>4.337999</td>\n",
       "      <td>bonnie</td>\n",
       "    </tr>\n",
       "    <tr>\n",
       "      <th>12016</th>\n",
       "      <td>3.921193</td>\n",
       "      <td>barbra</td>\n",
       "    </tr>\n",
       "    <tr>\n",
       "      <th>27014</th>\n",
       "      <td>3.904438</td>\n",
       "      <td>ciara</td>\n",
       "    </tr>\n",
       "    <tr>\n",
       "      <th>19582</th>\n",
       "      <td>3.562238</td>\n",
       "      <td>britney</td>\n",
       "    </tr>\n",
       "    <tr>\n",
       "      <th>23979</th>\n",
       "      <td>3.383512</td>\n",
       "      <td>cause</td>\n",
       "    </tr>\n",
       "    <tr>\n",
       "      <th>40232</th>\n",
       "      <td>3.351736</td>\n",
       "      <td>discover</td>\n",
       "    </tr>\n",
       "    <tr>\n",
       "      <th>1852</th>\n",
       "      <td>3.323310</td>\n",
       "      <td>aaron</td>\n",
       "    </tr>\n",
       "    <tr>\n",
       "      <th>11381</th>\n",
       "      <td>3.286894</td>\n",
       "      <td>bale</td>\n",
       "    </tr>\n",
       "    <tr>\n",
       "      <th>153733</th>\n",
       "      <td>3.276443</td>\n",
       "      <td>vibe</td>\n",
       "    </tr>\n",
       "    <tr>\n",
       "      <th>98514</th>\n",
       "      <td>3.262458</td>\n",
       "      <td>nods</td>\n",
       "    </tr>\n",
       "    <tr>\n",
       "      <th>18825</th>\n",
       "      <td>3.143946</td>\n",
       "      <td>brandy</td>\n",
       "    </tr>\n",
       "    <tr>\n",
       "      <th>87937</th>\n",
       "      <td>3.134752</td>\n",
       "      <td>marriage</td>\n",
       "    </tr>\n",
       "    <tr>\n",
       "      <th>131571</th>\n",
       "      <td>3.129103</td>\n",
       "      <td>snaps</td>\n",
       "    </tr>\n",
       "    <tr>\n",
       "      <th>18499</th>\n",
       "      <td>3.120950</td>\n",
       "      <td>boy</td>\n",
       "    </tr>\n",
       "    <tr>\n",
       "      <th>50708</th>\n",
       "      <td>3.103847</td>\n",
       "      <td>fanny</td>\n",
       "    </tr>\n",
       "    <tr>\n",
       "      <th>97932</th>\n",
       "      <td>3.101517</td>\n",
       "      <td>nightlife</td>\n",
       "    </tr>\n",
       "    <tr>\n",
       "      <th>81493</th>\n",
       "      <td>3.080084</td>\n",
       "      <td>lauren</td>\n",
       "    </tr>\n",
       "  </tbody>\n",
       "</table style=\"display:inline\"><table style=\"display:inline\" border=\"1\" class=\"dataframe\">\n",
       "  <thead>\n",
       "    <tr style=\"text-align: right;\">\n",
       "      <th></th>\n",
       "      <th>coef</th>\n",
       "      <th>word</th>\n",
       "    </tr>\n",
       "  </thead>\n",
       "  <tbody>\n",
       "    <tr>\n",
       "      <th>36207</th>\n",
       "      <td>-3.822375</td>\n",
       "      <td>death</td>\n",
       "    </tr>\n",
       "    <tr>\n",
       "      <th>39155</th>\n",
       "      <td>-3.852501</td>\n",
       "      <td>dick</td>\n",
       "    </tr>\n",
       "    <tr>\n",
       "      <th>78497</th>\n",
       "      <td>-3.890209</td>\n",
       "      <td>kill</td>\n",
       "    </tr>\n",
       "    <tr>\n",
       "      <th>16823</th>\n",
       "      <td>-3.933423</td>\n",
       "      <td>blues</td>\n",
       "    </tr>\n",
       "    <tr>\n",
       "      <th>127747</th>\n",
       "      <td>-3.952226</td>\n",
       "      <td>shit</td>\n",
       "    </tr>\n",
       "    <tr>\n",
       "      <th>56194</th>\n",
       "      <td>-4.035015</td>\n",
       "      <td>fuck</td>\n",
       "    </tr>\n",
       "    <tr>\n",
       "      <th>156695</th>\n",
       "      <td>-4.134764</td>\n",
       "      <td>well</td>\n",
       "    </tr>\n",
       "    <tr>\n",
       "      <th>104949</th>\n",
       "      <td>-4.180102</td>\n",
       "      <td>parton</td>\n",
       "    </tr>\n",
       "    <tr>\n",
       "      <th>10663</th>\n",
       "      <td>-4.254297</td>\n",
       "      <td>babyface</td>\n",
       "    </tr>\n",
       "    <tr>\n",
       "      <th>18700</th>\n",
       "      <td>-4.272242</td>\n",
       "      <td>brain</td>\n",
       "    </tr>\n",
       "    <tr>\n",
       "      <th>36051</th>\n",
       "      <td>-4.339847</td>\n",
       "      <td>dead</td>\n",
       "    </tr>\n",
       "    <tr>\n",
       "      <th>106413</th>\n",
       "      <td>-4.384171</td>\n",
       "      <td>performed</td>\n",
       "    </tr>\n",
       "    <tr>\n",
       "      <th>139752</th>\n",
       "      <td>-4.519943</td>\n",
       "      <td>sweetheart</td>\n",
       "    </tr>\n",
       "    <tr>\n",
       "      <th>54932</th>\n",
       "      <td>-4.548580</td>\n",
       "      <td>forty</td>\n",
       "    </tr>\n",
       "    <tr>\n",
       "      <th>134740</th>\n",
       "      <td>-4.562132</td>\n",
       "      <td>squeeze</td>\n",
       "    </tr>\n",
       "    <tr>\n",
       "      <th>64705</th>\n",
       "      <td>-4.618265</td>\n",
       "      <td>hatred</td>\n",
       "    </tr>\n",
       "    <tr>\n",
       "      <th>57060</th>\n",
       "      <td>-4.661843</td>\n",
       "      <td>gal</td>\n",
       "    </tr>\n",
       "    <tr>\n",
       "      <th>56231</th>\n",
       "      <td>-4.992520</td>\n",
       "      <td>fucking</td>\n",
       "    </tr>\n",
       "    <tr>\n",
       "      <th>97803</th>\n",
       "      <td>-5.718464</td>\n",
       "      <td>niggas</td>\n",
       "    </tr>\n",
       "    <tr>\n",
       "      <th>56229</th>\n",
       "      <td>-5.829421</td>\n",
       "      <td>fuckin</td>\n",
       "    </tr>\n",
       "  </tbody>\n",
       "</table style=\"display:inline\">"
      ]
     },
     "metadata": {},
     "output_type": "display_data"
    }
   ],
   "source": [
    "display_side_by_side(res.head(20), res.tail(20))"
   ]
  },
  {
   "cell_type": "code",
   "execution_count": 220,
   "id": "492dbb56-9091-4bae-81f0-e86e0fdcef76",
   "metadata": {},
   "outputs": [
    {
     "data": {
      "application/vnd.plotly.v1+json": {
       "config": {
        "plotlyServerURL": "https://plot.ly"
       },
       "data": [
        {
         "alignmentgroup": "True",
         "hovertemplate": "word=%{x}<br>coef=%{y}<extra></extra>",
         "legendgroup": "",
         "marker": {
          "color": "#636efa",
          "pattern": {
           "shape": ""
          }
         },
         "name": "",
         "offsetgroup": "",
         "orientation": "v",
         "showlegend": false,
         "textposition": "auto",
         "type": "bar",
         "x": [
          "claude",
          "akon",
          "ashanti",
          "bonnie",
          "barbra",
          "ciara",
          "britney",
          "cause",
          "discover",
          "aaron",
          "bale",
          "vibe",
          "nods",
          "brandy",
          "marriage",
          "snaps",
          "boy",
          "fanny",
          "nightlife",
          "lauren",
          "realise",
          "beyonce",
          "hurting",
          "husband",
          "bitterness",
          "flava",
          "manger",
          "gots",
          "aquarius",
          "travelled",
          "cathedral",
          "bee",
          "hun",
          "cherish",
          "offers",
          "tutankhamen",
          "rejoices",
          "reminisce",
          "2gether",
          "raindrops",
          "inquisition",
          "coz",
          "chick",
          "singer",
          "rumour",
          "petty",
          "konvict",
          "foxes",
          "japan",
          "parents",
          "fights",
          "crows",
          "driftwood",
          "triumph",
          "aaliyah",
          "infant",
          "snappin",
          "diva",
          "counts",
          "tho",
          "obvious",
          "suga",
          "homecoming",
          "tis",
          "clarke",
          "gunshot",
          "hunters",
          "flawless",
          "b2k",
          "explore",
          "lamb",
          "luxuries",
          "rollercoaster",
          "history",
          "everythin",
          "peron",
          "tug",
          "scroll",
          "stronger",
          "windy",
          "club",
          "strangely",
          "heart",
          "kicks",
          "rainfall",
          "sculptor",
          "pusha",
          "oops",
          "emmanuel",
          "nanananana",
          "rushes",
          "creeping",
          "uhhh",
          "dedicate",
          "chat",
          "fizz",
          "smack",
          "goodies",
          "dressed",
          "geisha"
         ],
         "xaxis": "x",
         "y": [
          6.323278563071864,
          5.73755728933396,
          4.534037000114378,
          4.3379991214525475,
          3.92119273465664,
          3.9044382271032037,
          3.562238217534021,
          3.383512207769793,
          3.3517359828154856,
          3.3233102965766617,
          3.2868940224366145,
          3.2764429346083412,
          3.2624582598277914,
          3.143945730724067,
          3.1347518335598474,
          3.1291033765254386,
          3.120950265282032,
          3.1038467511852557,
          3.101517455179561,
          3.080084065656036,
          3.0695982024488746,
          3.062791448889144,
          3.030961315049382,
          3.0047078904904705,
          2.9877651130869234,
          2.981053654753405,
          2.9595327761491754,
          2.9389579825319823,
          2.9227016435366937,
          2.9050101848065584,
          2.8910899811819966,
          2.891074483090779,
          2.867043051970984,
          2.842149963059046,
          2.832999822466681,
          2.8285160358459334,
          2.8147543268870914,
          2.8009484775078506,
          2.722830485352326,
          2.6583511247218965,
          2.649128295871871,
          2.6334788641056277,
          2.6295248553915074,
          2.6282431284038967,
          2.5908516438809825,
          2.573140098744866,
          2.5674595074691786,
          2.55487558013946,
          2.5543454654789963,
          2.5525568048038174,
          2.525332913417286,
          2.5158727557946774,
          2.5043916167885625,
          2.499781530741976,
          2.4939782317849732,
          2.4923435033370875,
          2.473801189046079,
          2.4668972695331455,
          2.4576338158435123,
          2.4553851334518546,
          2.4551058461364117,
          2.4520649141390547,
          2.443522691869864,
          2.4430202462773534,
          2.4273758270558092,
          2.393715723567376,
          2.391101820077945,
          2.3888935162117906,
          2.3884821957133573,
          2.3839306262117708,
          2.3816231083754875,
          2.3814010452493215,
          2.369882565358355,
          2.362718294571747,
          2.330813992459957,
          2.317919795190686,
          2.317382543771784,
          2.3144334633389176,
          2.3141864504750327,
          2.306301790584864,
          2.2989324847666324,
          2.2948871854034274,
          2.293028593032376,
          2.2890319829332832,
          2.284789111162483,
          2.2793140598485784,
          2.27496485997448,
          2.2749046710946663,
          2.250569374023367,
          2.250055441169235,
          2.2491845157281745,
          2.249164804635815,
          2.245991086812641,
          2.237125001674968,
          2.2226705005058673,
          2.2215827076052537,
          2.2192466099191774,
          2.2122659554289528,
          2.206425748426807,
          2.198215542251192
         ],
         "yaxis": "y"
        }
       ],
       "layout": {
        "autosize": true,
        "barmode": "relative",
        "legend": {
         "tracegroupgap": 0
        },
        "margin": {
         "t": 60
        },
        "template": {
         "data": {
          "bar": [
           {
            "error_x": {
             "color": "#2a3f5f"
            },
            "error_y": {
             "color": "#2a3f5f"
            },
            "marker": {
             "line": {
              "color": "#E5ECF6",
              "width": 0.5
             },
             "pattern": {
              "fillmode": "overlay",
              "size": 10,
              "solidity": 0.2
             }
            },
            "type": "bar"
           }
          ],
          "barpolar": [
           {
            "marker": {
             "line": {
              "color": "#E5ECF6",
              "width": 0.5
             },
             "pattern": {
              "fillmode": "overlay",
              "size": 10,
              "solidity": 0.2
             }
            },
            "type": "barpolar"
           }
          ],
          "carpet": [
           {
            "aaxis": {
             "endlinecolor": "#2a3f5f",
             "gridcolor": "white",
             "linecolor": "white",
             "minorgridcolor": "white",
             "startlinecolor": "#2a3f5f"
            },
            "baxis": {
             "endlinecolor": "#2a3f5f",
             "gridcolor": "white",
             "linecolor": "white",
             "minorgridcolor": "white",
             "startlinecolor": "#2a3f5f"
            },
            "type": "carpet"
           }
          ],
          "choropleth": [
           {
            "colorbar": {
             "outlinewidth": 0,
             "ticks": ""
            },
            "type": "choropleth"
           }
          ],
          "contour": [
           {
            "colorbar": {
             "outlinewidth": 0,
             "ticks": ""
            },
            "colorscale": [
             [
              0,
              "#0d0887"
             ],
             [
              0.1111111111111111,
              "#46039f"
             ],
             [
              0.2222222222222222,
              "#7201a8"
             ],
             [
              0.3333333333333333,
              "#9c179e"
             ],
             [
              0.4444444444444444,
              "#bd3786"
             ],
             [
              0.5555555555555556,
              "#d8576b"
             ],
             [
              0.6666666666666666,
              "#ed7953"
             ],
             [
              0.7777777777777778,
              "#fb9f3a"
             ],
             [
              0.8888888888888888,
              "#fdca26"
             ],
             [
              1,
              "#f0f921"
             ]
            ],
            "type": "contour"
           }
          ],
          "contourcarpet": [
           {
            "colorbar": {
             "outlinewidth": 0,
             "ticks": ""
            },
            "type": "contourcarpet"
           }
          ],
          "heatmap": [
           {
            "colorbar": {
             "outlinewidth": 0,
             "ticks": ""
            },
            "colorscale": [
             [
              0,
              "#0d0887"
             ],
             [
              0.1111111111111111,
              "#46039f"
             ],
             [
              0.2222222222222222,
              "#7201a8"
             ],
             [
              0.3333333333333333,
              "#9c179e"
             ],
             [
              0.4444444444444444,
              "#bd3786"
             ],
             [
              0.5555555555555556,
              "#d8576b"
             ],
             [
              0.6666666666666666,
              "#ed7953"
             ],
             [
              0.7777777777777778,
              "#fb9f3a"
             ],
             [
              0.8888888888888888,
              "#fdca26"
             ],
             [
              1,
              "#f0f921"
             ]
            ],
            "type": "heatmap"
           }
          ],
          "heatmapgl": [
           {
            "colorbar": {
             "outlinewidth": 0,
             "ticks": ""
            },
            "colorscale": [
             [
              0,
              "#0d0887"
             ],
             [
              0.1111111111111111,
              "#46039f"
             ],
             [
              0.2222222222222222,
              "#7201a8"
             ],
             [
              0.3333333333333333,
              "#9c179e"
             ],
             [
              0.4444444444444444,
              "#bd3786"
             ],
             [
              0.5555555555555556,
              "#d8576b"
             ],
             [
              0.6666666666666666,
              "#ed7953"
             ],
             [
              0.7777777777777778,
              "#fb9f3a"
             ],
             [
              0.8888888888888888,
              "#fdca26"
             ],
             [
              1,
              "#f0f921"
             ]
            ],
            "type": "heatmapgl"
           }
          ],
          "histogram": [
           {
            "marker": {
             "pattern": {
              "fillmode": "overlay",
              "size": 10,
              "solidity": 0.2
             }
            },
            "type": "histogram"
           }
          ],
          "histogram2d": [
           {
            "colorbar": {
             "outlinewidth": 0,
             "ticks": ""
            },
            "colorscale": [
             [
              0,
              "#0d0887"
             ],
             [
              0.1111111111111111,
              "#46039f"
             ],
             [
              0.2222222222222222,
              "#7201a8"
             ],
             [
              0.3333333333333333,
              "#9c179e"
             ],
             [
              0.4444444444444444,
              "#bd3786"
             ],
             [
              0.5555555555555556,
              "#d8576b"
             ],
             [
              0.6666666666666666,
              "#ed7953"
             ],
             [
              0.7777777777777778,
              "#fb9f3a"
             ],
             [
              0.8888888888888888,
              "#fdca26"
             ],
             [
              1,
              "#f0f921"
             ]
            ],
            "type": "histogram2d"
           }
          ],
          "histogram2dcontour": [
           {
            "colorbar": {
             "outlinewidth": 0,
             "ticks": ""
            },
            "colorscale": [
             [
              0,
              "#0d0887"
             ],
             [
              0.1111111111111111,
              "#46039f"
             ],
             [
              0.2222222222222222,
              "#7201a8"
             ],
             [
              0.3333333333333333,
              "#9c179e"
             ],
             [
              0.4444444444444444,
              "#bd3786"
             ],
             [
              0.5555555555555556,
              "#d8576b"
             ],
             [
              0.6666666666666666,
              "#ed7953"
             ],
             [
              0.7777777777777778,
              "#fb9f3a"
             ],
             [
              0.8888888888888888,
              "#fdca26"
             ],
             [
              1,
              "#f0f921"
             ]
            ],
            "type": "histogram2dcontour"
           }
          ],
          "mesh3d": [
           {
            "colorbar": {
             "outlinewidth": 0,
             "ticks": ""
            },
            "type": "mesh3d"
           }
          ],
          "parcoords": [
           {
            "line": {
             "colorbar": {
              "outlinewidth": 0,
              "ticks": ""
             }
            },
            "type": "parcoords"
           }
          ],
          "pie": [
           {
            "automargin": true,
            "type": "pie"
           }
          ],
          "scatter": [
           {
            "marker": {
             "colorbar": {
              "outlinewidth": 0,
              "ticks": ""
             }
            },
            "type": "scatter"
           }
          ],
          "scatter3d": [
           {
            "line": {
             "colorbar": {
              "outlinewidth": 0,
              "ticks": ""
             }
            },
            "marker": {
             "colorbar": {
              "outlinewidth": 0,
              "ticks": ""
             }
            },
            "type": "scatter3d"
           }
          ],
          "scattercarpet": [
           {
            "marker": {
             "colorbar": {
              "outlinewidth": 0,
              "ticks": ""
             }
            },
            "type": "scattercarpet"
           }
          ],
          "scattergeo": [
           {
            "marker": {
             "colorbar": {
              "outlinewidth": 0,
              "ticks": ""
             }
            },
            "type": "scattergeo"
           }
          ],
          "scattergl": [
           {
            "marker": {
             "colorbar": {
              "outlinewidth": 0,
              "ticks": ""
             }
            },
            "type": "scattergl"
           }
          ],
          "scattermapbox": [
           {
            "marker": {
             "colorbar": {
              "outlinewidth": 0,
              "ticks": ""
             }
            },
            "type": "scattermapbox"
           }
          ],
          "scatterpolar": [
           {
            "marker": {
             "colorbar": {
              "outlinewidth": 0,
              "ticks": ""
             }
            },
            "type": "scatterpolar"
           }
          ],
          "scatterpolargl": [
           {
            "marker": {
             "colorbar": {
              "outlinewidth": 0,
              "ticks": ""
             }
            },
            "type": "scatterpolargl"
           }
          ],
          "scatterternary": [
           {
            "marker": {
             "colorbar": {
              "outlinewidth": 0,
              "ticks": ""
             }
            },
            "type": "scatterternary"
           }
          ],
          "surface": [
           {
            "colorbar": {
             "outlinewidth": 0,
             "ticks": ""
            },
            "colorscale": [
             [
              0,
              "#0d0887"
             ],
             [
              0.1111111111111111,
              "#46039f"
             ],
             [
              0.2222222222222222,
              "#7201a8"
             ],
             [
              0.3333333333333333,
              "#9c179e"
             ],
             [
              0.4444444444444444,
              "#bd3786"
             ],
             [
              0.5555555555555556,
              "#d8576b"
             ],
             [
              0.6666666666666666,
              "#ed7953"
             ],
             [
              0.7777777777777778,
              "#fb9f3a"
             ],
             [
              0.8888888888888888,
              "#fdca26"
             ],
             [
              1,
              "#f0f921"
             ]
            ],
            "type": "surface"
           }
          ],
          "table": [
           {
            "cells": {
             "fill": {
              "color": "#EBF0F8"
             },
             "line": {
              "color": "white"
             }
            },
            "header": {
             "fill": {
              "color": "#C8D4E3"
             },
             "line": {
              "color": "white"
             }
            },
            "type": "table"
           }
          ]
         },
         "layout": {
          "annotationdefaults": {
           "arrowcolor": "#2a3f5f",
           "arrowhead": 0,
           "arrowwidth": 1
          },
          "autotypenumbers": "strict",
          "coloraxis": {
           "colorbar": {
            "outlinewidth": 0,
            "ticks": ""
           }
          },
          "colorscale": {
           "diverging": [
            [
             0,
             "#8e0152"
            ],
            [
             0.1,
             "#c51b7d"
            ],
            [
             0.2,
             "#de77ae"
            ],
            [
             0.3,
             "#f1b6da"
            ],
            [
             0.4,
             "#fde0ef"
            ],
            [
             0.5,
             "#f7f7f7"
            ],
            [
             0.6,
             "#e6f5d0"
            ],
            [
             0.7,
             "#b8e186"
            ],
            [
             0.8,
             "#7fbc41"
            ],
            [
             0.9,
             "#4d9221"
            ],
            [
             1,
             "#276419"
            ]
           ],
           "sequential": [
            [
             0,
             "#0d0887"
            ],
            [
             0.1111111111111111,
             "#46039f"
            ],
            [
             0.2222222222222222,
             "#7201a8"
            ],
            [
             0.3333333333333333,
             "#9c179e"
            ],
            [
             0.4444444444444444,
             "#bd3786"
            ],
            [
             0.5555555555555556,
             "#d8576b"
            ],
            [
             0.6666666666666666,
             "#ed7953"
            ],
            [
             0.7777777777777778,
             "#fb9f3a"
            ],
            [
             0.8888888888888888,
             "#fdca26"
            ],
            [
             1,
             "#f0f921"
            ]
           ],
           "sequentialminus": [
            [
             0,
             "#0d0887"
            ],
            [
             0.1111111111111111,
             "#46039f"
            ],
            [
             0.2222222222222222,
             "#7201a8"
            ],
            [
             0.3333333333333333,
             "#9c179e"
            ],
            [
             0.4444444444444444,
             "#bd3786"
            ],
            [
             0.5555555555555556,
             "#d8576b"
            ],
            [
             0.6666666666666666,
             "#ed7953"
            ],
            [
             0.7777777777777778,
             "#fb9f3a"
            ],
            [
             0.8888888888888888,
             "#fdca26"
            ],
            [
             1,
             "#f0f921"
            ]
           ]
          },
          "colorway": [
           "#636efa",
           "#EF553B",
           "#00cc96",
           "#ab63fa",
           "#FFA15A",
           "#19d3f3",
           "#FF6692",
           "#B6E880",
           "#FF97FF",
           "#FECB52"
          ],
          "font": {
           "color": "#2a3f5f"
          },
          "geo": {
           "bgcolor": "white",
           "lakecolor": "white",
           "landcolor": "#E5ECF6",
           "showlakes": true,
           "showland": true,
           "subunitcolor": "white"
          },
          "hoverlabel": {
           "align": "left"
          },
          "hovermode": "closest",
          "mapbox": {
           "style": "light"
          },
          "paper_bgcolor": "white",
          "plot_bgcolor": "#E5ECF6",
          "polar": {
           "angularaxis": {
            "gridcolor": "white",
            "linecolor": "white",
            "ticks": ""
           },
           "bgcolor": "#E5ECF6",
           "radialaxis": {
            "gridcolor": "white",
            "linecolor": "white",
            "ticks": ""
           }
          },
          "scene": {
           "xaxis": {
            "backgroundcolor": "#E5ECF6",
            "gridcolor": "white",
            "gridwidth": 2,
            "linecolor": "white",
            "showbackground": true,
            "ticks": "",
            "zerolinecolor": "white"
           },
           "yaxis": {
            "backgroundcolor": "#E5ECF6",
            "gridcolor": "white",
            "gridwidth": 2,
            "linecolor": "white",
            "showbackground": true,
            "ticks": "",
            "zerolinecolor": "white"
           },
           "zaxis": {
            "backgroundcolor": "#E5ECF6",
            "gridcolor": "white",
            "gridwidth": 2,
            "linecolor": "white",
            "showbackground": true,
            "ticks": "",
            "zerolinecolor": "white"
           }
          },
          "shapedefaults": {
           "line": {
            "color": "#2a3f5f"
           }
          },
          "ternary": {
           "aaxis": {
            "gridcolor": "white",
            "linecolor": "white",
            "ticks": ""
           },
           "baxis": {
            "gridcolor": "white",
            "linecolor": "white",
            "ticks": ""
           },
           "bgcolor": "#E5ECF6",
           "caxis": {
            "gridcolor": "white",
            "linecolor": "white",
            "ticks": ""
           }
          },
          "title": {
           "x": 0.05
          },
          "xaxis": {
           "automargin": true,
           "gridcolor": "white",
           "linecolor": "white",
           "ticks": "",
           "title": {
            "standoff": 15
           },
           "zerolinecolor": "white",
           "zerolinewidth": 2
          },
          "yaxis": {
           "automargin": true,
           "gridcolor": "white",
           "linecolor": "white",
           "ticks": "",
           "title": {
            "standoff": 15
           },
           "zerolinecolor": "white",
           "zerolinewidth": 2
          }
         }
        },
        "xaxis": {
         "anchor": "y",
         "autorange": true,
         "domain": [
          0,
          1
         ],
         "range": [
          -0.5,
          99.5
         ],
         "title": {
          "text": "word"
         },
         "type": "category"
        },
        "yaxis": {
         "anchor": "x",
         "autorange": true,
         "domain": [
          0,
          1
         ],
         "range": [
          0,
          6.656082697970383
         ],
         "title": {
          "text": "coef"
         },
         "type": "linear"
        }
       }
      },
      "image/png": "[encoded data removed]",
      "text/html": [
       "<div>                            <div id=\"ffc85a75-7364-40d3-9173-d0401f649442\" class=\"plotly-graph-div\" style=\"height:525px; width:100%;\"></div>            <script type=\"text/javascript\">                require([\"plotly\"], function(Plotly) {                    window.PLOTLYENV=window.PLOTLYENV || {};                                    if (document.getElementById(\"ffc85a75-7364-40d3-9173-d0401f649442\")) {                    Plotly.newPlot(                        \"ffc85a75-7364-40d3-9173-d0401f649442\",                        [{\"alignmentgroup\":\"True\",\"hovertemplate\":\"word=%{x}<br>coef=%{y}<extra></extra>\",\"legendgroup\":\"\",\"marker\":{\"color\":\"#636efa\",\"pattern\":{\"shape\":\"\"}},\"name\":\"\",\"offsetgroup\":\"\",\"orientation\":\"v\",\"showlegend\":false,\"textposition\":\"auto\",\"x\":[\"claude\",\"akon\",\"ashanti\",\"bonnie\",\"barbra\",\"ciara\",\"britney\",\"cause\",\"discover\",\"aaron\",\"bale\",\"vibe\",\"nods\",\"brandy\",\"marriage\",\"snaps\",\"boy\",\"fanny\",\"nightlife\",\"lauren\",\"realise\",\"beyonce\",\"hurting\",\"husband\",\"bitterness\",\"flava\",\"manger\",\"gots\",\"aquarius\",\"travelled\",\"cathedral\",\"bee\",\"hun\",\"cherish\",\"offers\",\"tutankhamen\",\"rejoices\",\"reminisce\",\"2gether\",\"raindrops\",\"inquisition\",\"coz\",\"chick\",\"singer\",\"rumour\",\"petty\",\"konvict\",\"foxes\",\"japan\",\"parents\",\"fights\",\"crows\",\"driftwood\",\"triumph\",\"aaliyah\",\"infant\",\"snappin\",\"diva\",\"counts\",\"tho\",\"obvious\",\"suga\",\"homecoming\",\"tis\",\"clarke\",\"gunshot\",\"hunters\",\"flawless\",\"b2k\",\"explore\",\"lamb\",\"luxuries\",\"rollercoaster\",\"history\",\"everythin\",\"peron\",\"tug\",\"scroll\",\"stronger\",\"windy\",\"club\",\"strangely\",\"heart\",\"kicks\",\"rainfall\",\"sculptor\",\"pusha\",\"oops\",\"emmanuel\",\"nanananana\",\"rushes\",\"creeping\",\"uhhh\",\"dedicate\",\"chat\",\"fizz\",\"smack\",\"goodies\",\"dressed\",\"geisha\"],\"xaxis\":\"x\",\"y\":[6.323278563071864,5.73755728933396,4.534037000114378,4.3379991214525475,3.92119273465664,3.9044382271032037,3.562238217534021,3.383512207769793,3.3517359828154856,3.3233102965766617,3.2868940224366145,3.2764429346083412,3.2624582598277914,3.143945730724067,3.1347518335598474,3.1291033765254386,3.120950265282032,3.1038467511852557,3.101517455179561,3.080084065656036,3.0695982024488746,3.062791448889144,3.030961315049382,3.0047078904904705,2.9877651130869234,2.981053654753405,2.9595327761491754,2.9389579825319823,2.9227016435366937,2.9050101848065584,2.8910899811819966,2.891074483090779,2.867043051970984,2.842149963059046,2.832999822466681,2.8285160358459334,2.8147543268870914,2.8009484775078506,2.722830485352326,2.6583511247218965,2.649128295871871,2.6334788641056277,2.6295248553915074,2.6282431284038967,2.5908516438809825,2.573140098744866,2.5674595074691786,2.55487558013946,2.5543454654789963,2.5525568048038174,2.525332913417286,2.5158727557946774,2.5043916167885625,2.499781530741976,2.4939782317849732,2.4923435033370875,2.473801189046079,2.4668972695331455,2.4576338158435123,2.4553851334518546,2.4551058461364117,2.4520649141390547,2.443522691869864,2.4430202462773534,2.4273758270558092,2.393715723567376,2.391101820077945,2.3888935162117906,2.3884821957133573,2.3839306262117708,2.3816231083754875,2.3814010452493215,2.369882565358355,2.362718294571747,2.330813992459957,2.317919795190686,2.317382543771784,2.3144334633389176,2.3141864504750327,2.306301790584864,2.2989324847666324,2.2948871854034274,2.293028593032376,2.2890319829332832,2.284789111162483,2.2793140598485784,2.27496485997448,2.2749046710946663,2.250569374023367,2.250055441169235,2.2491845157281745,2.249164804635815,2.245991086812641,2.237125001674968,2.2226705005058673,2.2215827076052537,2.2192466099191774,2.2122659554289528,2.206425748426807,2.198215542251192],\"yaxis\":\"y\",\"type\":\"bar\"}],                        {\"template\":{\"data\":{\"bar\":[{\"error_x\":{\"color\":\"#2a3f5f\"},\"error_y\":{\"color\":\"#2a3f5f\"},\"marker\":{\"line\":{\"color\":\"#E5ECF6\",\"width\":0.5},\"pattern\":{\"fillmode\":\"overlay\",\"size\":10,\"solidity\":0.2}},\"type\":\"bar\"}],\"barpolar\":[{\"marker\":{\"line\":{\"color\":\"#E5ECF6\",\"width\":0.5},\"pattern\":{\"fillmode\":\"overlay\",\"size\":10,\"solidity\":0.2}},\"type\":\"barpolar\"}],\"carpet\":[{\"aaxis\":{\"endlinecolor\":\"#2a3f5f\",\"gridcolor\":\"white\",\"linecolor\":\"white\",\"minorgridcolor\":\"white\",\"startlinecolor\":\"#2a3f5f\"},\"baxis\":{\"endlinecolor\":\"#2a3f5f\",\"gridcolor\":\"white\",\"linecolor\":\"white\",\"minorgridcolor\":\"white\",\"startlinecolor\":\"#2a3f5f\"},\"type\":\"carpet\"}],\"choropleth\":[{\"colorbar\":{\"outlinewidth\":0,\"ticks\":\"\"},\"type\":\"choropleth\"}],\"contour\":[{\"colorbar\":{\"outlinewidth\":0,\"ticks\":\"\"},\"colorscale\":[[0.0,\"#0d0887\"],[0.1111111111111111,\"#46039f\"],[0.2222222222222222,\"#7201a8\"],[0.3333333333333333,\"#9c179e\"],[0.4444444444444444,\"#bd3786\"],[0.5555555555555556,\"#d8576b\"],[0.6666666666666666,\"#ed7953\"],[0.7777777777777778,\"#fb9f3a\"],[0.8888888888888888,\"#fdca26\"],[1.0,\"#f0f921\"]],\"type\":\"contour\"}],\"contourcarpet\":[{\"colorbar\":{\"outlinewidth\":0,\"ticks\":\"\"},\"type\":\"contourcarpet\"}],\"heatmap\":[{\"colorbar\":{\"outlinewidth\":0,\"ticks\":\"\"},\"colorscale\":[[0.0,\"#0d0887\"],[0.1111111111111111,\"#46039f\"],[0.2222222222222222,\"#7201a8\"],[0.3333333333333333,\"#9c179e\"],[0.4444444444444444,\"#bd3786\"],[0.5555555555555556,\"#d8576b\"],[0.6666666666666666,\"#ed7953\"],[0.7777777777777778,\"#fb9f3a\"],[0.8888888888888888,\"#fdca26\"],[1.0,\"#f0f921\"]],\"type\":\"heatmap\"}],\"heatmapgl\":[{\"colorbar\":{\"outlinewidth\":0,\"ticks\":\"\"},\"colorscale\":[[0.0,\"#0d0887\"],[0.1111111111111111,\"#46039f\"],[0.2222222222222222,\"#7201a8\"],[0.3333333333333333,\"#9c179e\"],[0.4444444444444444,\"#bd3786\"],[0.5555555555555556,\"#d8576b\"],[0.6666666666666666,\"#ed7953\"],[0.7777777777777778,\"#fb9f3a\"],[0.8888888888888888,\"#fdca26\"],[1.0,\"#f0f921\"]],\"type\":\"heatmapgl\"}],\"histogram\":[{\"marker\":{\"pattern\":{\"fillmode\":\"overlay\",\"size\":10,\"solidity\":0.2}},\"type\":\"histogram\"}],\"histogram2d\":[{\"colorbar\":{\"outlinewidth\":0,\"ticks\":\"\"},\"colorscale\":[[0.0,\"#0d0887\"],[0.1111111111111111,\"#46039f\"],[0.2222222222222222,\"#7201a8\"],[0.3333333333333333,\"#9c179e\"],[0.4444444444444444,\"#bd3786\"],[0.5555555555555556,\"#d8576b\"],[0.6666666666666666,\"#ed7953\"],[0.7777777777777778,\"#fb9f3a\"],[0.8888888888888888,\"#fdca26\"],[1.0,\"#f0f921\"]],\"type\":\"histogram2d\"}],\"histogram2dcontour\":[{\"colorbar\":{\"outlinewidth\":0,\"ticks\":\"\"},\"colorscale\":[[0.0,\"#0d0887\"],[0.1111111111111111,\"#46039f\"],[0.2222222222222222,\"#7201a8\"],[0.3333333333333333,\"#9c179e\"],[0.4444444444444444,\"#bd3786\"],[0.5555555555555556,\"#d8576b\"],[0.6666666666666666,\"#ed7953\"],[0.7777777777777778,\"#fb9f3a\"],[0.8888888888888888,\"#fdca26\"],[1.0,\"#f0f921\"]],\"type\":\"histogram2dcontour\"}],\"mesh3d\":[{\"colorbar\":{\"outlinewidth\":0,\"ticks\":\"\"},\"type\":\"mesh3d\"}],\"parcoords\":[{\"line\":{\"colorbar\":{\"outlinewidth\":0,\"ticks\":\"\"}},\"type\":\"parcoords\"}],\"pie\":[{\"automargin\":true,\"type\":\"pie\"}],\"scatter\":[{\"marker\":{\"colorbar\":{\"outlinewidth\":0,\"ticks\":\"\"}},\"type\":\"scatter\"}],\"scatter3d\":[{\"line\":{\"colorbar\":{\"outlinewidth\":0,\"ticks\":\"\"}},\"marker\":{\"colorbar\":{\"outlinewidth\":0,\"ticks\":\"\"}},\"type\":\"scatter3d\"}],\"scattercarpet\":[{\"marker\":{\"colorbar\":{\"outlinewidth\":0,\"ticks\":\"\"}},\"type\":\"scattercarpet\"}],\"scattergeo\":[{\"marker\":{\"colorbar\":{\"outlinewidth\":0,\"ticks\":\"\"}},\"type\":\"scattergeo\"}],\"scattergl\":[{\"marker\":{\"colorbar\":{\"outlinewidth\":0,\"ticks\":\"\"}},\"type\":\"scattergl\"}],\"scattermapbox\":[{\"marker\":{\"colorbar\":{\"outlinewidth\":0,\"ticks\":\"\"}},\"type\":\"scattermapbox\"}],\"scatterpolar\":[{\"marker\":{\"colorbar\":{\"outlinewidth\":0,\"ticks\":\"\"}},\"type\":\"scatterpolar\"}],\"scatterpolargl\":[{\"marker\":{\"colorbar\":{\"outlinewidth\":0,\"ticks\":\"\"}},\"type\":\"scatterpolargl\"}],\"scatterternary\":[{\"marker\":{\"colorbar\":{\"outlinewidth\":0,\"ticks\":\"\"}},\"type\":\"scatterternary\"}],\"surface\":[{\"colorbar\":{\"outlinewidth\":0,\"ticks\":\"\"},\"colorscale\":[[0.0,\"#0d0887\"],[0.1111111111111111,\"#46039f\"],[0.2222222222222222,\"#7201a8\"],[0.3333333333333333,\"#9c179e\"],[0.4444444444444444,\"#bd3786\"],[0.5555555555555556,\"#d8576b\"],[0.6666666666666666,\"#ed7953\"],[0.7777777777777778,\"#fb9f3a\"],[0.8888888888888888,\"#fdca26\"],[1.0,\"#f0f921\"]],\"type\":\"surface\"}],\"table\":[{\"cells\":{\"fill\":{\"color\":\"#EBF0F8\"},\"line\":{\"color\":\"white\"}},\"header\":{\"fill\":{\"color\":\"#C8D4E3\"},\"line\":{\"color\":\"white\"}},\"type\":\"table\"}]},\"layout\":{\"annotationdefaults\":{\"arrowcolor\":\"#2a3f5f\",\"arrowhead\":0,\"arrowwidth\":1},\"autotypenumbers\":\"strict\",\"coloraxis\":{\"colorbar\":{\"outlinewidth\":0,\"ticks\":\"\"}},\"colorscale\":{\"diverging\":[[0,\"#8e0152\"],[0.1,\"#c51b7d\"],[0.2,\"#de77ae\"],[0.3,\"#f1b6da\"],[0.4,\"#fde0ef\"],[0.5,\"#f7f7f7\"],[0.6,\"#e6f5d0\"],[0.7,\"#b8e186\"],[0.8,\"#7fbc41\"],[0.9,\"#4d9221\"],[1,\"#276419\"]],\"sequential\":[[0.0,\"#0d0887\"],[0.1111111111111111,\"#46039f\"],[0.2222222222222222,\"#7201a8\"],[0.3333333333333333,\"#9c179e\"],[0.4444444444444444,\"#bd3786\"],[0.5555555555555556,\"#d8576b\"],[0.6666666666666666,\"#ed7953\"],[0.7777777777777778,\"#fb9f3a\"],[0.8888888888888888,\"#fdca26\"],[1.0,\"#f0f921\"]],\"sequentialminus\":[[0.0,\"#0d0887\"],[0.1111111111111111,\"#46039f\"],[0.2222222222222222,\"#7201a8\"],[0.3333333333333333,\"#9c179e\"],[0.4444444444444444,\"#bd3786\"],[0.5555555555555556,\"#d8576b\"],[0.6666666666666666,\"#ed7953\"],[0.7777777777777778,\"#fb9f3a\"],[0.8888888888888888,\"#fdca26\"],[1.0,\"#f0f921\"]]},\"colorway\":[\"#636efa\",\"#EF553B\",\"#00cc96\",\"#ab63fa\",\"#FFA15A\",\"#19d3f3\",\"#FF6692\",\"#B6E880\",\"#FF97FF\",\"#FECB52\"],\"font\":{\"color\":\"#2a3f5f\"},\"geo\":{\"bgcolor\":\"white\",\"lakecolor\":\"white\",\"landcolor\":\"#E5ECF6\",\"showlakes\":true,\"showland\":true,\"subunitcolor\":\"white\"},\"hoverlabel\":{\"align\":\"left\"},\"hovermode\":\"closest\",\"mapbox\":{\"style\":\"light\"},\"paper_bgcolor\":\"white\",\"plot_bgcolor\":\"#E5ECF6\",\"polar\":{\"angularaxis\":{\"gridcolor\":\"white\",\"linecolor\":\"white\",\"ticks\":\"\"},\"bgcolor\":\"#E5ECF6\",\"radialaxis\":{\"gridcolor\":\"white\",\"linecolor\":\"white\",\"ticks\":\"\"}},\"scene\":{\"xaxis\":{\"backgroundcolor\":\"#E5ECF6\",\"gridcolor\":\"white\",\"gridwidth\":2,\"linecolor\":\"white\",\"showbackground\":true,\"ticks\":\"\",\"zerolinecolor\":\"white\"},\"yaxis\":{\"backgroundcolor\":\"#E5ECF6\",\"gridcolor\":\"white\",\"gridwidth\":2,\"linecolor\":\"white\",\"showbackground\":true,\"ticks\":\"\",\"zerolinecolor\":\"white\"},\"zaxis\":{\"backgroundcolor\":\"#E5ECF6\",\"gridcolor\":\"white\",\"gridwidth\":2,\"linecolor\":\"white\",\"showbackground\":true,\"ticks\":\"\",\"zerolinecolor\":\"white\"}},\"shapedefaults\":{\"line\":{\"color\":\"#2a3f5f\"}},\"ternary\":{\"aaxis\":{\"gridcolor\":\"white\",\"linecolor\":\"white\",\"ticks\":\"\"},\"baxis\":{\"gridcolor\":\"white\",\"linecolor\":\"white\",\"ticks\":\"\"},\"bgcolor\":\"#E5ECF6\",\"caxis\":{\"gridcolor\":\"white\",\"linecolor\":\"white\",\"ticks\":\"\"}},\"title\":{\"x\":0.05},\"xaxis\":{\"automargin\":true,\"gridcolor\":\"white\",\"linecolor\":\"white\",\"ticks\":\"\",\"title\":{\"standoff\":15},\"zerolinecolor\":\"white\",\"zerolinewidth\":2},\"yaxis\":{\"automargin\":true,\"gridcolor\":\"white\",\"linecolor\":\"white\",\"ticks\":\"\",\"title\":{\"standoff\":15},\"zerolinecolor\":\"white\",\"zerolinewidth\":2}}},\"xaxis\":{\"anchor\":\"y\",\"domain\":[0.0,1.0],\"title\":{\"text\":\"word\"}},\"yaxis\":{\"anchor\":\"x\",\"domain\":[0.0,1.0],\"title\":{\"text\":\"coef\"}},\"legend\":{\"tracegroupgap\":0},\"margin\":{\"t\":60},\"barmode\":\"relative\"},                        {\"responsive\": true}                    ).then(function(){\n",
       "                            \n",
       "var gd = document.getElementById('ffc85a75-7364-40d3-9173-d0401f649442');\n",
       "var x = new MutationObserver(function (mutations, observer) {{\n",
       "        var display = window.getComputedStyle(gd).display;\n",
       "        if (!display || display === 'none') {{\n",
       "            console.log([gd, 'removed!']);\n",
       "            Plotly.purge(gd);\n",
       "            observer.disconnect();\n",
       "        }}\n",
       "}});\n",
       "\n",
       "// Listen for the removal of the full notebook cells\n",
       "var notebookContainer = gd.closest('#notebook-container');\n",
       "if (notebookContainer) {{\n",
       "    x.observe(notebookContainer, {childList: true});\n",
       "}}\n",
       "\n",
       "// Listen for the clearing of the current output cell\n",
       "var outputEl = gd.closest('.output');\n",
       "if (outputEl) {{\n",
       "    x.observe(outputEl, {childList: true});\n",
       "}}\n",
       "\n",
       "                        })                };                });            </script>        </div>"
      ]
     },
     "metadata": {},
     "output_type": "display_data"
    }
   ],
   "source": [
    "import plotly.express as px\n",
    "fig = px.bar(res.head(100), x=\"word\", y=\"coef\")\n",
    "fig.show()"
   ]
  },
  {
   "cell_type": "code",
   "execution_count": 219,
   "id": "40bcf059-5ed6-4d37-beb3-b1116fc65e9c",
   "metadata": {},
   "outputs": [
    {
     "data": {
      "application/vnd.plotly.v1+json": {
       "config": {
        "plotlyServerURL": "https://plot.ly"
       },
       "data": [
        {
         "alignmentgroup": "True",
         "hovertemplate": "word=%{x}<br>coef=%{y}<extra></extra>",
         "legendgroup": "",
         "marker": {
          "color": "#636efa",
          "pattern": {
           "shape": ""
          }
         },
         "name": "",
         "offsetgroup": "",
         "orientation": "v",
         "showlegend": false,
         "textposition": "auto",
         "type": "bar",
         "x": [
          "vocals",
          "bleeding",
          "cracked",
          "teardrops",
          "envy",
          "serve",
          "demise",
          "split",
          "rat",
          "rocks",
          "suffering",
          "movement",
          "along",
          "betrayed",
          "united",
          "curtain",
          "existence",
          "trade",
          "failure",
          "century",
          "bum",
          "die",
          "grave",
          "rockin",
          "violent",
          "offer",
          "agony",
          "honor",
          "flesh",
          "orleans",
          "madly",
          "ideas",
          "bones",
          "hammer",
          "purpose",
          "enemies",
          "hell",
          "gypsy",
          "sins",
          "bite",
          "humanity",
          "lick",
          "sonny",
          "funeral",
          "shawty",
          "neck",
          "feat",
          "meat",
          "mist",
          "gang",
          "darlin",
          "album",
          "farewell",
          "except",
          "dyin",
          "rape",
          "insanity",
          "old",
          "farm",
          "company",
          "saviour",
          "bent",
          "mornin",
          "bullets",
          "arise",
          "beer",
          "greed",
          "mexico",
          "son",
          "moan",
          "balls",
          "faded",
          "bloody",
          "awful",
          "deadly",
          "knowledge",
          "niggaz",
          "wounds",
          "worried",
          "drugs",
          "death",
          "dick",
          "kill",
          "blues",
          "shit",
          "fuck",
          "well",
          "parton",
          "babyface",
          "brain",
          "dead",
          "performed",
          "sweetheart",
          "forty",
          "squeeze",
          "hatred",
          "gal",
          "fucking",
          "niggas",
          "fuckin"
         ],
         "xaxis": "x",
         "y": [
          -2.8874779152749115,
          -2.8876801205005576,
          -2.8890785291915018,
          -2.8902699740293887,
          -2.8906132757415888,
          -2.8945497076429776,
          -2.8963035167010878,
          -2.899945857284263,
          -2.902554074387496,
          -2.9035797343048335,
          -2.917589776083852,
          -2.9229320595971724,
          -2.9237133238526054,
          -2.9273065767412882,
          -2.9286290917024855,
          -2.9370428015994765,
          -2.937171290113497,
          -2.9470552445250555,
          -2.9485408814351417,
          -2.960496011839449,
          -2.9667078157065645,
          -2.970352296847283,
          -2.9761676110709443,
          -2.9857445107381215,
          -2.9928441434744237,
          -2.993704153822167,
          -2.9948572292248654,
          -3.0042270871796126,
          -3.0216839419377113,
          -3.034058169759726,
          -3.0355723106733508,
          -3.0364179413872505,
          -3.0496092113457456,
          -3.049689509809276,
          -3.0591916217978117,
          -3.063484661794618,
          -3.067578081899924,
          -3.071089487832444,
          -3.079514221905014,
          -3.0857720416635073,
          -3.0911581120023213,
          -3.0919785152823636,
          -3.099934483198323,
          -3.103012416701623,
          -3.1171773240703113,
          -3.1185162632900436,
          -3.1195229140192806,
          -3.128048189624186,
          -3.1427004664700675,
          -3.1788034483290537,
          -3.182252593571133,
          -3.1940467177185345,
          -3.230711039149188,
          -3.2326331296234945,
          -3.280259268657205,
          -3.2959337814119998,
          -3.3261980559908,
          -3.3488621508324203,
          -3.3575308790881166,
          -3.3678584839694663,
          -3.3840930723249545,
          -3.386007664874208,
          -3.3905275316483388,
          -3.4029687329133878,
          -3.41817289095298,
          -3.469462576414608,
          -3.4760818405179377,
          -3.4956972119982277,
          -3.5068074636803375,
          -3.543331200625088,
          -3.551611351593582,
          -3.589744459877476,
          -3.6078836983857268,
          -3.617348722535685,
          -3.651942387582416,
          -3.6704013218168816,
          -3.671554868843906,
          -3.7100597451119217,
          -3.7125452706014617,
          -3.744443502908096,
          -3.822375150096234,
          -3.852500776101827,
          -3.890209216229699,
          -3.93342311124779,
          -3.9522259406013767,
          -4.035014814498545,
          -4.134764413590918,
          -4.180101882046452,
          -4.254296853925668,
          -4.2722415539986,
          -4.339846802552583,
          -4.384170721393757,
          -4.519942579907405,
          -4.548579926541606,
          -4.562132156663748,
          -4.618264778144897,
          -4.661843266626641,
          -4.9925204784538355,
          -5.718463834413779,
          -5.829420892718438
         ],
         "yaxis": "y"
        }
       ],
       "layout": {
        "autosize": true,
        "barmode": "relative",
        "legend": {
         "tracegroupgap": 0
        },
        "margin": {
         "t": 60
        },
        "template": {
         "data": {
          "bar": [
           {
            "error_x": {
             "color": "#2a3f5f"
            },
            "error_y": {
             "color": "#2a3f5f"
            },
            "marker": {
             "line": {
              "color": "#E5ECF6",
              "width": 0.5
             },
             "pattern": {
              "fillmode": "overlay",
              "size": 10,
              "solidity": 0.2
             }
            },
            "type": "bar"
           }
          ],
          "barpolar": [
           {
            "marker": {
             "line": {
              "color": "#E5ECF6",
              "width": 0.5
             },
             "pattern": {
              "fillmode": "overlay",
              "size": 10,
              "solidity": 0.2
             }
            },
            "type": "barpolar"
           }
          ],
          "carpet": [
           {
            "aaxis": {
             "endlinecolor": "#2a3f5f",
             "gridcolor": "white",
             "linecolor": "white",
             "minorgridcolor": "white",
             "startlinecolor": "#2a3f5f"
            },
            "baxis": {
             "endlinecolor": "#2a3f5f",
             "gridcolor": "white",
             "linecolor": "white",
             "minorgridcolor": "white",
             "startlinecolor": "#2a3f5f"
            },
            "type": "carpet"
           }
          ],
          "choropleth": [
           {
            "colorbar": {
             "outlinewidth": 0,
             "ticks": ""
            },
            "type": "choropleth"
           }
          ],
          "contour": [
           {
            "colorbar": {
             "outlinewidth": 0,
             "ticks": ""
            },
            "colorscale": [
             [
              0,
              "#0d0887"
             ],
             [
              0.1111111111111111,
              "#46039f"
             ],
             [
              0.2222222222222222,
              "#7201a8"
             ],
             [
              0.3333333333333333,
              "#9c179e"
             ],
             [
              0.4444444444444444,
              "#bd3786"
             ],
             [
              0.5555555555555556,
              "#d8576b"
             ],
             [
              0.6666666666666666,
              "#ed7953"
             ],
             [
              0.7777777777777778,
              "#fb9f3a"
             ],
             [
              0.8888888888888888,
              "#fdca26"
             ],
             [
              1,
              "#f0f921"
             ]
            ],
            "type": "contour"
           }
          ],
          "contourcarpet": [
           {
            "colorbar": {
             "outlinewidth": 0,
             "ticks": ""
            },
            "type": "contourcarpet"
           }
          ],
          "heatmap": [
           {
            "colorbar": {
             "outlinewidth": 0,
             "ticks": ""
            },
            "colorscale": [
             [
              0,
              "#0d0887"
             ],
             [
              0.1111111111111111,
              "#46039f"
             ],
             [
              0.2222222222222222,
              "#7201a8"
             ],
             [
              0.3333333333333333,
              "#9c179e"
             ],
             [
              0.4444444444444444,
              "#bd3786"
             ],
             [
              0.5555555555555556,
              "#d8576b"
             ],
             [
              0.6666666666666666,
              "#ed7953"
             ],
             [
              0.7777777777777778,
              "#fb9f3a"
             ],
             [
              0.8888888888888888,
              "#fdca26"
             ],
             [
              1,
              "#f0f921"
             ]
            ],
            "type": "heatmap"
           }
          ],
          "heatmapgl": [
           {
            "colorbar": {
             "outlinewidth": 0,
             "ticks": ""
            },
            "colorscale": [
             [
              0,
              "#0d0887"
             ],
             [
              0.1111111111111111,
              "#46039f"
             ],
             [
              0.2222222222222222,
              "#7201a8"
             ],
             [
              0.3333333333333333,
              "#9c179e"
             ],
             [
              0.4444444444444444,
              "#bd3786"
             ],
             [
              0.5555555555555556,
              "#d8576b"
             ],
             [
              0.6666666666666666,
              "#ed7953"
             ],
             [
              0.7777777777777778,
              "#fb9f3a"
             ],
             [
              0.8888888888888888,
              "#fdca26"
             ],
             [
              1,
              "#f0f921"
             ]
            ],
            "type": "heatmapgl"
           }
          ],
          "histogram": [
           {
            "marker": {
             "pattern": {
              "fillmode": "overlay",
              "size": 10,
              "solidity": 0.2
             }
            },
            "type": "histogram"
           }
          ],
          "histogram2d": [
           {
            "colorbar": {
             "outlinewidth": 0,
             "ticks": ""
            },
            "colorscale": [
             [
              0,
              "#0d0887"
             ],
             [
              0.1111111111111111,
              "#46039f"
             ],
             [
              0.2222222222222222,
              "#7201a8"
             ],
             [
              0.3333333333333333,
              "#9c179e"
             ],
             [
              0.4444444444444444,
              "#bd3786"
             ],
             [
              0.5555555555555556,
              "#d8576b"
             ],
             [
              0.6666666666666666,
              "#ed7953"
             ],
             [
              0.7777777777777778,
              "#fb9f3a"
             ],
             [
              0.8888888888888888,
              "#fdca26"
             ],
             [
              1,
              "#f0f921"
             ]
            ],
            "type": "histogram2d"
           }
          ],
          "histogram2dcontour": [
           {
            "colorbar": {
             "outlinewidth": 0,
             "ticks": ""
            },
            "colorscale": [
             [
              0,
              "#0d0887"
             ],
             [
              0.1111111111111111,
              "#46039f"
             ],
             [
              0.2222222222222222,
              "#7201a8"
             ],
             [
              0.3333333333333333,
              "#9c179e"
             ],
             [
              0.4444444444444444,
              "#bd3786"
             ],
             [
              0.5555555555555556,
              "#d8576b"
             ],
             [
              0.6666666666666666,
              "#ed7953"
             ],
             [
              0.7777777777777778,
              "#fb9f3a"
             ],
             [
              0.8888888888888888,
              "#fdca26"
             ],
             [
              1,
              "#f0f921"
             ]
            ],
            "type": "histogram2dcontour"
           }
          ],
          "mesh3d": [
           {
            "colorbar": {
             "outlinewidth": 0,
             "ticks": ""
            },
            "type": "mesh3d"
           }
          ],
          "parcoords": [
           {
            "line": {
             "colorbar": {
              "outlinewidth": 0,
              "ticks": ""
             }
            },
            "type": "parcoords"
           }
          ],
          "pie": [
           {
            "automargin": true,
            "type": "pie"
           }
          ],
          "scatter": [
           {
            "marker": {
             "colorbar": {
              "outlinewidth": 0,
              "ticks": ""
             }
            },
            "type": "scatter"
           }
          ],
          "scatter3d": [
           {
            "line": {
             "colorbar": {
              "outlinewidth": 0,
              "ticks": ""
             }
            },
            "marker": {
             "colorbar": {
              "outlinewidth": 0,
              "ticks": ""
             }
            },
            "type": "scatter3d"
           }
          ],
          "scattercarpet": [
           {
            "marker": {
             "colorbar": {
              "outlinewidth": 0,
              "ticks": ""
             }
            },
            "type": "scattercarpet"
           }
          ],
          "scattergeo": [
           {
            "marker": {
             "colorbar": {
              "outlinewidth": 0,
              "ticks": ""
             }
            },
            "type": "scattergeo"
           }
          ],
          "scattergl": [
           {
            "marker": {
             "colorbar": {
              "outlinewidth": 0,
              "ticks": ""
             }
            },
            "type": "scattergl"
           }
          ],
          "scattermapbox": [
           {
            "marker": {
             "colorbar": {
              "outlinewidth": 0,
              "ticks": ""
             }
            },
            "type": "scattermapbox"
           }
          ],
          "scatterpolar": [
           {
            "marker": {
             "colorbar": {
              "outlinewidth": 0,
              "ticks": ""
             }
            },
            "type": "scatterpolar"
           }
          ],
          "scatterpolargl": [
           {
            "marker": {
             "colorbar": {
              "outlinewidth": 0,
              "ticks": ""
             }
            },
            "type": "scatterpolargl"
           }
          ],
          "scatterternary": [
           {
            "marker": {
             "colorbar": {
              "outlinewidth": 0,
              "ticks": ""
             }
            },
            "type": "scatterternary"
           }
          ],
          "surface": [
           {
            "colorbar": {
             "outlinewidth": 0,
             "ticks": ""
            },
            "colorscale": [
             [
              0,
              "#0d0887"
             ],
             [
              0.1111111111111111,
              "#46039f"
             ],
             [
              0.2222222222222222,
              "#7201a8"
             ],
             [
              0.3333333333333333,
              "#9c179e"
             ],
             [
              0.4444444444444444,
              "#bd3786"
             ],
             [
              0.5555555555555556,
              "#d8576b"
             ],
             [
              0.6666666666666666,
              "#ed7953"
             ],
             [
              0.7777777777777778,
              "#fb9f3a"
             ],
             [
              0.8888888888888888,
              "#fdca26"
             ],
             [
              1,
              "#f0f921"
             ]
            ],
            "type": "surface"
           }
          ],
          "table": [
           {
            "cells": {
             "fill": {
              "color": "#EBF0F8"
             },
             "line": {
              "color": "white"
             }
            },
            "header": {
             "fill": {
              "color": "#C8D4E3"
             },
             "line": {
              "color": "white"
             }
            },
            "type": "table"
           }
          ]
         },
         "layout": {
          "annotationdefaults": {
           "arrowcolor": "#2a3f5f",
           "arrowhead": 0,
           "arrowwidth": 1
          },
          "autotypenumbers": "strict",
          "coloraxis": {
           "colorbar": {
            "outlinewidth": 0,
            "ticks": ""
           }
          },
          "colorscale": {
           "diverging": [
            [
             0,
             "#8e0152"
            ],
            [
             0.1,
             "#c51b7d"
            ],
            [
             0.2,
             "#de77ae"
            ],
            [
             0.3,
             "#f1b6da"
            ],
            [
             0.4,
             "#fde0ef"
            ],
            [
             0.5,
             "#f7f7f7"
            ],
            [
             0.6,
             "#e6f5d0"
            ],
            [
             0.7,
             "#b8e186"
            ],
            [
             0.8,
             "#7fbc41"
            ],
            [
             0.9,
             "#4d9221"
            ],
            [
             1,
             "#276419"
            ]
           ],
           "sequential": [
            [
             0,
             "#0d0887"
            ],
            [
             0.1111111111111111,
             "#46039f"
            ],
            [
             0.2222222222222222,
             "#7201a8"
            ],
            [
             0.3333333333333333,
             "#9c179e"
            ],
            [
             0.4444444444444444,
             "#bd3786"
            ],
            [
             0.5555555555555556,
             "#d8576b"
            ],
            [
             0.6666666666666666,
             "#ed7953"
            ],
            [
             0.7777777777777778,
             "#fb9f3a"
            ],
            [
             0.8888888888888888,
             "#fdca26"
            ],
            [
             1,
             "#f0f921"
            ]
           ],
           "sequentialminus": [
            [
             0,
             "#0d0887"
            ],
            [
             0.1111111111111111,
             "#46039f"
            ],
            [
             0.2222222222222222,
             "#7201a8"
            ],
            [
             0.3333333333333333,
             "#9c179e"
            ],
            [
             0.4444444444444444,
             "#bd3786"
            ],
            [
             0.5555555555555556,
             "#d8576b"
            ],
            [
             0.6666666666666666,
             "#ed7953"
            ],
            [
             0.7777777777777778,
             "#fb9f3a"
            ],
            [
             0.8888888888888888,
             "#fdca26"
            ],
            [
             1,
             "#f0f921"
            ]
           ]
          },
          "colorway": [
           "#636efa",
           "#EF553B",
           "#00cc96",
           "#ab63fa",
           "#FFA15A",
           "#19d3f3",
           "#FF6692",
           "#B6E880",
           "#FF97FF",
           "#FECB52"
          ],
          "font": {
           "color": "#2a3f5f"
          },
          "geo": {
           "bgcolor": "white",
           "lakecolor": "white",
           "landcolor": "#E5ECF6",
           "showlakes": true,
           "showland": true,
           "subunitcolor": "white"
          },
          "hoverlabel": {
           "align": "left"
          },
          "hovermode": "closest",
          "mapbox": {
           "style": "light"
          },
          "paper_bgcolor": "white",
          "plot_bgcolor": "#E5ECF6",
          "polar": {
           "angularaxis": {
            "gridcolor": "white",
            "linecolor": "white",
            "ticks": ""
           },
           "bgcolor": "#E5ECF6",
           "radialaxis": {
            "gridcolor": "white",
            "linecolor": "white",
            "ticks": ""
           }
          },
          "scene": {
           "xaxis": {
            "backgroundcolor": "#E5ECF6",
            "gridcolor": "white",
            "gridwidth": 2,
            "linecolor": "white",
            "showbackground": true,
            "ticks": "",
            "zerolinecolor": "white"
           },
           "yaxis": {
            "backgroundcolor": "#E5ECF6",
            "gridcolor": "white",
            "gridwidth": 2,
            "linecolor": "white",
            "showbackground": true,
            "ticks": "",
            "zerolinecolor": "white"
           },
           "zaxis": {
            "backgroundcolor": "#E5ECF6",
            "gridcolor": "white",
            "gridwidth": 2,
            "linecolor": "white",
            "showbackground": true,
            "ticks": "",
            "zerolinecolor": "white"
           }
          },
          "shapedefaults": {
           "line": {
            "color": "#2a3f5f"
           }
          },
          "ternary": {
           "aaxis": {
            "gridcolor": "white",
            "linecolor": "white",
            "ticks": ""
           },
           "baxis": {
            "gridcolor": "white",
            "linecolor": "white",
            "ticks": ""
           },
           "bgcolor": "#E5ECF6",
           "caxis": {
            "gridcolor": "white",
            "linecolor": "white",
            "ticks": ""
           }
          },
          "title": {
           "x": 0.05
          },
          "xaxis": {
           "automargin": true,
           "gridcolor": "white",
           "linecolor": "white",
           "ticks": "",
           "title": {
            "standoff": 15
           },
           "zerolinecolor": "white",
           "zerolinewidth": 2
          },
          "yaxis": {
           "automargin": true,
           "gridcolor": "white",
           "linecolor": "white",
           "ticks": "",
           "title": {
            "standoff": 15
           },
           "zerolinecolor": "white",
           "zerolinewidth": 2
          }
         }
        },
        "xaxis": {
         "anchor": "y",
         "autorange": true,
         "domain": [
          0,
          1
         ],
         "range": [
          -0.5,
          99.5
         ],
         "title": {
          "text": "word"
         },
         "type": "category"
        },
        "yaxis": {
         "anchor": "x",
         "autorange": true,
         "domain": [
          0,
          1
         ],
         "range": [
          -6.136232518650987,
          0
         ],
         "title": {
          "text": "coef"
         },
         "type": "linear"
        }
       }
      },
      "image/png": "[encoded data removed]",
      "text/html": [
       "<div>                            <div id=\"76af1ab5-5b46-4c3c-a9af-eb190ca67d17\" class=\"plotly-graph-div\" style=\"height:525px; width:100%;\"></div>            <script type=\"text/javascript\">                require([\"plotly\"], function(Plotly) {                    window.PLOTLYENV=window.PLOTLYENV || {};                                    if (document.getElementById(\"76af1ab5-5b46-4c3c-a9af-eb190ca67d17\")) {                    Plotly.newPlot(                        \"76af1ab5-5b46-4c3c-a9af-eb190ca67d17\",                        [{\"alignmentgroup\":\"True\",\"hovertemplate\":\"word=%{x}<br>coef=%{y}<extra></extra>\",\"legendgroup\":\"\",\"marker\":{\"color\":\"#636efa\",\"pattern\":{\"shape\":\"\"}},\"name\":\"\",\"offsetgroup\":\"\",\"orientation\":\"v\",\"showlegend\":false,\"textposition\":\"auto\",\"x\":[\"vocals\",\"bleeding\",\"cracked\",\"teardrops\",\"envy\",\"serve\",\"demise\",\"split\",\"rat\",\"rocks\",\"suffering\",\"movement\",\"along\",\"betrayed\",\"united\",\"curtain\",\"existence\",\"trade\",\"failure\",\"century\",\"bum\",\"die\",\"grave\",\"rockin\",\"violent\",\"offer\",\"agony\",\"honor\",\"flesh\",\"orleans\",\"madly\",\"ideas\",\"bones\",\"hammer\",\"purpose\",\"enemies\",\"hell\",\"gypsy\",\"sins\",\"bite\",\"humanity\",\"lick\",\"sonny\",\"funeral\",\"shawty\",\"neck\",\"feat\",\"meat\",\"mist\",\"gang\",\"darlin\",\"album\",\"farewell\",\"except\",\"dyin\",\"rape\",\"insanity\",\"old\",\"farm\",\"company\",\"saviour\",\"bent\",\"mornin\",\"bullets\",\"arise\",\"beer\",\"greed\",\"mexico\",\"son\",\"moan\",\"balls\",\"faded\",\"bloody\",\"awful\",\"deadly\",\"knowledge\",\"niggaz\",\"wounds\",\"worried\",\"drugs\",\"death\",\"dick\",\"kill\",\"blues\",\"shit\",\"fuck\",\"well\",\"parton\",\"babyface\",\"brain\",\"dead\",\"performed\",\"sweetheart\",\"forty\",\"squeeze\",\"hatred\",\"gal\",\"fucking\",\"niggas\",\"fuckin\"],\"xaxis\":\"x\",\"y\":[-2.8874779152749115,-2.8876801205005576,-2.8890785291915018,-2.8902699740293887,-2.8906132757415888,-2.8945497076429776,-2.8963035167010878,-2.899945857284263,-2.902554074387496,-2.9035797343048335,-2.917589776083852,-2.9229320595971724,-2.9237133238526054,-2.9273065767412882,-2.9286290917024855,-2.9370428015994765,-2.937171290113497,-2.9470552445250555,-2.9485408814351417,-2.960496011839449,-2.9667078157065645,-2.970352296847283,-2.9761676110709443,-2.9857445107381215,-2.9928441434744237,-2.993704153822167,-2.9948572292248654,-3.0042270871796126,-3.0216839419377113,-3.034058169759726,-3.0355723106733508,-3.0364179413872505,-3.0496092113457456,-3.049689509809276,-3.0591916217978117,-3.063484661794618,-3.067578081899924,-3.071089487832444,-3.079514221905014,-3.0857720416635073,-3.0911581120023213,-3.0919785152823636,-3.099934483198323,-3.103012416701623,-3.1171773240703113,-3.1185162632900436,-3.1195229140192806,-3.128048189624186,-3.1427004664700675,-3.1788034483290537,-3.182252593571133,-3.1940467177185345,-3.230711039149188,-3.2326331296234945,-3.280259268657205,-3.2959337814119998,-3.3261980559908,-3.3488621508324203,-3.3575308790881166,-3.3678584839694663,-3.3840930723249545,-3.386007664874208,-3.3905275316483388,-3.4029687329133878,-3.41817289095298,-3.469462576414608,-3.4760818405179377,-3.4956972119982277,-3.5068074636803375,-3.543331200625088,-3.551611351593582,-3.589744459877476,-3.6078836983857268,-3.617348722535685,-3.651942387582416,-3.6704013218168816,-3.671554868843906,-3.7100597451119217,-3.7125452706014617,-3.744443502908096,-3.822375150096234,-3.852500776101827,-3.890209216229699,-3.93342311124779,-3.9522259406013767,-4.035014814498545,-4.134764413590918,-4.180101882046452,-4.254296853925668,-4.2722415539986,-4.339846802552583,-4.384170721393757,-4.519942579907405,-4.548579926541606,-4.562132156663748,-4.618264778144897,-4.661843266626641,-4.9925204784538355,-5.718463834413779,-5.829420892718438],\"yaxis\":\"y\",\"type\":\"bar\"}],                        {\"template\":{\"data\":{\"bar\":[{\"error_x\":{\"color\":\"#2a3f5f\"},\"error_y\":{\"color\":\"#2a3f5f\"},\"marker\":{\"line\":{\"color\":\"#E5ECF6\",\"width\":0.5},\"pattern\":{\"fillmode\":\"overlay\",\"size\":10,\"solidity\":0.2}},\"type\":\"bar\"}],\"barpolar\":[{\"marker\":{\"line\":{\"color\":\"#E5ECF6\",\"width\":0.5},\"pattern\":{\"fillmode\":\"overlay\",\"size\":10,\"solidity\":0.2}},\"type\":\"barpolar\"}],\"carpet\":[{\"aaxis\":{\"endlinecolor\":\"#2a3f5f\",\"gridcolor\":\"white\",\"linecolor\":\"white\",\"minorgridcolor\":\"white\",\"startlinecolor\":\"#2a3f5f\"},\"baxis\":{\"endlinecolor\":\"#2a3f5f\",\"gridcolor\":\"white\",\"linecolor\":\"white\",\"minorgridcolor\":\"white\",\"startlinecolor\":\"#2a3f5f\"},\"type\":\"carpet\"}],\"choropleth\":[{\"colorbar\":{\"outlinewidth\":0,\"ticks\":\"\"},\"type\":\"choropleth\"}],\"contour\":[{\"colorbar\":{\"outlinewidth\":0,\"ticks\":\"\"},\"colorscale\":[[0.0,\"#0d0887\"],[0.1111111111111111,\"#46039f\"],[0.2222222222222222,\"#7201a8\"],[0.3333333333333333,\"#9c179e\"],[0.4444444444444444,\"#bd3786\"],[0.5555555555555556,\"#d8576b\"],[0.6666666666666666,\"#ed7953\"],[0.7777777777777778,\"#fb9f3a\"],[0.8888888888888888,\"#fdca26\"],[1.0,\"#f0f921\"]],\"type\":\"contour\"}],\"contourcarpet\":[{\"colorbar\":{\"outlinewidth\":0,\"ticks\":\"\"},\"type\":\"contourcarpet\"}],\"heatmap\":[{\"colorbar\":{\"outlinewidth\":0,\"ticks\":\"\"},\"colorscale\":[[0.0,\"#0d0887\"],[0.1111111111111111,\"#46039f\"],[0.2222222222222222,\"#7201a8\"],[0.3333333333333333,\"#9c179e\"],[0.4444444444444444,\"#bd3786\"],[0.5555555555555556,\"#d8576b\"],[0.6666666666666666,\"#ed7953\"],[0.7777777777777778,\"#fb9f3a\"],[0.8888888888888888,\"#fdca26\"],[1.0,\"#f0f921\"]],\"type\":\"heatmap\"}],\"heatmapgl\":[{\"colorbar\":{\"outlinewidth\":0,\"ticks\":\"\"},\"colorscale\":[[0.0,\"#0d0887\"],[0.1111111111111111,\"#46039f\"],[0.2222222222222222,\"#7201a8\"],[0.3333333333333333,\"#9c179e\"],[0.4444444444444444,\"#bd3786\"],[0.5555555555555556,\"#d8576b\"],[0.6666666666666666,\"#ed7953\"],[0.7777777777777778,\"#fb9f3a\"],[0.8888888888888888,\"#fdca26\"],[1.0,\"#f0f921\"]],\"type\":\"heatmapgl\"}],\"histogram\":[{\"marker\":{\"pattern\":{\"fillmode\":\"overlay\",\"size\":10,\"solidity\":0.2}},\"type\":\"histogram\"}],\"histogram2d\":[{\"colorbar\":{\"outlinewidth\":0,\"ticks\":\"\"},\"colorscale\":[[0.0,\"#0d0887\"],[0.1111111111111111,\"#46039f\"],[0.2222222222222222,\"#7201a8\"],[0.3333333333333333,\"#9c179e\"],[0.4444444444444444,\"#bd3786\"],[0.5555555555555556,\"#d8576b\"],[0.6666666666666666,\"#ed7953\"],[0.7777777777777778,\"#fb9f3a\"],[0.8888888888888888,\"#fdca26\"],[1.0,\"#f0f921\"]],\"type\":\"histogram2d\"}],\"histogram2dcontour\":[{\"colorbar\":{\"outlinewidth\":0,\"ticks\":\"\"},\"colorscale\":[[0.0,\"#0d0887\"],[0.1111111111111111,\"#46039f\"],[0.2222222222222222,\"#7201a8\"],[0.3333333333333333,\"#9c179e\"],[0.4444444444444444,\"#bd3786\"],[0.5555555555555556,\"#d8576b\"],[0.6666666666666666,\"#ed7953\"],[0.7777777777777778,\"#fb9f3a\"],[0.8888888888888888,\"#fdca26\"],[1.0,\"#f0f921\"]],\"type\":\"histogram2dcontour\"}],\"mesh3d\":[{\"colorbar\":{\"outlinewidth\":0,\"ticks\":\"\"},\"type\":\"mesh3d\"}],\"parcoords\":[{\"line\":{\"colorbar\":{\"outlinewidth\":0,\"ticks\":\"\"}},\"type\":\"parcoords\"}],\"pie\":[{\"automargin\":true,\"type\":\"pie\"}],\"scatter\":[{\"marker\":{\"colorbar\":{\"outlinewidth\":0,\"ticks\":\"\"}},\"type\":\"scatter\"}],\"scatter3d\":[{\"line\":{\"colorbar\":{\"outlinewidth\":0,\"ticks\":\"\"}},\"marker\":{\"colorbar\":{\"outlinewidth\":0,\"ticks\":\"\"}},\"type\":\"scatter3d\"}],\"scattercarpet\":[{\"marker\":{\"colorbar\":{\"outlinewidth\":0,\"ticks\":\"\"}},\"type\":\"scattercarpet\"}],\"scattergeo\":[{\"marker\":{\"colorbar\":{\"outlinewidth\":0,\"ticks\":\"\"}},\"type\":\"scattergeo\"}],\"scattergl\":[{\"marker\":{\"colorbar\":{\"outlinewidth\":0,\"ticks\":\"\"}},\"type\":\"scattergl\"}],\"scattermapbox\":[{\"marker\":{\"colorbar\":{\"outlinewidth\":0,\"ticks\":\"\"}},\"type\":\"scattermapbox\"}],\"scatterpolar\":[{\"marker\":{\"colorbar\":{\"outlinewidth\":0,\"ticks\":\"\"}},\"type\":\"scatterpolar\"}],\"scatterpolargl\":[{\"marker\":{\"colorbar\":{\"outlinewidth\":0,\"ticks\":\"\"}},\"type\":\"scatterpolargl\"}],\"scatterternary\":[{\"marker\":{\"colorbar\":{\"outlinewidth\":0,\"ticks\":\"\"}},\"type\":\"scatterternary\"}],\"surface\":[{\"colorbar\":{\"outlinewidth\":0,\"ticks\":\"\"},\"colorscale\":[[0.0,\"#0d0887\"],[0.1111111111111111,\"#46039f\"],[0.2222222222222222,\"#7201a8\"],[0.3333333333333333,\"#9c179e\"],[0.4444444444444444,\"#bd3786\"],[0.5555555555555556,\"#d8576b\"],[0.6666666666666666,\"#ed7953\"],[0.7777777777777778,\"#fb9f3a\"],[0.8888888888888888,\"#fdca26\"],[1.0,\"#f0f921\"]],\"type\":\"surface\"}],\"table\":[{\"cells\":{\"fill\":{\"color\":\"#EBF0F8\"},\"line\":{\"color\":\"white\"}},\"header\":{\"fill\":{\"color\":\"#C8D4E3\"},\"line\":{\"color\":\"white\"}},\"type\":\"table\"}]},\"layout\":{\"annotationdefaults\":{\"arrowcolor\":\"#2a3f5f\",\"arrowhead\":0,\"arrowwidth\":1},\"autotypenumbers\":\"strict\",\"coloraxis\":{\"colorbar\":{\"outlinewidth\":0,\"ticks\":\"\"}},\"colorscale\":{\"diverging\":[[0,\"#8e0152\"],[0.1,\"#c51b7d\"],[0.2,\"#de77ae\"],[0.3,\"#f1b6da\"],[0.4,\"#fde0ef\"],[0.5,\"#f7f7f7\"],[0.6,\"#e6f5d0\"],[0.7,\"#b8e186\"],[0.8,\"#7fbc41\"],[0.9,\"#4d9221\"],[1,\"#276419\"]],\"sequential\":[[0.0,\"#0d0887\"],[0.1111111111111111,\"#46039f\"],[0.2222222222222222,\"#7201a8\"],[0.3333333333333333,\"#9c179e\"],[0.4444444444444444,\"#bd3786\"],[0.5555555555555556,\"#d8576b\"],[0.6666666666666666,\"#ed7953\"],[0.7777777777777778,\"#fb9f3a\"],[0.8888888888888888,\"#fdca26\"],[1.0,\"#f0f921\"]],\"sequentialminus\":[[0.0,\"#0d0887\"],[0.1111111111111111,\"#46039f\"],[0.2222222222222222,\"#7201a8\"],[0.3333333333333333,\"#9c179e\"],[0.4444444444444444,\"#bd3786\"],[0.5555555555555556,\"#d8576b\"],[0.6666666666666666,\"#ed7953\"],[0.7777777777777778,\"#fb9f3a\"],[0.8888888888888888,\"#fdca26\"],[1.0,\"#f0f921\"]]},\"colorway\":[\"#636efa\",\"#EF553B\",\"#00cc96\",\"#ab63fa\",\"#FFA15A\",\"#19d3f3\",\"#FF6692\",\"#B6E880\",\"#FF97FF\",\"#FECB52\"],\"font\":{\"color\":\"#2a3f5f\"},\"geo\":{\"bgcolor\":\"white\",\"lakecolor\":\"white\",\"landcolor\":\"#E5ECF6\",\"showlakes\":true,\"showland\":true,\"subunitcolor\":\"white\"},\"hoverlabel\":{\"align\":\"left\"},\"hovermode\":\"closest\",\"mapbox\":{\"style\":\"light\"},\"paper_bgcolor\":\"white\",\"plot_bgcolor\":\"#E5ECF6\",\"polar\":{\"angularaxis\":{\"gridcolor\":\"white\",\"linecolor\":\"white\",\"ticks\":\"\"},\"bgcolor\":\"#E5ECF6\",\"radialaxis\":{\"gridcolor\":\"white\",\"linecolor\":\"white\",\"ticks\":\"\"}},\"scene\":{\"xaxis\":{\"backgroundcolor\":\"#E5ECF6\",\"gridcolor\":\"white\",\"gridwidth\":2,\"linecolor\":\"white\",\"showbackground\":true,\"ticks\":\"\",\"zerolinecolor\":\"white\"},\"yaxis\":{\"backgroundcolor\":\"#E5ECF6\",\"gridcolor\":\"white\",\"gridwidth\":2,\"linecolor\":\"white\",\"showbackground\":true,\"ticks\":\"\",\"zerolinecolor\":\"white\"},\"zaxis\":{\"backgroundcolor\":\"#E5ECF6\",\"gridcolor\":\"white\",\"gridwidth\":2,\"linecolor\":\"white\",\"showbackground\":true,\"ticks\":\"\",\"zerolinecolor\":\"white\"}},\"shapedefaults\":{\"line\":{\"color\":\"#2a3f5f\"}},\"ternary\":{\"aaxis\":{\"gridcolor\":\"white\",\"linecolor\":\"white\",\"ticks\":\"\"},\"baxis\":{\"gridcolor\":\"white\",\"linecolor\":\"white\",\"ticks\":\"\"},\"bgcolor\":\"#E5ECF6\",\"caxis\":{\"gridcolor\":\"white\",\"linecolor\":\"white\",\"ticks\":\"\"}},\"title\":{\"x\":0.05},\"xaxis\":{\"automargin\":true,\"gridcolor\":\"white\",\"linecolor\":\"white\",\"ticks\":\"\",\"title\":{\"standoff\":15},\"zerolinecolor\":\"white\",\"zerolinewidth\":2},\"yaxis\":{\"automargin\":true,\"gridcolor\":\"white\",\"linecolor\":\"white\",\"ticks\":\"\",\"title\":{\"standoff\":15},\"zerolinecolor\":\"white\",\"zerolinewidth\":2}}},\"xaxis\":{\"anchor\":\"y\",\"domain\":[0.0,1.0],\"title\":{\"text\":\"word\"}},\"yaxis\":{\"anchor\":\"x\",\"domain\":[0.0,1.0],\"title\":{\"text\":\"coef\"}},\"legend\":{\"tracegroupgap\":0},\"margin\":{\"t\":60},\"barmode\":\"relative\"},                        {\"responsive\": true}                    ).then(function(){\n",
       "                            \n",
       "var gd = document.getElementById('76af1ab5-5b46-4c3c-a9af-eb190ca67d17');\n",
       "var x = new MutationObserver(function (mutations, observer) {{\n",
       "        var display = window.getComputedStyle(gd).display;\n",
       "        if (!display || display === 'none') {{\n",
       "            console.log([gd, 'removed!']);\n",
       "            Plotly.purge(gd);\n",
       "            observer.disconnect();\n",
       "        }}\n",
       "}});\n",
       "\n",
       "// Listen for the removal of the full notebook cells\n",
       "var notebookContainer = gd.closest('#notebook-container');\n",
       "if (notebookContainer) {{\n",
       "    x.observe(notebookContainer, {childList: true});\n",
       "}}\n",
       "\n",
       "// Listen for the clearing of the current output cell\n",
       "var outputEl = gd.closest('.output');\n",
       "if (outputEl) {{\n",
       "    x.observe(outputEl, {childList: true});\n",
       "}}\n",
       "\n",
       "                        })                };                });            </script>        </div>"
      ]
     },
     "metadata": {},
     "output_type": "display_data"
    }
   ],
   "source": [
    "fig = px.bar(res.tail(100), x=\"word\", y=\"coef\")\n",
    "fig.show()"
   ]
  },
  {
   "cell_type": "markdown",
   "id": "bfd1a26c-eb24-47d5-8ec5-c6a9c2b492ff",
   "metadata": {},
   "source": [
    "#### 4. Answer to the question and explanation to the new lyrics"
   ]
  },
  {
   "cell_type": "code",
   "execution_count": 235,
   "id": "0bcb1400-bcbc-4400-a286-de7eda58090f",
   "metadata": {},
   "outputs": [
    {
     "name": "stdout",
     "output_type": "stream",
     "text": [
      "song: 0.479% not pop; 0.521% pop\n"
     ]
    }
   ],
   "source": [
    "new_example = [\"The sky breaks open and the rain falls down Oh, and the pain is blinding But we carry on... Seems like the end of everything When the one you love Turns their back on you And the whole world falls down on you... It's the end of the world It's the end of the world Well, I'm holding on...But the world keeps dragging me down... It's the end of the world It's the end of the world Well, I'm holding on... But the world keeps dragging me down... I got my heart on lockdown And my eyes on the lookout But I just know that I'm Never gonna win this They can keep the lights on They can keep the music loud I don't need anything When I got my music And I'm holding on... The sky breaks open and the rain falls down And the pain is blinding But we carry on (They tell you lies) I'm holding on... (They tell you lies)The sky breaks open and the rain falls down Oh, and the pain is blinding But we carry on... Seems like the end of everything When the one you love Turns their back on you And the whole world falls down on you... It's the end of the world It's the end of the world Well, I'm holding on...But the world keeps dragging me down... It's the end of the world It's the end of the world Well, I'm holding on... But the world keeps dragging me down... I got my heart on lockdown And my eyes on the lookout But I just know that I'm Never gonna win this They can keep the lights on They can keep the music loud I don't need anything When I got my music  And I'm holding on... The sky breaks open and the rain falls down And the pain is blinding But we carry on (They tell you lies) I'm holding on... (They tell you lies)\"]\n",
    "new_example_bow = tfidf.transform(new_example) #transform example\n",
    "proba = s1.predict_proba(new_example_bow) #predict probabilities with the best model\n",
    "probability_not_pop = proba[0][0] #get value for non pop\n",
    "probability_pop = proba[0][1] #get value for pop\n",
    "print(\"{}: {}% not pop; {}% pop\".format(\"song\", round(probability_not_pop, 3), round(probability_pop, 3)))  #print results"
   ]
  },
  {
   "cell_type": "markdown",
   "id": "77e5797d-94d1-4aa8-8eab-a60d15e021c9",
   "metadata": {},
   "source": [
    "The predicted probabilities of the pop song are not saying much. There is a slightly bigger possibility that the new example is a pop song, but it could go either way. However, the song by our classifier would be still classified as a pop song if we set the cut off to 0.5. Moreover, from my subjective point of view, I am not sure either. The song could be a folk song or even a rock song - for example, a romantic rock ballad. So I do not think that it is a \"classic\" pop song. To sum up, data-driven approach to songs lyrics is an interesting approach but it would be beneficial to have data of \"real music\" for the model or even for me."
   ]
  }
 ],
 "metadata": {
  "kernelspec": {
   "display_name": "Python 3 (ipykernel)",
   "language": "python",
   "name": "python3"
  },
  "language_info": {
   "codemirror_mode": {
    "name": "ipython",
    "version": 3
   },
   "file_extension": ".py",
   "mimetype": "text/x-python",
   "name": "python",
   "nbconvert_exporter": "python",
   "pygments_lexer": "ipython3",
   "version": "3.8.8"
  }
 },
 "nbformat": 4,
 "nbformat_minor": 5
}
