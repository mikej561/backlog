{
 "cells": [
  {
   "cell_type": "markdown",
   "id": "d3286d4a-ffb9-47c2-a2f3-5502a755e7c2",
   "metadata": {},
   "source": [
    "# Question 2\n",
    "#### Author: Michal Kubina"
   ]
  },
  {
   "cell_type": "markdown",
   "id": "5019af81-0c9d-4a59-beb8-5877c403ff9c",
   "metadata": {},
   "source": [
    "#### 0. imports"
   ]
  },
  {
   "cell_type": "code",
   "execution_count": 1,
   "id": "33a8a846-14a6-4603-a966-b2ab28d618be",
   "metadata": {},
   "outputs": [],
   "source": [
    "import pandas as pd\n",
    "from gensim.models import Word2Vec\n",
    "import numpy as np\n",
    "import plotly.graph_objects as go\n",
    "import math"
   ]
  },
  {
   "cell_type": "markdown",
   "id": "cb311a1e-f392-4449-a221-9936d99d4e2a",
   "metadata": {},
   "source": [
    "First I will look at the data set and choose two relevant shows which I know (at least a little) with enough data entries:"
   ]
  },
  {
   "cell_type": "code",
   "execution_count": 2,
   "id": "9f02a907-86fd-4cc9-a586-8ab6b9c6acce",
   "metadata": {},
   "outputs": [
    {
     "data": {
      "text/plain": [
       "Game of Thrones            15462\n",
       "Breaking Bad                6424\n",
       "Better Call Saul            5268\n",
       "Black Mirror                4720\n",
       "Stranger Things             2891\n",
       "True Detective              2721\n",
       "Twin Peaks                  2399\n",
       "Dark                        2004\n",
       "Ozark                       1417\n",
       "Mr. Robot                   1347\n",
       "Orange is the New Black     1208\n",
       "The Witcher                 1188\n",
       "Fargo                        680\n",
       "Mindhunter                   657\n",
       "The Newsroom                 484\n",
       "Succession                   389\n",
       "The Crown                    338\n",
       "House of Cards               158\n",
       "La Casa de Papel             150\n",
       "The Mandelorian               95\n",
       "Name: title, dtype: int64"
      ]
     },
     "metadata": {},
     "output_type": "display_data"
    }
   ],
   "source": [
    "data = pd.read_pickle(\"discussions.p\")  #read discussions pickle file\n",
    "display(data.title.value_counts()) #look at the different tv shows and number of entries\n",
    "ref = pd.read_pickle(\"word_cats.p\") #read word_cats file"
   ]
  },
  {
   "cell_type": "markdown",
   "id": "1ee34ca7-dc0b-4603-a4a9-21b70d0e8a7c",
   "metadata": {},
   "source": [
    "#### 1. Relevance of comparison and hypothesis"
   ]
  },
  {
   "cell_type": "markdown",
   "id": "000f5078-571c-43c2-90ee-99999cc39e0c",
   "metadata": {},
   "source": [
    "For my comparison I will choose two shows, Better Call Saul and Orange Is the New Black. These shows have something in common but simultaneously are extremes in a kind.\n",
    "\n",
    "Better Call Saul is full of men characters such as Saul Goodmann, Gustavo Fring, Lalo Salamanca, Chuck, Mike, Nacho, etc. From my point of view, the only visible and lead main woman character is Kim Wexler. \n",
    "\n",
    "Contrary, Orange is the New Black is full of women such as Alex, Tifanny, Poussey, Suzanne, Nicky, and Piper. However, I suppose two male characters can be considered important to the show. These are Larry Bloom and Sam Healy. \n",
    "\n",
    "Thus, I believe that the first show itself is more about men and the second show is more about women. Thus, I would suggest that this trend could be seen in data in a way that people on Reddit will be discussing the specific characters a lot and this would lead to gender bias.\n",
    "\n",
    "Hypothesis:\n",
    "\n",
    "The composition of gender across actors and actresses of a show is also reflected in discussions on Reddit. To be specific in a show full of men (better caul saul) the discussion should be biased to men because they are a big part of a show. On the other hand in a show full of women (orange is the new black) the comments should be rather biased to women. "
   ]
  },
  {
   "cell_type": "markdown",
   "id": "a106d465-56b3-4174-a791-a6fe739c9df9",
   "metadata": {},
   "source": [
    "Here I will look at the years of discussion to be able to tell about which series the people are writing:"
   ]
  },
  {
   "cell_type": "code",
   "execution_count": 3,
   "id": "686626eb-3644-4418-918c-09541d0e0e27",
   "metadata": {},
   "outputs": [
    {
     "name": "stdout",
     "output_type": "stream",
     "text": [
      "Better Call Saul\n",
      "Year of first message: \n",
      "2016\n",
      "Year of last message: \n",
      "2020\n",
      "-----------\n",
      "Orange is the New Black\n",
      "Year of first message: \n",
      "2013\n",
      "Year of last message: \n",
      "2016\n"
     ]
    }
   ],
   "source": [
    "print(\"Better Call Saul\")\n",
    "print(\"Year of first message: \")\n",
    "print(data[data.title == \"Better Call Saul\"].year.min())\n",
    "print(\"Year of last message: \")\n",
    "print(data[data.title == \"Better Call Saul\"].year.max())\n",
    "print(\"-----------\")\n",
    "print(\"Orange is the New Black\")\n",
    "print(\"Year of first message: \")\n",
    "print(data[data.title == \"Orange is the New Black\"].year.min())\n",
    "print(\"Year of last message: \")\n",
    "print(data[data.title == \"Orange is the New Black\"].year.max())"
   ]
  },
  {
   "cell_type": "markdown",
   "id": "8c094d50-91ed-4777-892f-97452a57a6e4",
   "metadata": {},
   "source": [
    "#### 2. processing"
   ]
  },
  {
   "cell_type": "markdown",
   "id": "bc9d5068-3f5a-4ad7-852e-8d9b51a2fb9e",
   "metadata": {},
   "source": [
    "Here I will define functions which I will use later:"
   ]
  },
  {
   "cell_type": "code",
   "execution_count": 4,
   "id": "b6dcd17b-70d3-4392-8896-d6e8e613d913",
   "metadata": {},
   "outputs": [],
   "source": [
    "def tokenize(text):\n",
    "    \"\"\"\n",
    "    Returns splitted string without tokens\n",
    "\n",
    "    Parameters\n",
    "    ----------\n",
    "    text : string\n",
    "    \n",
    "    Returns\n",
    "    ------- \n",
    "    array of strings\n",
    "    \"\"\"\n",
    "    punctuations = '!\"#$%&\\'()*+,-./:;<=>?@[\\\\]^_`{|}~' #list of all punctuations\n",
    "    for punctuation in punctuations: #loop through it\n",
    "        text = text.replace(punctuation, '') #replace it\n",
    "    text = text.lower() #lower case text\n",
    "    text = text.split() # split the text on spaces\n",
    "    return text #return list\n",
    "\n",
    "def tokenize_wrapper(data, wanted):\n",
    "    \"\"\"\n",
    "    Returns tokenized text. Wrapper to filter data.\n",
    "\n",
    "    Parameters\n",
    "    ----------\n",
    "    data : pandas dataframe\n",
    "        holds all data\n",
    "    \n",
    "    wanted : string\n",
    "        string of wanted title\n",
    "        \n",
    "    Returns\n",
    "    -------   \n",
    "    list of tokenized text\n",
    "    \"\"\"\n",
    "    texts = data[data.title == wanted].post.values #filter dataframe\n",
    "    tokenized_texts = [tokenize(text) for text in texts] #tokenize function\n",
    "    return tokenized_texts #return tokenized texts\n",
    "\n",
    "def train_word2vec(dims, tokenized_texts):\n",
    "    \"\"\"\n",
    "    Trains word embedding model.\n",
    "\n",
    "    Parameters\n",
    "    ----------\n",
    "    dims : int\n",
    "        number of vector dimensions\n",
    "    \n",
    "    tokenized_texts : string\n",
    "        list of tokenized text\n",
    "    \n",
    "    Returns\n",
    "    -------\n",
    "    word2vec model\n",
    "    \"\"\"\n",
    "    SIZE = dims # dimensions of the embeddings\n",
    "    SG = 1 # whether to use skip-gram or CBOW I use skipgram\n",
    "    WINDOW = 10 # the window size\n",
    "    N_WORKERS = 8 #set number of worker\n",
    "    MIN_COUNT = 5 #minimal count of words\n",
    "\n",
    "    model = Word2Vec(size=SIZE,\n",
    "                    sg=SG,\n",
    "                    window=WINDOW, \n",
    "                    min_count=MIN_COUNT,\n",
    "                    workers=N_WORKERS) #initialize model\n",
    "    model.build_vocab(tokenized_texts) #building vocabulary\n",
    "    model.train(tokenized_texts,\n",
    "               total_examples=model.corpus_count,\n",
    "               epochs=model.epochs) #train a model\n",
    "    return model #return a model\n",
    "\n",
    "def visualize_categories(cats, dat1, dat2):\n",
    "    \"\"\"\n",
    "    Returns the figure where mean of biases of two shows is visualised\n",
    "\n",
    "    Parameters\n",
    "    ----------\n",
    "    categories : list\n",
    "        list of categories of bias\n",
    "    dat1 : list\n",
    "        list of mean biases show1 \n",
    "    dat2 : \n",
    "        list of mean biases of show2\n",
    "        \n",
    "    Returns\n",
    "    -------\n",
    "    plotly figure\n",
    "    \"\"\"\n",
    "    fig = go.Figure(data=[\n",
    "    go.Bar(name='Better Call Saul', x=cats, y=dat1),\n",
    "    go.Bar(name='Orange is the New Black', x=cats, y=dat2)\n",
    "    ]) #set up a figure\n",
    "    fig.update_layout(barmode='group', title_text = 'Bias across categories: positive - bias to women, negative - bias to men') #update layout to groups\n",
    "    return fig #return fig"
   ]
  },
  {
   "cell_type": "markdown",
   "id": "0cab78b1-efd2-4a52-9982-c5d7da50340b",
   "metadata": {},
   "source": [
    "Below I will tokenize the text firstly in a way that I will remove punctuations and lower all words. I will not do lemmatization or removal of stopwords because I could lose some of the meaning with these procedures. Then I will train word2vec model."
   ]
  },
  {
   "cell_type": "code",
   "execution_count": 17,
   "id": "922718a8-1851-46ea-beff-db16f3ae74a7",
   "metadata": {},
   "outputs": [],
   "source": [
    "tokenized_texts_bcs = tokenize_wrapper(data, \"Better Call Saul\") #create tokenized text for better caul saul\n",
    "model_bcs = train_word2vec(250, tokenized_texts_bcs) #train the model\n",
    "\n",
    "tokenized_texts_ob = tokenize_wrapper(data, \"Orange is the New Black\") #create tokenized text for orange is the new black show\n",
    "model_ob = train_word2vec(250, tokenized_texts_ob) #train the model"
   ]
  },
  {
   "cell_type": "markdown",
   "id": "4b5dfe16-05c3-423a-8a9e-7a6c3c0d7ca9",
   "metadata": {},
   "source": [
    "To check if the models make sense I will look at the similar words and it was also used for altering number of dimensions of a vector:"
   ]
  },
  {
   "cell_type": "code",
   "execution_count": 18,
   "id": "d478e285-9fa5-43fd-9e2d-ba3aabd8c53b",
   "metadata": {},
   "outputs": [
    {
     "name": "stdout",
     "output_type": "stream",
     "text": [
      "[('stella', 0.9992452263832092), ('piper', 0.9989538788795471), ('shes', 0.9988996386528015), ('just', 0.9988816976547241)]\n",
      "[('gun', 0.9997701048851013), ('obviously', 0.9997637271881104), ('attention', 0.9997346997261047), ('cesar', 0.9997286796569824)]\n",
      "[('instead', 0.9997596740722656), ('asshole', 0.9997569918632507), ('hand', 0.9997562766075134), ('asian', 0.9997510313987732)]\n"
     ]
    }
   ],
   "source": [
    "print(model_ob.wv.most_similar('alex')[:4])\n",
    "print(model_ob.wv.most_similar('man')[:4])\n",
    "print(model_ob.wv.most_similar('woman')[:4])"
   ]
  },
  {
   "cell_type": "code",
   "execution_count": 19,
   "id": "ab3749e6-af8a-460d-b154-81ed580958b9",
   "metadata": {},
   "outputs": [
    {
     "name": "stdout",
     "output_type": "stream",
     "text": [
      "[('kims', 0.8679035902023315), ('mesa', 0.865774393081665), ('her', 0.848949134349823), ('verde', 0.8364549279212952)]\n",
      "[('hence', 0.9881959557533264), ('cares', 0.9866722822189331), ('jealous', 0.986360490322113), ('alone', 0.9861384034156799)]\n",
      "[('causes', 0.989560067653656), ('successful', 0.9893897771835327), ('vs', 0.9880961179733276), ('fighting', 0.9880233407020569)]\n"
     ]
    }
   ],
   "source": [
    "print(model_bcs.wv.most_similar('kim')[:4])\n",
    "print(model_bcs.wv.most_similar('ernesto')[:4])\n",
    "print(model_bcs.wv.most_similar('attorney')[:4])"
   ]
  },
  {
   "cell_type": "markdown",
   "id": "e60fd87c-676e-404e-989e-cfe2aa0885ec",
   "metadata": {},
   "source": [
    "Here I will try to find male and female words for show better call saul and orange is the new black. I will construct the list in a way that I will try to include the words which have a significant meaning to the shows. Moreover, I will include the first names of the characters, because this might be very important for my hypothesis."
   ]
  },
  {
   "cell_type": "code",
   "execution_count": 20,
   "id": "77e3d324-8489-4a4b-b611-bd0186a16355",
   "metadata": {},
   "outputs": [],
   "source": [
    "bcs = {} #creating dic for better caul saul\n",
    "bcs[\"m\"] = [\"he\", \"his\", \"male\", \"father\", \"grandfather\", \"boy\", \"husband\",\n",
    "            \"man\", \"men\", \"son\", \"nephew\", \"saul\", \"gustavo\", \"mike\", \"goodman\", \"lawyer\", \"salamanca\", \"lalo\", \"nacho\", \"varga\", \"attorney\"]\n",
    "bcs[\"f\"] = [\"she\", \"her\", \"female\", \"mother\", \"grandmother\",\"girl\", \"pregnant\",\n",
    "            \"wife\", \"menstruation\", \"femininity\", \"women\", \"woman\", \"daughter\", \"niece\",\n",
    "            \"kim\", \"wexler\", \"lady\"]\n",
    "\n",
    "\n",
    "ob = {} #creating dic for orange is the new black\n",
    "ob[\"m\"] = [\"he\", \"his\", \"male\", \"father\", \"grandfather\", \"boy\", \"husband\",\n",
    "            \"man\", \"men\", \"son\", \"nephew\", \"larry\", \"sam\"]\n",
    "ob[\"f\"] = [\"she\", \"her\", \"female\", \"mother\", \"grandmother\",\"girl\", \"pregnant\",\n",
    "            \"wife\", \"menstruation\", \"femininity\", \"women\", \"woman\", \"daughter\",\n",
    "            \"niece\", \"lesbian\", \"alex\", \"tifanny\", \"poussey\", \"suzanne\", \"nicky\", \"piper\"]"
   ]
  },
  {
   "cell_type": "code",
   "execution_count": 21,
   "id": "79ddad2f-941a-4eba-bcb3-ddcdb2f31a2d",
   "metadata": {},
   "outputs": [],
   "source": [
    "def get_embeddings(dic, model):\n",
    "    \"\"\"\n",
    "    Returns splitted string without tokens\n",
    "\n",
    "    Parameters\n",
    "    ----------\n",
    "    dic : dictionary\n",
    "        dic of lists \n",
    "    model : word2vec model\n",
    "        trained model\n",
    "        \n",
    "    Returns\n",
    "    ------- \n",
    "    mean embeddings for men and female\n",
    "    \"\"\"\n",
    "    words = [word for word in dic[\"m\"] if word in model.wv.vocab] # checks if word is in vocabulary (i.e. has been seen by the model before)\n",
    "    mean_m = np.mean([model.wv[word] for word in words], axis=0) #get mean\n",
    "    words = [word for word in dic[\"f\"] if word in model.wv.vocab] # checks if word is in vocabulary (i.e. has been seen by the model before)\n",
    "    mean_f = np.mean([model.wv[word] for word in words], axis=0) #get mean\n",
    "    return mean_m, mean_f\n"
   ]
  },
  {
   "cell_type": "code",
   "execution_count": 22,
   "id": "94705c3d-ac67-4fcc-b43b-09603fe3319b",
   "metadata": {},
   "outputs": [],
   "source": [
    "embedding_m_bcs, embedding_f_bcs = get_embeddings(bcs, model_bcs) #get embeddings for better call sauol\n",
    "embedding_m_ob, embedding_f_ob = get_embeddings(ob, model_ob) #get embeddings for orange is the new black"
   ]
  },
  {
   "cell_type": "code",
   "execution_count": 23,
   "id": "e8cd22a5-deb5-4ed7-b1f6-f649a4afe7c1",
   "metadata": {},
   "outputs": [],
   "source": [
    "def get_bias(embedding_m, embedding_f, model, ref):\n",
    "    \"\"\"\n",
    "    Returns dictionary of pd series with values of biases\n",
    "\n",
    "    Parameters\n",
    "    ----------\n",
    "    embedding_m : string\n",
    "        embedding vector for men\n",
    "    \n",
    "    embedding_f : string\n",
    "        embedding vector for female\n",
    "        \n",
    "    model : word2vec model\n",
    "        trained model\n",
    "        \n",
    "    ref : pandas dataframe\n",
    "        pandas dataframe of words with categories\n",
    "    Returns\n",
    "    ------- \n",
    "    dictionary of pd series\n",
    "    \"\"\"\n",
    "    li = list() #initialize list\n",
    "    dic_main = {} #init dictionary\n",
    "    for col in ref.columns: #for loop across categories\n",
    "        dic_local = {} #init local dictionary \n",
    "        for word in ref[col].values: #for loop across the words\n",
    "            if word in model.wv.vocab: #check if the word is in vocabulary\n",
    "                frob_m = np.linalg.norm(np.subtract(model.wv[word], embedding_m)) #get frobenius distance to male embedding vector\n",
    "                frob_f = np.linalg.norm(np.subtract(model.wv[word], embedding_f)) #get frobenius distance to female embedding vector\n",
    "                dic_local[word] = frob_m - frob_f #get bias\n",
    "        d = pd.Series(dic_local) #dic to pd series\n",
    "        #display(d.sort_values())\n",
    "        #print(\"-----\")\n",
    "        dic_main[col] = d #add results to main dic\n",
    "    return dic_main #return main dic"
   ]
  },
  {
   "cell_type": "code",
   "execution_count": 24,
   "id": "13b75337-39cd-4e8a-bb48-c1321b48951c",
   "metadata": {},
   "outputs": [
    {
     "data": {
      "text/html": [
       "<div>\n",
       "<style scoped>\n",
       "    .dataframe tbody tr th:only-of-type {\n",
       "        vertical-align: middle;\n",
       "    }\n",
       "\n",
       "    .dataframe tbody tr th {\n",
       "        vertical-align: top;\n",
       "    }\n",
       "\n",
       "    .dataframe thead th {\n",
       "        text-align: right;\n",
       "    }\n",
       "</style>\n",
       "<table border=\"1\" class=\"dataframe\">\n",
       "  <thead>\n",
       "    <tr style=\"text-align: right;\">\n",
       "      <th></th>\n",
       "      <th>Better Call Saul mean</th>\n",
       "      <th>Better Call Saul std</th>\n",
       "      <th>Orange is the New Black mean</th>\n",
       "      <th>Orange is the New Black std</th>\n",
       "    </tr>\n",
       "  </thead>\n",
       "  <tbody>\n",
       "    <tr>\n",
       "      <th>affect</th>\n",
       "      <td>-0.075512</td>\n",
       "      <td>0.084259</td>\n",
       "      <td>0.008356</td>\n",
       "      <td>0.015092</td>\n",
       "    </tr>\n",
       "    <tr>\n",
       "      <th>posemo</th>\n",
       "      <td>-0.081487</td>\n",
       "      <td>0.080910</td>\n",
       "      <td>0.009078</td>\n",
       "      <td>0.016343</td>\n",
       "    </tr>\n",
       "    <tr>\n",
       "      <th>negemo</th>\n",
       "      <td>-0.072258</td>\n",
       "      <td>0.084982</td>\n",
       "      <td>0.007605</td>\n",
       "      <td>0.013796</td>\n",
       "    </tr>\n",
       "    <tr>\n",
       "      <th>social</th>\n",
       "      <td>-0.062893</td>\n",
       "      <td>0.142234</td>\n",
       "      <td>-0.002076</td>\n",
       "      <td>0.023833</td>\n",
       "    </tr>\n",
       "    <tr>\n",
       "      <th>family</th>\n",
       "      <td>-0.106688</td>\n",
       "      <td>0.128468</td>\n",
       "      <td>-0.000525</td>\n",
       "      <td>0.016442</td>\n",
       "    </tr>\n",
       "    <tr>\n",
       "      <th>cogproc</th>\n",
       "      <td>-0.084940</td>\n",
       "      <td>0.080842</td>\n",
       "      <td>0.002642</td>\n",
       "      <td>0.017584</td>\n",
       "    </tr>\n",
       "    <tr>\n",
       "      <th>percept</th>\n",
       "      <td>-0.081784</td>\n",
       "      <td>0.081722</td>\n",
       "      <td>0.007677</td>\n",
       "      <td>0.012870</td>\n",
       "    </tr>\n",
       "    <tr>\n",
       "      <th>body</th>\n",
       "      <td>-0.065811</td>\n",
       "      <td>0.072434</td>\n",
       "      <td>0.004728</td>\n",
       "      <td>0.013485</td>\n",
       "    </tr>\n",
       "    <tr>\n",
       "      <th>work</th>\n",
       "      <td>-0.037275</td>\n",
       "      <td>0.133333</td>\n",
       "      <td>-0.000765</td>\n",
       "      <td>0.010698</td>\n",
       "    </tr>\n",
       "    <tr>\n",
       "      <th>leisure</th>\n",
       "      <td>-0.085612</td>\n",
       "      <td>0.065342</td>\n",
       "      <td>0.000255</td>\n",
       "      <td>0.005843</td>\n",
       "    </tr>\n",
       "    <tr>\n",
       "      <th>money</th>\n",
       "      <td>-0.054922</td>\n",
       "      <td>0.092706</td>\n",
       "      <td>0.008864</td>\n",
       "      <td>0.005933</td>\n",
       "    </tr>\n",
       "    <tr>\n",
       "      <th>relig</th>\n",
       "      <td>-0.060382</td>\n",
       "      <td>0.079828</td>\n",
       "      <td>0.003846</td>\n",
       "      <td>0.003976</td>\n",
       "    </tr>\n",
       "    <tr>\n",
       "      <th>occupation</th>\n",
       "      <td>-0.112892</td>\n",
       "      <td>0.085396</td>\n",
       "      <td>-0.002880</td>\n",
       "      <td>0.002912</td>\n",
       "    </tr>\n",
       "  </tbody>\n",
       "</table>\n",
       "</div>"
      ],
      "text/plain": [
       "            Better Call Saul mean  Better Call Saul std  \\\n",
       "affect                  -0.075512              0.084259   \n",
       "posemo                  -0.081487              0.080910   \n",
       "negemo                  -0.072258              0.084982   \n",
       "social                  -0.062893              0.142234   \n",
       "family                  -0.106688              0.128468   \n",
       "cogproc                 -0.084940              0.080842   \n",
       "percept                 -0.081784              0.081722   \n",
       "body                    -0.065811              0.072434   \n",
       "work                    -0.037275              0.133333   \n",
       "leisure                 -0.085612              0.065342   \n",
       "money                   -0.054922              0.092706   \n",
       "relig                   -0.060382              0.079828   \n",
       "occupation              -0.112892              0.085396   \n",
       "\n",
       "            Orange is the New Black mean  Orange is the New Black std  \n",
       "affect                          0.008356                     0.015092  \n",
       "posemo                          0.009078                     0.016343  \n",
       "negemo                          0.007605                     0.013796  \n",
       "social                         -0.002076                     0.023833  \n",
       "family                         -0.000525                     0.016442  \n",
       "cogproc                         0.002642                     0.017584  \n",
       "percept                         0.007677                     0.012870  \n",
       "body                            0.004728                     0.013485  \n",
       "work                           -0.000765                     0.010698  \n",
       "leisure                         0.000255                     0.005843  \n",
       "money                           0.008864                     0.005933  \n",
       "relig                           0.003846                     0.003976  \n",
       "occupation                     -0.002880                     0.002912  "
      ]
     },
     "metadata": {},
     "output_type": "display_data"
    }
   ],
   "source": [
    "dic_bcs = get_bias(embedding_m_bcs, embedding_f_bcs, model_bcs, ref) #get biases\n",
    "dic_ob = get_bias(embedding_m_ob, embedding_f_ob, model_ob, ref) #get biases\n",
    "def get_df_from_dics(dic1, dic2):\n",
    "    \"\"\"\n",
    "    Concatenates results and returns daframe with statistical measures\n",
    "\n",
    "    Parameters\n",
    "    ----------\n",
    "    dic1 : dictionary\n",
    "        dic with pd series\n",
    "    \n",
    "    dic2 : dictionary\n",
    "        dic with pd series\n",
    "        \n",
    "    Returns\n",
    "    ------- \n",
    "    pandas dataframe\n",
    "    \"\"\"\n",
    "    main = {} #init dic\n",
    "    std = {} #init dic\n",
    "    for key in dic1: #loop through keys to get the right pd series\n",
    "        main[key] = dic1[key].mean() #get mean of pd series\n",
    "        std[key] = dic1[key].std() #get std of pd series\n",
    "    res1 = pd.Series(main) #convert dic to pd series\n",
    "    res3 = pd.Series(std) #convert dic to pd series----> below  it is similar so I will leave out the comments\n",
    "    main = {}\n",
    "    std = {}\n",
    "    for key in dic2:\n",
    "        main[key] = dic2[key].mean()\n",
    "        std[key] = dic2[key].std()\n",
    "    res2 = pd.Series(main)\n",
    "    res4 = pd.Series(std)\n",
    "    return pd.concat([res1,res3, res2, res4],axis=1)\n",
    "result = get_df_from_dics(dic_bcs, dic_ob) #get statistics dataframe\n",
    "result.columns = [\"Better Call Saul mean\", \"Better Call Saul std\", \"Orange is the New Black mean\", \"Orange is the New Black std\"] #rename columns\n",
    "display(result) #display the frame\n",
    "mean_bcs = result.iloc[:, 0].mean() #compute mean\n",
    "mean_ob = result.iloc[:, 2].mean() #compute std\n",
    "std_bcs = result.iloc[:, 0].std()\n",
    "std_ob = result.iloc[:, 0].std()"
   ]
  },
  {
   "cell_type": "markdown",
   "id": "4e82dcae-63d9-4e78-9754-0ca746e67130",
   "metadata": {},
   "source": [
    "#### 3. summary"
   ]
  },
  {
   "cell_type": "markdown",
   "id": "9d0792f7-5a4e-4fda-8174-d9eb5c693800",
   "metadata": {},
   "source": [
    "From significance point of view, I will do two tailed t independent set test. Resource: https://opentextbc.ca/researchmethods/chapter/some-basic-null-hypothesis-tests/\n",
    "\n",
    "null hypothesis - means are same\n",
    "\n",
    "alternative hypothesis - means are different"
   ]
  },
  {
   "cell_type": "code",
   "execution_count": 25,
   "id": "8ea3ef01-2cb1-4394-aaad-293941824c32",
   "metadata": {},
   "outputs": [
    {
     "data": {
      "text/plain": [
       "-9.87504223624614"
      ]
     },
     "execution_count": 25,
     "metadata": {},
     "output_type": "execute_result"
    }
   ],
   "source": [
    "t = (mean_bcs - mean_ob)/math.sqrt(std_bcs*std_bcs/13 + std_ob*std_ob/13)\n",
    "t"
   ]
  },
  {
   "cell_type": "markdown",
   "id": "d9d7c0db-73b7-41dc-ad31-0cf12ba13ddb",
   "metadata": {},
   "source": [
    "Looking at the t table with n - 2 degrees of freedom we can see that we cannot reject the null hypohesis. Thus, the result is not statistically significant. However, I believe that trend is obvious (can be seen later in the plot)"
   ]
  },
  {
   "cell_type": "code",
   "execution_count": 46,
   "id": "e19304bf-5055-4713-8de2-d489cdd2a41e",
   "metadata": {},
   "outputs": [
    {
     "name": "stdout",
     "output_type": "stream",
     "text": [
      "The mean of bias across categories in Better Call Saul discussions is: -0.07557366217624434\n",
      "The standard deviation of bias across categories in Better Call Saul discussions is: 0.02044089354733074\n",
      "The mean of bias across categories in Orange is the New Black discussions is: 0.003600260021309606\n",
      "The standard deviation of bias across categories in Orange is the New Black discussions is: 0.02044089354733074\n"
     ]
    }
   ],
   "source": [
    "print(\"The mean of bias across categories in Better Call Saul discussions is: \" + str(mean_bcs))\n",
    "print(\"The standard deviation of bias across categories in Better Call Saul discussions is: \" + str(std_bcs))\n",
    "print(\"The mean of bias across categories in Orange is the New Black discussions is: \" + str(mean_ob))\n",
    "print(\"The standard deviation of bias across categories in Orange is the New Black discussions is: \" + str(std_ob))"
   ]
  },
  {
   "cell_type": "code",
   "execution_count": 27,
   "id": "eb137c0f-32db-4cf0-ba63-88cab3967334",
   "metadata": {},
   "outputs": [
    {
     "data": {
      "application/vnd.plotly.v1+json": {
       "config": {
        "plotlyServerURL": "https://plot.ly"
       },
       "data": [
        {
         "name": "Better Call Saul",
         "type": "bar",
         "x": [
          "affect",
          "posemo",
          "negemo",
          "social",
          "family",
          "cogproc",
          "percept",
          "body",
          "work",
          "leisure",
          "money",
          "relig",
          "occupation"
         ],
         "y": [
          -0.07551243943525544,
          -0.08148739821668985,
          -0.07225807421449301,
          -0.06289331887357978,
          -0.1066883574513828,
          -0.08494009981232305,
          -0.08178355769046301,
          -0.0658113562635013,
          -0.03727474764865987,
          -0.08561244143380059,
          -0.05492237661824082,
          -0.06038182161071084,
          -0.11289161902207595
         ]
        },
        {
         "name": "Orange is the New Black",
         "type": "bar",
         "x": [
          "affect",
          "posemo",
          "negemo",
          "social",
          "family",
          "cogproc",
          "percept",
          "body",
          "work",
          "leisure",
          "money",
          "relig",
          "occupation"
         ],
         "y": [
          0.008355735928988924,
          0.009077503130986141,
          0.007605098038911819,
          -0.0020761081370814093,
          -0.0005254652351140976,
          0.002642133305748026,
          0.007676609769100096,
          0.004728443506691191,
          -0.0007652938365936279,
          0.00025456249713897707,
          0.008863687515258789,
          0.003846467783053716,
          -0.0028799939900636673
         ]
        }
       ],
       "layout": {
        "autosize": true,
        "barmode": "group",
        "template": {
         "data": {
          "bar": [
           {
            "error_x": {
             "color": "#2a3f5f"
            },
            "error_y": {
             "color": "#2a3f5f"
            },
            "marker": {
             "line": {
              "color": "#E5ECF6",
              "width": 0.5
             },
             "pattern": {
              "fillmode": "overlay",
              "size": 10,
              "solidity": 0.2
             }
            },
            "type": "bar"
           }
          ],
          "barpolar": [
           {
            "marker": {
             "line": {
              "color": "#E5ECF6",
              "width": 0.5
             },
             "pattern": {
              "fillmode": "overlay",
              "size": 10,
              "solidity": 0.2
             }
            },
            "type": "barpolar"
           }
          ],
          "carpet": [
           {
            "aaxis": {
             "endlinecolor": "#2a3f5f",
             "gridcolor": "white",
             "linecolor": "white",
             "minorgridcolor": "white",
             "startlinecolor": "#2a3f5f"
            },
            "baxis": {
             "endlinecolor": "#2a3f5f",
             "gridcolor": "white",
             "linecolor": "white",
             "minorgridcolor": "white",
             "startlinecolor": "#2a3f5f"
            },
            "type": "carpet"
           }
          ],
          "choropleth": [
           {
            "colorbar": {
             "outlinewidth": 0,
             "ticks": ""
            },
            "type": "choropleth"
           }
          ],
          "contour": [
           {
            "colorbar": {
             "outlinewidth": 0,
             "ticks": ""
            },
            "colorscale": [
             [
              0,
              "#0d0887"
             ],
             [
              0.1111111111111111,
              "#46039f"
             ],
             [
              0.2222222222222222,
              "#7201a8"
             ],
             [
              0.3333333333333333,
              "#9c179e"
             ],
             [
              0.4444444444444444,
              "#bd3786"
             ],
             [
              0.5555555555555556,
              "#d8576b"
             ],
             [
              0.6666666666666666,
              "#ed7953"
             ],
             [
              0.7777777777777778,
              "#fb9f3a"
             ],
             [
              0.8888888888888888,
              "#fdca26"
             ],
             [
              1,
              "#f0f921"
             ]
            ],
            "type": "contour"
           }
          ],
          "contourcarpet": [
           {
            "colorbar": {
             "outlinewidth": 0,
             "ticks": ""
            },
            "type": "contourcarpet"
           }
          ],
          "heatmap": [
           {
            "colorbar": {
             "outlinewidth": 0,
             "ticks": ""
            },
            "colorscale": [
             [
              0,
              "#0d0887"
             ],
             [
              0.1111111111111111,
              "#46039f"
             ],
             [
              0.2222222222222222,
              "#7201a8"
             ],
             [
              0.3333333333333333,
              "#9c179e"
             ],
             [
              0.4444444444444444,
              "#bd3786"
             ],
             [
              0.5555555555555556,
              "#d8576b"
             ],
             [
              0.6666666666666666,
              "#ed7953"
             ],
             [
              0.7777777777777778,
              "#fb9f3a"
             ],
             [
              0.8888888888888888,
              "#fdca26"
             ],
             [
              1,
              "#f0f921"
             ]
            ],
            "type": "heatmap"
           }
          ],
          "heatmapgl": [
           {
            "colorbar": {
             "outlinewidth": 0,
             "ticks": ""
            },
            "colorscale": [
             [
              0,
              "#0d0887"
             ],
             [
              0.1111111111111111,
              "#46039f"
             ],
             [
              0.2222222222222222,
              "#7201a8"
             ],
             [
              0.3333333333333333,
              "#9c179e"
             ],
             [
              0.4444444444444444,
              "#bd3786"
             ],
             [
              0.5555555555555556,
              "#d8576b"
             ],
             [
              0.6666666666666666,
              "#ed7953"
             ],
             [
              0.7777777777777778,
              "#fb9f3a"
             ],
             [
              0.8888888888888888,
              "#fdca26"
             ],
             [
              1,
              "#f0f921"
             ]
            ],
            "type": "heatmapgl"
           }
          ],
          "histogram": [
           {
            "marker": {
             "pattern": {
              "fillmode": "overlay",
              "size": 10,
              "solidity": 0.2
             }
            },
            "type": "histogram"
           }
          ],
          "histogram2d": [
           {
            "colorbar": {
             "outlinewidth": 0,
             "ticks": ""
            },
            "colorscale": [
             [
              0,
              "#0d0887"
             ],
             [
              0.1111111111111111,
              "#46039f"
             ],
             [
              0.2222222222222222,
              "#7201a8"
             ],
             [
              0.3333333333333333,
              "#9c179e"
             ],
             [
              0.4444444444444444,
              "#bd3786"
             ],
             [
              0.5555555555555556,
              "#d8576b"
             ],
             [
              0.6666666666666666,
              "#ed7953"
             ],
             [
              0.7777777777777778,
              "#fb9f3a"
             ],
             [
              0.8888888888888888,
              "#fdca26"
             ],
             [
              1,
              "#f0f921"
             ]
            ],
            "type": "histogram2d"
           }
          ],
          "histogram2dcontour": [
           {
            "colorbar": {
             "outlinewidth": 0,
             "ticks": ""
            },
            "colorscale": [
             [
              0,
              "#0d0887"
             ],
             [
              0.1111111111111111,
              "#46039f"
             ],
             [
              0.2222222222222222,
              "#7201a8"
             ],
             [
              0.3333333333333333,
              "#9c179e"
             ],
             [
              0.4444444444444444,
              "#bd3786"
             ],
             [
              0.5555555555555556,
              "#d8576b"
             ],
             [
              0.6666666666666666,
              "#ed7953"
             ],
             [
              0.7777777777777778,
              "#fb9f3a"
             ],
             [
              0.8888888888888888,
              "#fdca26"
             ],
             [
              1,
              "#f0f921"
             ]
            ],
            "type": "histogram2dcontour"
           }
          ],
          "mesh3d": [
           {
            "colorbar": {
             "outlinewidth": 0,
             "ticks": ""
            },
            "type": "mesh3d"
           }
          ],
          "parcoords": [
           {
            "line": {
             "colorbar": {
              "outlinewidth": 0,
              "ticks": ""
             }
            },
            "type": "parcoords"
           }
          ],
          "pie": [
           {
            "automargin": true,
            "type": "pie"
           }
          ],
          "scatter": [
           {
            "marker": {
             "colorbar": {
              "outlinewidth": 0,
              "ticks": ""
             }
            },
            "type": "scatter"
           }
          ],
          "scatter3d": [
           {
            "line": {
             "colorbar": {
              "outlinewidth": 0,
              "ticks": ""
             }
            },
            "marker": {
             "colorbar": {
              "outlinewidth": 0,
              "ticks": ""
             }
            },
            "type": "scatter3d"
           }
          ],
          "scattercarpet": [
           {
            "marker": {
             "colorbar": {
              "outlinewidth": 0,
              "ticks": ""
             }
            },
            "type": "scattercarpet"
           }
          ],
          "scattergeo": [
           {
            "marker": {
             "colorbar": {
              "outlinewidth": 0,
              "ticks": ""
             }
            },
            "type": "scattergeo"
           }
          ],
          "scattergl": [
           {
            "marker": {
             "colorbar": {
              "outlinewidth": 0,
              "ticks": ""
             }
            },
            "type": "scattergl"
           }
          ],
          "scattermapbox": [
           {
            "marker": {
             "colorbar": {
              "outlinewidth": 0,
              "ticks": ""
             }
            },
            "type": "scattermapbox"
           }
          ],
          "scatterpolar": [
           {
            "marker": {
             "colorbar": {
              "outlinewidth": 0,
              "ticks": ""
             }
            },
            "type": "scatterpolar"
           }
          ],
          "scatterpolargl": [
           {
            "marker": {
             "colorbar": {
              "outlinewidth": 0,
              "ticks": ""
             }
            },
            "type": "scatterpolargl"
           }
          ],
          "scatterternary": [
           {
            "marker": {
             "colorbar": {
              "outlinewidth": 0,
              "ticks": ""
             }
            },
            "type": "scatterternary"
           }
          ],
          "surface": [
           {
            "colorbar": {
             "outlinewidth": 0,
             "ticks": ""
            },
            "colorscale": [
             [
              0,
              "#0d0887"
             ],
             [
              0.1111111111111111,
              "#46039f"
             ],
             [
              0.2222222222222222,
              "#7201a8"
             ],
             [
              0.3333333333333333,
              "#9c179e"
             ],
             [
              0.4444444444444444,
              "#bd3786"
             ],
             [
              0.5555555555555556,
              "#d8576b"
             ],
             [
              0.6666666666666666,
              "#ed7953"
             ],
             [
              0.7777777777777778,
              "#fb9f3a"
             ],
             [
              0.8888888888888888,
              "#fdca26"
             ],
             [
              1,
              "#f0f921"
             ]
            ],
            "type": "surface"
           }
          ],
          "table": [
           {
            "cells": {
             "fill": {
              "color": "#EBF0F8"
             },
             "line": {
              "color": "white"
             }
            },
            "header": {
             "fill": {
              "color": "#C8D4E3"
             },
             "line": {
              "color": "white"
             }
            },
            "type": "table"
           }
          ]
         },
         "layout": {
          "annotationdefaults": {
           "arrowcolor": "#2a3f5f",
           "arrowhead": 0,
           "arrowwidth": 1
          },
          "autotypenumbers": "strict",
          "coloraxis": {
           "colorbar": {
            "outlinewidth": 0,
            "ticks": ""
           }
          },
          "colorscale": {
           "diverging": [
            [
             0,
             "#8e0152"
            ],
            [
             0.1,
             "#c51b7d"
            ],
            [
             0.2,
             "#de77ae"
            ],
            [
             0.3,
             "#f1b6da"
            ],
            [
             0.4,
             "#fde0ef"
            ],
            [
             0.5,
             "#f7f7f7"
            ],
            [
             0.6,
             "#e6f5d0"
            ],
            [
             0.7,
             "#b8e186"
            ],
            [
             0.8,
             "#7fbc41"
            ],
            [
             0.9,
             "#4d9221"
            ],
            [
             1,
             "#276419"
            ]
           ],
           "sequential": [
            [
             0,
             "#0d0887"
            ],
            [
             0.1111111111111111,
             "#46039f"
            ],
            [
             0.2222222222222222,
             "#7201a8"
            ],
            [
             0.3333333333333333,
             "#9c179e"
            ],
            [
             0.4444444444444444,
             "#bd3786"
            ],
            [
             0.5555555555555556,
             "#d8576b"
            ],
            [
             0.6666666666666666,
             "#ed7953"
            ],
            [
             0.7777777777777778,
             "#fb9f3a"
            ],
            [
             0.8888888888888888,
             "#fdca26"
            ],
            [
             1,
             "#f0f921"
            ]
           ],
           "sequentialminus": [
            [
             0,
             "#0d0887"
            ],
            [
             0.1111111111111111,
             "#46039f"
            ],
            [
             0.2222222222222222,
             "#7201a8"
            ],
            [
             0.3333333333333333,
             "#9c179e"
            ],
            [
             0.4444444444444444,
             "#bd3786"
            ],
            [
             0.5555555555555556,
             "#d8576b"
            ],
            [
             0.6666666666666666,
             "#ed7953"
            ],
            [
             0.7777777777777778,
             "#fb9f3a"
            ],
            [
             0.8888888888888888,
             "#fdca26"
            ],
            [
             1,
             "#f0f921"
            ]
           ]
          },
          "colorway": [
           "#636efa",
           "#EF553B",
           "#00cc96",
           "#ab63fa",
           "#FFA15A",
           "#19d3f3",
           "#FF6692",
           "#B6E880",
           "#FF97FF",
           "#FECB52"
          ],
          "font": {
           "color": "#2a3f5f"
          },
          "geo": {
           "bgcolor": "white",
           "lakecolor": "white",
           "landcolor": "#E5ECF6",
           "showlakes": true,
           "showland": true,
           "subunitcolor": "white"
          },
          "hoverlabel": {
           "align": "left"
          },
          "hovermode": "closest",
          "mapbox": {
           "style": "light"
          },
          "paper_bgcolor": "white",
          "plot_bgcolor": "#E5ECF6",
          "polar": {
           "angularaxis": {
            "gridcolor": "white",
            "linecolor": "white",
            "ticks": ""
           },
           "bgcolor": "#E5ECF6",
           "radialaxis": {
            "gridcolor": "white",
            "linecolor": "white",
            "ticks": ""
           }
          },
          "scene": {
           "xaxis": {
            "backgroundcolor": "#E5ECF6",
            "gridcolor": "white",
            "gridwidth": 2,
            "linecolor": "white",
            "showbackground": true,
            "ticks": "",
            "zerolinecolor": "white"
           },
           "yaxis": {
            "backgroundcolor": "#E5ECF6",
            "gridcolor": "white",
            "gridwidth": 2,
            "linecolor": "white",
            "showbackground": true,
            "ticks": "",
            "zerolinecolor": "white"
           },
           "zaxis": {
            "backgroundcolor": "#E5ECF6",
            "gridcolor": "white",
            "gridwidth": 2,
            "linecolor": "white",
            "showbackground": true,
            "ticks": "",
            "zerolinecolor": "white"
           }
          },
          "shapedefaults": {
           "line": {
            "color": "#2a3f5f"
           }
          },
          "ternary": {
           "aaxis": {
            "gridcolor": "white",
            "linecolor": "white",
            "ticks": ""
           },
           "baxis": {
            "gridcolor": "white",
            "linecolor": "white",
            "ticks": ""
           },
           "bgcolor": "#E5ECF6",
           "caxis": {
            "gridcolor": "white",
            "linecolor": "white",
            "ticks": ""
           }
          },
          "title": {
           "x": 0.05
          },
          "xaxis": {
           "automargin": true,
           "gridcolor": "white",
           "linecolor": "white",
           "ticks": "",
           "title": {
            "standoff": 15
           },
           "zerolinecolor": "white",
           "zerolinewidth": 2
          },
          "yaxis": {
           "automargin": true,
           "gridcolor": "white",
           "linecolor": "white",
           "ticks": "",
           "title": {
            "standoff": 15
           },
           "zerolinecolor": "white",
           "zerolinewidth": 2
          }
         }
        },
        "title": {
         "text": "Bias across categories: positive - bias to women, negative - bias to men"
        },
        "xaxis": {
         "autorange": true,
         "range": [
          -0.5,
          12.5
         ],
         "type": "category"
        },
        "yaxis": {
         "autorange": true,
         "range": [
          -0.11966768136391273,
          0.015853565472822923
         ],
         "type": "linear"
        }
       }
      },
      "image/png": "[encoded data removed]",
      "text/html": [
       "<div>                            <div id=\"70d1bf64-b36c-4776-a508-8d56093eeabf\" class=\"plotly-graph-div\" style=\"height:525px; width:100%;\"></div>            <script type=\"text/javascript\">                require([\"plotly\"], function(Plotly) {                    window.PLOTLYENV=window.PLOTLYENV || {};                                    if (document.getElementById(\"70d1bf64-b36c-4776-a508-8d56093eeabf\")) {                    Plotly.newPlot(                        \"70d1bf64-b36c-4776-a508-8d56093eeabf\",                        [{\"name\":\"Better Call Saul\",\"x\":[\"affect\",\"posemo\",\"negemo\",\"social\",\"family\",\"cogproc\",\"percept\",\"body\",\"work\",\"leisure\",\"money\",\"relig\",\"occupation\"],\"y\":[-0.07551243943525544,-0.08148739821668985,-0.07225807421449301,-0.06289331887357978,-0.1066883574513828,-0.08494009981232305,-0.08178355769046301,-0.0658113562635013,-0.03727474764865987,-0.08561244143380059,-0.05492237661824082,-0.06038182161071084,-0.11289161902207595],\"type\":\"bar\"},{\"name\":\"Orange is the New Black\",\"x\":[\"affect\",\"posemo\",\"negemo\",\"social\",\"family\",\"cogproc\",\"percept\",\"body\",\"work\",\"leisure\",\"money\",\"relig\",\"occupation\"],\"y\":[0.008355735928988924,0.009077503130986141,0.007605098038911819,-0.0020761081370814093,-0.0005254652351140976,0.002642133305748026,0.007676609769100096,0.004728443506691191,-0.0007652938365936279,0.00025456249713897707,0.008863687515258789,0.003846467783053716,-0.0028799939900636673],\"type\":\"bar\"}],                        {\"template\":{\"data\":{\"bar\":[{\"error_x\":{\"color\":\"#2a3f5f\"},\"error_y\":{\"color\":\"#2a3f5f\"},\"marker\":{\"line\":{\"color\":\"#E5ECF6\",\"width\":0.5},\"pattern\":{\"fillmode\":\"overlay\",\"size\":10,\"solidity\":0.2}},\"type\":\"bar\"}],\"barpolar\":[{\"marker\":{\"line\":{\"color\":\"#E5ECF6\",\"width\":0.5},\"pattern\":{\"fillmode\":\"overlay\",\"size\":10,\"solidity\":0.2}},\"type\":\"barpolar\"}],\"carpet\":[{\"aaxis\":{\"endlinecolor\":\"#2a3f5f\",\"gridcolor\":\"white\",\"linecolor\":\"white\",\"minorgridcolor\":\"white\",\"startlinecolor\":\"#2a3f5f\"},\"baxis\":{\"endlinecolor\":\"#2a3f5f\",\"gridcolor\":\"white\",\"linecolor\":\"white\",\"minorgridcolor\":\"white\",\"startlinecolor\":\"#2a3f5f\"},\"type\":\"carpet\"}],\"choropleth\":[{\"colorbar\":{\"outlinewidth\":0,\"ticks\":\"\"},\"type\":\"choropleth\"}],\"contour\":[{\"colorbar\":{\"outlinewidth\":0,\"ticks\":\"\"},\"colorscale\":[[0.0,\"#0d0887\"],[0.1111111111111111,\"#46039f\"],[0.2222222222222222,\"#7201a8\"],[0.3333333333333333,\"#9c179e\"],[0.4444444444444444,\"#bd3786\"],[0.5555555555555556,\"#d8576b\"],[0.6666666666666666,\"#ed7953\"],[0.7777777777777778,\"#fb9f3a\"],[0.8888888888888888,\"#fdca26\"],[1.0,\"#f0f921\"]],\"type\":\"contour\"}],\"contourcarpet\":[{\"colorbar\":{\"outlinewidth\":0,\"ticks\":\"\"},\"type\":\"contourcarpet\"}],\"heatmap\":[{\"colorbar\":{\"outlinewidth\":0,\"ticks\":\"\"},\"colorscale\":[[0.0,\"#0d0887\"],[0.1111111111111111,\"#46039f\"],[0.2222222222222222,\"#7201a8\"],[0.3333333333333333,\"#9c179e\"],[0.4444444444444444,\"#bd3786\"],[0.5555555555555556,\"#d8576b\"],[0.6666666666666666,\"#ed7953\"],[0.7777777777777778,\"#fb9f3a\"],[0.8888888888888888,\"#fdca26\"],[1.0,\"#f0f921\"]],\"type\":\"heatmap\"}],\"heatmapgl\":[{\"colorbar\":{\"outlinewidth\":0,\"ticks\":\"\"},\"colorscale\":[[0.0,\"#0d0887\"],[0.1111111111111111,\"#46039f\"],[0.2222222222222222,\"#7201a8\"],[0.3333333333333333,\"#9c179e\"],[0.4444444444444444,\"#bd3786\"],[0.5555555555555556,\"#d8576b\"],[0.6666666666666666,\"#ed7953\"],[0.7777777777777778,\"#fb9f3a\"],[0.8888888888888888,\"#fdca26\"],[1.0,\"#f0f921\"]],\"type\":\"heatmapgl\"}],\"histogram\":[{\"marker\":{\"pattern\":{\"fillmode\":\"overlay\",\"size\":10,\"solidity\":0.2}},\"type\":\"histogram\"}],\"histogram2d\":[{\"colorbar\":{\"outlinewidth\":0,\"ticks\":\"\"},\"colorscale\":[[0.0,\"#0d0887\"],[0.1111111111111111,\"#46039f\"],[0.2222222222222222,\"#7201a8\"],[0.3333333333333333,\"#9c179e\"],[0.4444444444444444,\"#bd3786\"],[0.5555555555555556,\"#d8576b\"],[0.6666666666666666,\"#ed7953\"],[0.7777777777777778,\"#fb9f3a\"],[0.8888888888888888,\"#fdca26\"],[1.0,\"#f0f921\"]],\"type\":\"histogram2d\"}],\"histogram2dcontour\":[{\"colorbar\":{\"outlinewidth\":0,\"ticks\":\"\"},\"colorscale\":[[0.0,\"#0d0887\"],[0.1111111111111111,\"#46039f\"],[0.2222222222222222,\"#7201a8\"],[0.3333333333333333,\"#9c179e\"],[0.4444444444444444,\"#bd3786\"],[0.5555555555555556,\"#d8576b\"],[0.6666666666666666,\"#ed7953\"],[0.7777777777777778,\"#fb9f3a\"],[0.8888888888888888,\"#fdca26\"],[1.0,\"#f0f921\"]],\"type\":\"histogram2dcontour\"}],\"mesh3d\":[{\"colorbar\":{\"outlinewidth\":0,\"ticks\":\"\"},\"type\":\"mesh3d\"}],\"parcoords\":[{\"line\":{\"colorbar\":{\"outlinewidth\":0,\"ticks\":\"\"}},\"type\":\"parcoords\"}],\"pie\":[{\"automargin\":true,\"type\":\"pie\"}],\"scatter\":[{\"marker\":{\"colorbar\":{\"outlinewidth\":0,\"ticks\":\"\"}},\"type\":\"scatter\"}],\"scatter3d\":[{\"line\":{\"colorbar\":{\"outlinewidth\":0,\"ticks\":\"\"}},\"marker\":{\"colorbar\":{\"outlinewidth\":0,\"ticks\":\"\"}},\"type\":\"scatter3d\"}],\"scattercarpet\":[{\"marker\":{\"colorbar\":{\"outlinewidth\":0,\"ticks\":\"\"}},\"type\":\"scattercarpet\"}],\"scattergeo\":[{\"marker\":{\"colorbar\":{\"outlinewidth\":0,\"ticks\":\"\"}},\"type\":\"scattergeo\"}],\"scattergl\":[{\"marker\":{\"colorbar\":{\"outlinewidth\":0,\"ticks\":\"\"}},\"type\":\"scattergl\"}],\"scattermapbox\":[{\"marker\":{\"colorbar\":{\"outlinewidth\":0,\"ticks\":\"\"}},\"type\":\"scattermapbox\"}],\"scatterpolar\":[{\"marker\":{\"colorbar\":{\"outlinewidth\":0,\"ticks\":\"\"}},\"type\":\"scatterpolar\"}],\"scatterpolargl\":[{\"marker\":{\"colorbar\":{\"outlinewidth\":0,\"ticks\":\"\"}},\"type\":\"scatterpolargl\"}],\"scatterternary\":[{\"marker\":{\"colorbar\":{\"outlinewidth\":0,\"ticks\":\"\"}},\"type\":\"scatterternary\"}],\"surface\":[{\"colorbar\":{\"outlinewidth\":0,\"ticks\":\"\"},\"colorscale\":[[0.0,\"#0d0887\"],[0.1111111111111111,\"#46039f\"],[0.2222222222222222,\"#7201a8\"],[0.3333333333333333,\"#9c179e\"],[0.4444444444444444,\"#bd3786\"],[0.5555555555555556,\"#d8576b\"],[0.6666666666666666,\"#ed7953\"],[0.7777777777777778,\"#fb9f3a\"],[0.8888888888888888,\"#fdca26\"],[1.0,\"#f0f921\"]],\"type\":\"surface\"}],\"table\":[{\"cells\":{\"fill\":{\"color\":\"#EBF0F8\"},\"line\":{\"color\":\"white\"}},\"header\":{\"fill\":{\"color\":\"#C8D4E3\"},\"line\":{\"color\":\"white\"}},\"type\":\"table\"}]},\"layout\":{\"annotationdefaults\":{\"arrowcolor\":\"#2a3f5f\",\"arrowhead\":0,\"arrowwidth\":1},\"autotypenumbers\":\"strict\",\"coloraxis\":{\"colorbar\":{\"outlinewidth\":0,\"ticks\":\"\"}},\"colorscale\":{\"diverging\":[[0,\"#8e0152\"],[0.1,\"#c51b7d\"],[0.2,\"#de77ae\"],[0.3,\"#f1b6da\"],[0.4,\"#fde0ef\"],[0.5,\"#f7f7f7\"],[0.6,\"#e6f5d0\"],[0.7,\"#b8e186\"],[0.8,\"#7fbc41\"],[0.9,\"#4d9221\"],[1,\"#276419\"]],\"sequential\":[[0.0,\"#0d0887\"],[0.1111111111111111,\"#46039f\"],[0.2222222222222222,\"#7201a8\"],[0.3333333333333333,\"#9c179e\"],[0.4444444444444444,\"#bd3786\"],[0.5555555555555556,\"#d8576b\"],[0.6666666666666666,\"#ed7953\"],[0.7777777777777778,\"#fb9f3a\"],[0.8888888888888888,\"#fdca26\"],[1.0,\"#f0f921\"]],\"sequentialminus\":[[0.0,\"#0d0887\"],[0.1111111111111111,\"#46039f\"],[0.2222222222222222,\"#7201a8\"],[0.3333333333333333,\"#9c179e\"],[0.4444444444444444,\"#bd3786\"],[0.5555555555555556,\"#d8576b\"],[0.6666666666666666,\"#ed7953\"],[0.7777777777777778,\"#fb9f3a\"],[0.8888888888888888,\"#fdca26\"],[1.0,\"#f0f921\"]]},\"colorway\":[\"#636efa\",\"#EF553B\",\"#00cc96\",\"#ab63fa\",\"#FFA15A\",\"#19d3f3\",\"#FF6692\",\"#B6E880\",\"#FF97FF\",\"#FECB52\"],\"font\":{\"color\":\"#2a3f5f\"},\"geo\":{\"bgcolor\":\"white\",\"lakecolor\":\"white\",\"landcolor\":\"#E5ECF6\",\"showlakes\":true,\"showland\":true,\"subunitcolor\":\"white\"},\"hoverlabel\":{\"align\":\"left\"},\"hovermode\":\"closest\",\"mapbox\":{\"style\":\"light\"},\"paper_bgcolor\":\"white\",\"plot_bgcolor\":\"#E5ECF6\",\"polar\":{\"angularaxis\":{\"gridcolor\":\"white\",\"linecolor\":\"white\",\"ticks\":\"\"},\"bgcolor\":\"#E5ECF6\",\"radialaxis\":{\"gridcolor\":\"white\",\"linecolor\":\"white\",\"ticks\":\"\"}},\"scene\":{\"xaxis\":{\"backgroundcolor\":\"#E5ECF6\",\"gridcolor\":\"white\",\"gridwidth\":2,\"linecolor\":\"white\",\"showbackground\":true,\"ticks\":\"\",\"zerolinecolor\":\"white\"},\"yaxis\":{\"backgroundcolor\":\"#E5ECF6\",\"gridcolor\":\"white\",\"gridwidth\":2,\"linecolor\":\"white\",\"showbackground\":true,\"ticks\":\"\",\"zerolinecolor\":\"white\"},\"zaxis\":{\"backgroundcolor\":\"#E5ECF6\",\"gridcolor\":\"white\",\"gridwidth\":2,\"linecolor\":\"white\",\"showbackground\":true,\"ticks\":\"\",\"zerolinecolor\":\"white\"}},\"shapedefaults\":{\"line\":{\"color\":\"#2a3f5f\"}},\"ternary\":{\"aaxis\":{\"gridcolor\":\"white\",\"linecolor\":\"white\",\"ticks\":\"\"},\"baxis\":{\"gridcolor\":\"white\",\"linecolor\":\"white\",\"ticks\":\"\"},\"bgcolor\":\"#E5ECF6\",\"caxis\":{\"gridcolor\":\"white\",\"linecolor\":\"white\",\"ticks\":\"\"}},\"title\":{\"x\":0.05},\"xaxis\":{\"automargin\":true,\"gridcolor\":\"white\",\"linecolor\":\"white\",\"ticks\":\"\",\"title\":{\"standoff\":15},\"zerolinecolor\":\"white\",\"zerolinewidth\":2},\"yaxis\":{\"automargin\":true,\"gridcolor\":\"white\",\"linecolor\":\"white\",\"ticks\":\"\",\"title\":{\"standoff\":15},\"zerolinecolor\":\"white\",\"zerolinewidth\":2}}},\"title\":{\"text\":\"Bias across categories: positive - bias to women, negative - bias to men\"},\"barmode\":\"group\"},                        {\"responsive\": true}                    ).then(function(){\n",
       "                            \n",
       "var gd = document.getElementById('70d1bf64-b36c-4776-a508-8d56093eeabf');\n",
       "var x = new MutationObserver(function (mutations, observer) {{\n",
       "        var display = window.getComputedStyle(gd).display;\n",
       "        if (!display || display === 'none') {{\n",
       "            console.log([gd, 'removed!']);\n",
       "            Plotly.purge(gd);\n",
       "            observer.disconnect();\n",
       "        }}\n",
       "}});\n",
       "\n",
       "// Listen for the removal of the full notebook cells\n",
       "var notebookContainer = gd.closest('#notebook-container');\n",
       "if (notebookContainer) {{\n",
       "    x.observe(notebookContainer, {childList: true});\n",
       "}}\n",
       "\n",
       "// Listen for the clearing of the current output cell\n",
       "var outputEl = gd.closest('.output');\n",
       "if (outputEl) {{\n",
       "    x.observe(outputEl, {childList: true});\n",
       "}}\n",
       "\n",
       "                        })                };                });            </script>        </div>"
      ]
     },
     "metadata": {},
     "output_type": "display_data"
    }
   ],
   "source": [
    "visualize_categories(result.index, result.iloc[:, 0].values, result.iloc[:, 2].values) #visualize categories"
   ]
  },
  {
   "cell_type": "markdown",
   "id": "cd69273e-dd3b-4103-9822-d1c276dc55b4",
   "metadata": {},
   "source": [
    "Firstly, let me start with the total mean across the categories. The mean of bias for the Better Call Saul discussions is -0.07 - negative - and on the other hand, the mean for Orange is the New Black discussions is 0.003. This supports my hypothesis that the Better Call Saul show consists primarily of male actors and thus the discussion is biased towards men. Contrary, Orange is the New Black show consists of female actors, thus the discussion is biased more towards women. There is an expected difference between the shows, however, I would expect the show Orange is the New Black reddit discussion to be biased more towards women than it is. Now we can see just a slight positive bias towards women. I think this could be explained by the distribution of Reddit users which are mostly males and thus, they could focus more on males. Moreover, in this show, if I remember correctly, there was a huge problem with some men e.g. Larry, so the users might emphasize this issue in discussions, and thus, the bias is not that big as expected. To sum up, even though my results are not statistically significant I believe that I can confirm that the discussion reflects the distribution of actors in the show. When looking at the categories itself I found two interesting categories: positive emotions and affect.\n",
    "\n",
    "Note:\n",
    "It seems that in the discussions about Better Call Saul show words such as smart, intilligent are biased towards men and words such as support, loves are biased towards women. On the other hand, words such as love, happy are biased more towards women in discussion in Orange is the New Black subreddit and words such as okay, cut good are biased towards men. Similar thing can be found with affect and other categories. I would call this effect characterizing gender in a good light -> in better call Saul the men and the women in Orange is the New Black."
   ]
  },
  {
   "cell_type": "code",
   "execution_count": 47,
   "id": "0013ca6a-c4fb-4d3b-826f-4e7b3eb077c3",
   "metadata": {},
   "outputs": [
    {
     "name": "stdout",
     "output_type": "stream",
     "text": [
      "love           0.033701\n",
      "definitely     0.034613\n",
      "loved          0.035648\n",
      "interesting    0.036486\n",
      "happy          0.036645\n",
      "dtype: float64\n",
      "care        -0.034803\n",
      "good        -0.026816\n",
      "better      -0.017150\n",
      "okay        -0.014721\n",
      "important   -0.013015\n",
      "dtype: float64\n",
      "perfect    0.085396\n",
      "truth      0.101027\n",
      "accept     0.105477\n",
      "loves      0.128891\n",
      "support    0.189420\n",
      "dtype: float64\n",
      "smart         -0.301749\n",
      "intelligent   -0.283133\n",
      "well          -0.271228\n",
      "definitely    -0.229053\n",
      "cool          -0.224262\n",
      "dtype: float64\n"
     ]
    }
   ],
   "source": [
    "print(dic_ob[\"posemo\"].sort_values().tail())\n",
    "print(dic_ob[\"posemo\"].sort_values().head())\n",
    "print(dic_bcs[\"posemo\"].sort_values().tail())\n",
    "print(dic_bcs[\"posemo\"].sort_values().head())"
   ]
  },
  {
   "cell_type": "code",
   "execution_count": 48,
   "id": "8e897c15-ecd2-44df-8e79-93b9b5dd3b74",
   "metadata": {},
   "outputs": [
    {
     "name": "stdout",
     "output_type": "stream",
     "text": [
      "loved          0.035648\n",
      "bad            0.036084\n",
      "interesting    0.036486\n",
      "happy          0.036645\n",
      "crazy          0.040636\n",
      "dtype: float64\n",
      "care     -0.034803\n",
      "good     -0.026816\n",
      "cut      -0.021022\n",
      "better   -0.017150\n",
      "okay     -0.014721\n",
      "dtype: float64\n",
      "lied       0.128724\n",
      "loves      0.128891\n",
      "willing    0.134978\n",
      "wrong      0.148886\n",
      "support    0.189420\n",
      "dtype: float64\n",
      "kill          -0.336551\n",
      "smart         -0.301749\n",
      "revenge       -0.287457\n",
      "intelligent   -0.283133\n",
      "well          -0.271228\n",
      "dtype: float64\n"
     ]
    }
   ],
   "source": [
    "print(dic_ob[\"affect\"].sort_values().tail())\n",
    "print(dic_ob[\"affect\"].sort_values().head())\n",
    "print(dic_bcs[\"affect\"].sort_values().tail())\n",
    "print(dic_bcs[\"affect\"].sort_values().head())"
   ]
  }
 ],
 "metadata": {
  "kernelspec": {
   "display_name": "Python 3 (ipykernel)",
   "language": "python",
   "name": "python3"
  },
  "language_info": {
   "codemirror_mode": {
    "name": "ipython",
    "version": 3
   },
   "file_extension": ".py",
   "mimetype": "text/x-python",
   "name": "python",
   "nbconvert_exporter": "python",
   "pygments_lexer": "ipython3",
   "version": "3.9.9"
  }
 },
 "nbformat": 4,
 "nbformat_minor": 5
}
